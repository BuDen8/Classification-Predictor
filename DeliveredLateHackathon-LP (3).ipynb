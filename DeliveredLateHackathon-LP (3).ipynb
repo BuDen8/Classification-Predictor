{
 "cells": [
  {
   "cell_type": "markdown",
   "id": "a9d75558-fcda-43c9-ac79-87f7f1517867",
   "metadata": {},
   "source": [
    "# Delivered Late Random Forest GAT Hackathon LP Code"
   ]
  },
  {
   "cell_type": "code",
   "execution_count": 88,
   "id": "f7ec03ee-5dac-445c-9bbf-7ddb9f968ad5",
   "metadata": {
    "tags": []
   },
   "outputs": [],
   "source": [
    "import numpy as np\n",
    "import pandas as pd\n",
    "\n",
    "import pickle\n",
    "\n",
    "import matplotlib.pyplot as plt\n",
    "import seaborn as sns\n",
    "\n",
    "from imblearn.over_sampling  import SMOTE\n",
    "from imblearn.pipeline import Pipeline as PipelineImb\n",
    "\n",
    "from sklearn import metrics\n",
    "from sklearn.linear_model import LogisticRegression\n",
    "from sklearn.ensemble import RandomForestClassifier\n",
    "from sklearn.preprocessing import OneHotEncoder, MinMaxScaler\n",
    "from sklearn.impute import SimpleImputer\n",
    "from sklearn.model_selection import train_test_split, GridSearchCV"
   ]
  },
  {
   "cell_type": "code",
   "execution_count": 89,
   "id": "da2fbeb5-75d0-436b-a8e3-f8d82d96a526",
   "metadata": {},
   "outputs": [],
   "source": [
    "from google.cloud.bigquery import Client"
   ]
  },
  {
   "cell_type": "code",
   "execution_count": 90,
   "id": "f82330ab-8ffb-40cd-9243-cb920504fa93",
   "metadata": {},
   "outputs": [],
   "source": [
    "bigquery_client = Client(project='wf-gcp-us-ae-gat-rpt')"
   ]
  },
  {
   "cell_type": "markdown",
   "id": "6024936a-d510-4fe2-9f62-7965f64ea0cd",
   "metadata": {},
   "source": [
    "### Querying Data"
   ]
  },
  {
   "cell_type": "code",
   "execution_count": 91,
   "id": "66ef79f6-b3fa-4ce0-b7ad-e99d787219d5",
   "metadata": {},
   "outputs": [],
   "source": [
    "sql = \"\"\"\n",
    "select a.*,OpcVol,OpcWeight,case when ship_to_first_movement_hour<=0 then 1\n",
    "when ship_to_first_movement_hour<=4 and ship_to_first_movement_hour>0 then 2\n",
    "else 3 end as quantile_ship_to_first_movement,\n",
    "case when order_to_delivery_stated_day<3 then 1\n",
    "when order_to_delivery_stated_day<5 and order_to_delivery_stated_day>=3 then 2\n",
    "when order_to_delivery_stated_day<9 and order_to_delivery_stated_day>=5 then 3\n",
    "when order_to_delivery_stated_day<13 and order_to_delivery_stated_day>=9 then 4\n",
    "else 5 end as quantile_order_to_delivery_stated from `wf-gcp-us-ae-ops-prod.analyticstech_adhoc.tbl_summer_hackathon_delivery_late_lp` a\n",
    "LEFT JOIN (select distinct opcopid,max(OpcHeight*OpcWidth*OpcDepth) as OpcVol,max(OpcWeight) as OpcWeight from `wf-gcp-us-ae-sql-data-prod.csn_order.tbl_order_product_carton` group by 1 order by 1) b on a.opid=b.opcopID\n",
    "\"\"\""
   ]
  },
  {
   "cell_type": "code",
   "execution_count": 92,
   "id": "7268c0f2-6118-4997-9f94-f5aedef04def",
   "metadata": {},
   "outputs": [],
   "source": [
    "df=bigquery_client.query(sql).to_dataframe()"
   ]
  },
  {
   "cell_type": "code",
   "execution_count": 93,
   "id": "45b776b1-3e8f-4c25-8bd5-f1780d3af7a1",
   "metadata": {
    "collapsed": true,
    "jupyter": {
     "outputs_hidden": true
    },
    "tags": []
   },
   "outputs": [
    {
     "data": {
      "text/html": [
       "<div>\n",
       "<style scoped>\n",
       "    .dataframe tbody tr th:only-of-type {\n",
       "        vertical-align: middle;\n",
       "    }\n",
       "\n",
       "    .dataframe tbody tr th {\n",
       "        vertical-align: top;\n",
       "    }\n",
       "\n",
       "    .dataframe thead th {\n",
       "        text-align: right;\n",
       "    }\n",
       "</style>\n",
       "<table border=\"1\" class=\"dataframe\">\n",
       "  <thead>\n",
       "    <tr style=\"text-align: right;\">\n",
       "      <th></th>\n",
       "      <th>ponum</th>\n",
       "      <th>opid</th>\n",
       "      <th>orderdate</th>\n",
       "      <th>orderdatetimestamp</th>\n",
       "      <th>SupplierId</th>\n",
       "      <th>Dom_Int</th>\n",
       "      <th>MkcID</th>\n",
       "      <th>mkcname</th>\n",
       "      <th>shipclass</th>\n",
       "      <th>shipdate</th>\n",
       "      <th>...</th>\n",
       "      <th>order_to_delivery_stated_day</th>\n",
       "      <th>hour_of_order_date</th>\n",
       "      <th>ship_ontime_cu</th>\n",
       "      <th>ship_ontime_su</th>\n",
       "      <th>deliveredlate</th>\n",
       "      <th>ServiceLevel</th>\n",
       "      <th>OpcVol</th>\n",
       "      <th>OpcWeight</th>\n",
       "      <th>quantile_ship_to_first_movement</th>\n",
       "      <th>quantile_order_to_delivery_stated</th>\n",
       "    </tr>\n",
       "  </thead>\n",
       "  <tbody>\n",
       "    <tr>\n",
       "      <th>0</th>\n",
       "      <td>362803261</td>\n",
       "      <td>6026465035</td>\n",
       "      <td>2021-10-15</td>\n",
       "      <td>2021-10-15 14:34:35</td>\n",
       "      <td>34009</td>\n",
       "      <td>None</td>\n",
       "      <td>31</td>\n",
       "      <td>Upholstery - Core</td>\n",
       "      <td>2</td>\n",
       "      <td>2021-10-20 05:03:48</td>\n",
       "      <td>...</td>\n",
       "      <td>9.0</td>\n",
       "      <td>14</td>\n",
       "      <td>NaN</td>\n",
       "      <td>1</td>\n",
       "      <td>NaN</td>\n",
       "      <td>None</td>\n",
       "      <td>NaN</td>\n",
       "      <td>NaN</td>\n",
       "      <td>3</td>\n",
       "      <td>4</td>\n",
       "    </tr>\n",
       "    <tr>\n",
       "      <th>1</th>\n",
       "      <td>361885205</td>\n",
       "      <td>6041500442</td>\n",
       "      <td>2021-10-10</td>\n",
       "      <td>2021-10-10 13:04:18</td>\n",
       "      <td>42283</td>\n",
       "      <td>None</td>\n",
       "      <td>31</td>\n",
       "      <td>Upholstery - Core</td>\n",
       "      <td>2</td>\n",
       "      <td>2021-10-10 23:22:49</td>\n",
       "      <td>...</td>\n",
       "      <td>1.0</td>\n",
       "      <td>13</td>\n",
       "      <td>NaN</td>\n",
       "      <td>0</td>\n",
       "      <td>NaN</td>\n",
       "      <td>StANDard</td>\n",
       "      <td>98040.0</td>\n",
       "      <td>165.0</td>\n",
       "      <td>2</td>\n",
       "      <td>1</td>\n",
       "    </tr>\n",
       "    <tr>\n",
       "      <th>2</th>\n",
       "      <td>361476350</td>\n",
       "      <td>6036556979</td>\n",
       "      <td>2021-10-07</td>\n",
       "      <td>2021-10-07 23:14:48</td>\n",
       "      <td>42974</td>\n",
       "      <td>None</td>\n",
       "      <td>62</td>\n",
       "      <td>Furniture - Kitchen and Dining</td>\n",
       "      <td>2</td>\n",
       "      <td>2021-10-09 11:37:33</td>\n",
       "      <td>...</td>\n",
       "      <td>34.0</td>\n",
       "      <td>23</td>\n",
       "      <td>NaN</td>\n",
       "      <td>0</td>\n",
       "      <td>NaN</td>\n",
       "      <td>StANDard</td>\n",
       "      <td>NaN</td>\n",
       "      <td>NaN</td>\n",
       "      <td>2</td>\n",
       "      <td>5</td>\n",
       "    </tr>\n",
       "    <tr>\n",
       "      <th>3</th>\n",
       "      <td>362706593</td>\n",
       "      <td>6050798621</td>\n",
       "      <td>2021-10-14</td>\n",
       "      <td>2021-10-14 21:45:48</td>\n",
       "      <td>53175</td>\n",
       "      <td>None</td>\n",
       "      <td>31</td>\n",
       "      <td>Upholstery - Core</td>\n",
       "      <td>2</td>\n",
       "      <td>2021-10-16 06:56:01</td>\n",
       "      <td>...</td>\n",
       "      <td>4.0</td>\n",
       "      <td>21</td>\n",
       "      <td>NaN</td>\n",
       "      <td>0</td>\n",
       "      <td>NaN</td>\n",
       "      <td>StANDard</td>\n",
       "      <td>NaN</td>\n",
       "      <td>NaN</td>\n",
       "      <td>1</td>\n",
       "      <td>2</td>\n",
       "    </tr>\n",
       "    <tr>\n",
       "      <th>4</th>\n",
       "      <td>362723248</td>\n",
       "      <td>6050259707</td>\n",
       "      <td>2021-10-15</td>\n",
       "      <td>2021-10-15 00:08:02</td>\n",
       "      <td>27831</td>\n",
       "      <td>None</td>\n",
       "      <td>62</td>\n",
       "      <td>Furniture - Kitchen and Dining</td>\n",
       "      <td>2</td>\n",
       "      <td>2021-10-15 21:03:34</td>\n",
       "      <td>...</td>\n",
       "      <td>0.0</td>\n",
       "      <td>0</td>\n",
       "      <td>NaN</td>\n",
       "      <td>1</td>\n",
       "      <td>NaN</td>\n",
       "      <td>StANDard</td>\n",
       "      <td>NaN</td>\n",
       "      <td>NaN</td>\n",
       "      <td>2</td>\n",
       "      <td>1</td>\n",
       "    </tr>\n",
       "  </tbody>\n",
       "</table>\n",
       "<p>5 rows × 35 columns</p>\n",
       "</div>"
      ],
      "text/plain": [
       "       ponum        opid   orderdate   orderdatetimestamp  SupplierId Dom_Int  \\\n",
       "0  362803261  6026465035  2021-10-15  2021-10-15 14:34:35       34009    None   \n",
       "1  361885205  6041500442  2021-10-10  2021-10-10 13:04:18       42283    None   \n",
       "2  361476350  6036556979  2021-10-07  2021-10-07 23:14:48       42974    None   \n",
       "3  362706593  6050798621  2021-10-14  2021-10-14 21:45:48       53175    None   \n",
       "4  362723248  6050259707  2021-10-15  2021-10-15 00:08:02       27831    None   \n",
       "\n",
       "   MkcID                         mkcname  shipclass             shipdate  ...  \\\n",
       "0     31               Upholstery - Core          2  2021-10-20 05:03:48  ...   \n",
       "1     31               Upholstery - Core          2  2021-10-10 23:22:49  ...   \n",
       "2     62  Furniture - Kitchen and Dining          2  2021-10-09 11:37:33  ...   \n",
       "3     31               Upholstery - Core          2  2021-10-16 06:56:01  ...   \n",
       "4     62  Furniture - Kitchen and Dining          2  2021-10-15 21:03:34  ...   \n",
       "\n",
       "  order_to_delivery_stated_day hour_of_order_date ship_ontime_cu  \\\n",
       "0                          9.0                 14            NaN   \n",
       "1                          1.0                 13            NaN   \n",
       "2                         34.0                 23            NaN   \n",
       "3                          4.0                 21            NaN   \n",
       "4                          0.0                  0            NaN   \n",
       "\n",
       "   ship_ontime_su deliveredlate ServiceLevel   OpcVol OpcWeight  \\\n",
       "0               1           NaN         None      NaN       NaN   \n",
       "1               0           NaN     StANDard  98040.0     165.0   \n",
       "2               0           NaN     StANDard      NaN       NaN   \n",
       "3               0           NaN     StANDard      NaN       NaN   \n",
       "4               1           NaN     StANDard      NaN       NaN   \n",
       "\n",
       "  quantile_ship_to_first_movement quantile_order_to_delivery_stated  \n",
       "0                               3                                 4  \n",
       "1                               2                                 1  \n",
       "2                               2                                 5  \n",
       "3                               1                                 2  \n",
       "4                               2                                 1  \n",
       "\n",
       "[5 rows x 35 columns]"
      ]
     },
     "execution_count": 93,
     "metadata": {},
     "output_type": "execute_result"
    }
   ],
   "source": [
    "df.head()"
   ]
  },
  {
   "cell_type": "markdown",
   "id": "c52a315b-63b5-434a-9912-71aa06858cc7",
   "metadata": {},
   "source": [
    "### Looking at split between Delivered Late and not Late orders in database"
   ]
  },
  {
   "cell_type": "code",
   "execution_count": 7,
   "id": "0cb976be-cccd-4d1d-97c5-d163f6e515bf",
   "metadata": {},
   "outputs": [
    {
     "data": {
      "image/png": "[encoded data removed]",
      "text/plain": [
       "<Figure size 504x360 with 1 Axes>"
      ]
     },
     "metadata": {
      "needs_background": "light"
     },
     "output_type": "display_data"
    }
   ],
   "source": [
    "f, ax = plt.subplots(figsize=(7, 5))\n",
    "sns.countplot(x='deliveredlate', data=df)\n",
    "_ = plt.title('# Delivered Late v not Late')\n",
    "_ = plt.xlabel('DeliveredLate (1==Late)')"
   ]
  },
  {
   "cell_type": "markdown",
   "id": "5bc6a8f6-42f8-4a0b-be0a-43aef04c9064",
   "metadata": {},
   "source": [
    "### Removing NA delivered late orders and using mean/mode to substitue NAs from the numerical/categorical features resepectively"
   ]
  },
  {
   "cell_type": "code",
   "execution_count": 94,
   "id": "a5d29d5d-992a-4db3-9069-e55801a446dc",
   "metadata": {},
   "outputs": [],
   "source": [
    "df = df[df['deliveredlate'].notna()]"
   ]
  },
  {
   "cell_type": "code",
   "execution_count": 95,
   "id": "344da304-841b-40c8-8492-f80b558996c5",
   "metadata": {},
   "outputs": [],
   "source": [
    "# Filling missing numerical values with mean\n",
    "df['volume_last_48h'] = df['volume_last_48h'].fillna(df['volume_last_48h'].mean())"
   ]
  },
  {
   "cell_type": "code",
   "execution_count": 96,
   "id": "bf29ef94-ca3e-4e01-8f60-6249f3061a1b",
   "metadata": {},
   "outputs": [],
   "source": [
    "# Filling missing categorical values with mode\n",
    "df['whname'] = df['whname'].fillna(df['whname'].mode()[0])\n",
    "df['whname'] = df['whname'].apply(str)\n",
    "\n",
    "df['mkcname'] = df['mkcname'].fillna(df['mkcname'].mode()[0])\n",
    "\n",
    "\n",
    "df['quantile_ship_to_first_movement'] = df['quantile_ship_to_first_movement'].fillna(df['quantile_ship_to_first_movement'].mode()[0])\n",
    "\n",
    "df['quantile_order_to_delivery_stated'] = df['quantile_order_to_delivery_stated'].fillna(df['quantile_order_to_delivery_stated'].mode()[0])\n",
    "df['ServiceLevel'] = df['ServiceLevel'].fillna(df['ServiceLevel'].mode()[0])"
   ]
  },
  {
   "cell_type": "markdown",
   "id": "137be8c8-1730-45b5-9b8b-763793458115",
   "metadata": {},
   "source": [
    "### Looking at features to test how good they are at predicting Delivered Late individually and declaring categorical features as cat_fields"
   ]
  },
  {
   "cell_type": "code",
   "execution_count": 97,
   "id": "5413b6ca-5144-4a1f-951a-8a3c7bb0f14a",
   "metadata": {},
   "outputs": [],
   "source": [
    "X=df[['quantile_ship_to_first_movement','quantile_order_to_delivery_stated','volume_last_48h','volume_last_24h','whname','mkcname','ServiceLevel']]\n",
    "cat_fields = ['quantile_ship_to_first_movement','quantile_order_to_delivery_stated','whname', 'mkcname','ServiceLevel']"
   ]
  },
  {
   "cell_type": "code",
   "execution_count": 12,
   "id": "21035555-d32f-4f1c-beb7-af084cd0c628",
   "metadata": {},
   "outputs": [
    {
     "name": "stdout",
     "output_type": "stream",
     "text": [
      "col=quantile_ship_to_first_movement, auc=0.5333409768561069\n",
      "col=quantile_order_to_delivery_stated, auc=0.7626977114552618\n",
      "col=volume_last_48h, auc=0.5533172755308502\n",
      "col=volume_last_24h, auc=0.5423955710495669\n",
      "col=whname, auc=0.54946145353173\n",
      "col=mkcname, auc=0.525050209450769\n",
      "col=ServiceLevel, auc=0.5535557394031307\n"
     ]
    }
   ],
   "source": [
    "y = df['deliveredlate']\n",
    "\n",
    "list_models = list()\n",
    "for j, col in enumerate(X):\n",
    "    _X = pd.DataFrame(df[col]).reset_index(drop=True)\n",
    "    if col in cat_fields:\n",
    "        enc = OneHotEncoder(categories=\"auto\", handle_unknown=\"error\", drop='first', sparse=False)\n",
    "        _X_ohe = pd.DataFrame(enc.fit_transform(pd.DataFrame(_X)), columns=enc.get_feature_names_out()).reset_index(drop=True)\n",
    "        _X = pd.concat([_X.drop(columns=col, axis=1), _X_ohe], axis=1)\n",
    "\n",
    "    x_train, x_test, y_train, y_test = train_test_split(_X, y, train_size=0.8, random_state=42)\n",
    "    \n",
    "\n",
    "    _model = PipelineImb([\n",
    "\n",
    "             ('Imputer', SimpleImputer(missing_values=np.nan, strategy=\"median\")), \n",
    "             ('Scaling', MinMaxScaler(clip=True)),\n",
    "             ('RF', RandomForestClassifier(n_jobs=-1, oob_score = True, random_state=42))\n",
    "\n",
    "                ])\n",
    "\n",
    "    _model.fit(x_train, y_train)\n",
    "\n",
    "    y_pred_proba = _model.predict_proba(x_test)[::,1]\n",
    "    auc = metrics.roc_auc_score(y_test, y_pred_proba)\n",
    "    print(f'col={col}, auc={auc}')\n",
    "    \n",
    "    list_models.append((col, auc))\n",
    "\n",
    "df_list_models = pd.DataFrame(list_models, columns=['feature', 'AUC']).sort_values(by='AUC')"
   ]
  },
  {
   "cell_type": "markdown",
   "id": "1b034995-1499-48ab-889a-503f718afabc",
   "metadata": {},
   "source": [
    "### Check for Correlation between potential features to avoid highly correlated ones"
   ]
  },
  {
   "cell_type": "code",
   "execution_count": 98,
   "id": "ae289fc1-fc6f-492b-8c8e-fa2b46c33da4",
   "metadata": {
    "tags": []
   },
   "outputs": [
    {
     "data": {
      "image/png": "[encoded data removed]",
      "text/plain": [
       "<Figure size 1080x1080 with 2 Axes>"
      ]
     },
     "metadata": {
      "needs_background": "light"
     },
     "output_type": "display_data"
    }
   ],
   "source": [
    "num_feat=X[['volume_last_48h','volume_last_24h']]\n",
    "corr = num_feat.corr('pearson')\n",
    "mask = np.triu(corr)\n",
    "plt.figure(figsize=(15, 15))\n",
    "ax = sns.heatmap(\n",
    "    corr, \n",
    "    vmin=-1, vmax=1, center=0,\n",
    "    cmap=sns.diverging_palette(20, 220, n=100),\n",
    "    square=True,\n",
    "    mask=mask\n",
    ")\n",
    "plt.title('Correlation Matrix for Numerical features')\n",
    "plt.show()"
   ]
  },
  {
   "cell_type": "code",
   "execution_count": 99,
   "id": "ef992dff-df58-4004-a284-3740c13443e4",
   "metadata": {},
   "outputs": [],
   "source": [
    "features=['quantile_order_to_delivery_stated','volume_last_48h','whname','ServiceLevel']"
   ]
  },
  {
   "cell_type": "markdown",
   "id": "2b974955-94ea-4f71-ad7c-fb0456f1474f",
   "metadata": {
    "tags": []
   },
   "source": [
    "### Testing AUC Score of RF and LR models with different hyperparameters to identify best one"
   ]
  },
  {
   "cell_type": "code",
   "execution_count": 100,
   "id": "a8cd3bed-1885-4ece-a9c2-c785a1c6af3a",
   "metadata": {
    "collapsed": true,
    "jupyter": {
     "outputs_hidden": true
    },
    "tags": []
   },
   "outputs": [
    {
     "name": "stdout",
     "output_type": "stream",
     "text": [
      "Fitting 5 folds for each of 36 candidates, totalling 180 fits\n"
     ]
    },
    {
     "ename": "KeyboardInterrupt",
     "evalue": "",
     "output_type": "error",
     "traceback": [
      "\u001b[0;31m---------------------------------------------------------------------------\u001b[0m",
      "\u001b[0;31mKeyboardInterrupt\u001b[0m                         Traceback (most recent call last)",
      "\u001b[0;32m/tmp/ipykernel_12062/1961022306.py\u001b[0m in \u001b[0;36m<module>\u001b[0;34m\u001b[0m\n\u001b[1;32m     28\u001b[0m \u001b[0;31m# Searching best hyper-parametrization\u001b[0m\u001b[0;34m\u001b[0m\u001b[0;34m\u001b[0m\u001b[0;34m\u001b[0m\u001b[0m\n\u001b[1;32m     29\u001b[0m \u001b[0mCV_rf\u001b[0m \u001b[0;34m=\u001b[0m \u001b[0mGridSearchCV\u001b[0m\u001b[0;34m(\u001b[0m\u001b[0mmodel_rf\u001b[0m\u001b[0;34m,\u001b[0m \u001b[0mparam_grid\u001b[0m\u001b[0;34m=\u001b[0m\u001b[0mparam_grid_rf\u001b[0m\u001b[0;34m,\u001b[0m \u001b[0mcv\u001b[0m\u001b[0;34m=\u001b[0m\u001b[0;36m5\u001b[0m\u001b[0;34m,\u001b[0m \u001b[0mscoring\u001b[0m\u001b[0;34m=\u001b[0m\u001b[0;34m'roc_auc'\u001b[0m\u001b[0;34m,\u001b[0m \u001b[0mverbose\u001b[0m\u001b[0;34m=\u001b[0m\u001b[0;36m4\u001b[0m\u001b[0;34m)\u001b[0m\u001b[0;34m\u001b[0m\u001b[0;34m\u001b[0m\u001b[0m\n\u001b[0;32m---> 30\u001b[0;31m \u001b[0mres_rf\u001b[0m \u001b[0;34m=\u001b[0m \u001b[0mCV_rf\u001b[0m\u001b[0;34m.\u001b[0m\u001b[0mfit\u001b[0m\u001b[0;34m(\u001b[0m\u001b[0mX\u001b[0m\u001b[0;34m,\u001b[0m \u001b[0my\u001b[0m\u001b[0;34m)\u001b[0m\u001b[0;34m\u001b[0m\u001b[0;34m\u001b[0m\u001b[0m\n\u001b[0m\u001b[1;32m     31\u001b[0m \u001b[0;34m\u001b[0m\u001b[0m\n\u001b[1;32m     32\u001b[0m \u001b[0;34m\u001b[0m\u001b[0m\n",
      "\u001b[0;32m/opt/conda/lib/python3.7/site-packages/sklearn/model_selection/_search.py\u001b[0m in \u001b[0;36mfit\u001b[0;34m(self, X, y, groups, **fit_params)\u001b[0m\n\u001b[1;32m    889\u001b[0m                 \u001b[0;32mreturn\u001b[0m \u001b[0mresults\u001b[0m\u001b[0;34m\u001b[0m\u001b[0;34m\u001b[0m\u001b[0m\n\u001b[1;32m    890\u001b[0m \u001b[0;34m\u001b[0m\u001b[0m\n\u001b[0;32m--> 891\u001b[0;31m             \u001b[0mself\u001b[0m\u001b[0;34m.\u001b[0m\u001b[0m_run_search\u001b[0m\u001b[0;34m(\u001b[0m\u001b[0mevaluate_candidates\u001b[0m\u001b[0;34m)\u001b[0m\u001b[0;34m\u001b[0m\u001b[0;34m\u001b[0m\u001b[0m\n\u001b[0m\u001b[1;32m    892\u001b[0m \u001b[0;34m\u001b[0m\u001b[0m\n\u001b[1;32m    893\u001b[0m             \u001b[0;31m# multimetric is determined here because in the case of a callable\u001b[0m\u001b[0;34m\u001b[0m\u001b[0;34m\u001b[0m\u001b[0;34m\u001b[0m\u001b[0m\n",
      "\u001b[0;32m/opt/conda/lib/python3.7/site-packages/sklearn/model_selection/_search.py\u001b[0m in \u001b[0;36m_run_search\u001b[0;34m(self, evaluate_candidates)\u001b[0m\n\u001b[1;32m   1390\u001b[0m     \u001b[0;32mdef\u001b[0m \u001b[0m_run_search\u001b[0m\u001b[0;34m(\u001b[0m\u001b[0mself\u001b[0m\u001b[0;34m,\u001b[0m \u001b[0mevaluate_candidates\u001b[0m\u001b[0;34m)\u001b[0m\u001b[0;34m:\u001b[0m\u001b[0;34m\u001b[0m\u001b[0;34m\u001b[0m\u001b[0m\n\u001b[1;32m   1391\u001b[0m         \u001b[0;34m\"\"\"Search all candidates in param_grid\"\"\"\u001b[0m\u001b[0;34m\u001b[0m\u001b[0;34m\u001b[0m\u001b[0m\n\u001b[0;32m-> 1392\u001b[0;31m         \u001b[0mevaluate_candidates\u001b[0m\u001b[0;34m(\u001b[0m\u001b[0mParameterGrid\u001b[0m\u001b[0;34m(\u001b[0m\u001b[0mself\u001b[0m\u001b[0;34m.\u001b[0m\u001b[0mparam_grid\u001b[0m\u001b[0;34m)\u001b[0m\u001b[0;34m)\u001b[0m\u001b[0;34m\u001b[0m\u001b[0;34m\u001b[0m\u001b[0m\n\u001b[0m\u001b[1;32m   1393\u001b[0m \u001b[0;34m\u001b[0m\u001b[0m\n\u001b[1;32m   1394\u001b[0m \u001b[0;34m\u001b[0m\u001b[0m\n",
      "\u001b[0;32m/opt/conda/lib/python3.7/site-packages/sklearn/model_selection/_search.py\u001b[0m in \u001b[0;36mevaluate_candidates\u001b[0;34m(candidate_params, cv, more_results)\u001b[0m\n\u001b[1;32m    849\u001b[0m                     )\n\u001b[1;32m    850\u001b[0m                     for (cand_idx, parameters), (split_idx, (train, test)) in product(\n\u001b[0;32m--> 851\u001b[0;31m                         \u001b[0menumerate\u001b[0m\u001b[0;34m(\u001b[0m\u001b[0mcandidate_params\u001b[0m\u001b[0;34m)\u001b[0m\u001b[0;34m,\u001b[0m \u001b[0menumerate\u001b[0m\u001b[0;34m(\u001b[0m\u001b[0mcv\u001b[0m\u001b[0;34m.\u001b[0m\u001b[0msplit\u001b[0m\u001b[0;34m(\u001b[0m\u001b[0mX\u001b[0m\u001b[0;34m,\u001b[0m \u001b[0my\u001b[0m\u001b[0;34m,\u001b[0m \u001b[0mgroups\u001b[0m\u001b[0;34m)\u001b[0m\u001b[0;34m)\u001b[0m\u001b[0;34m\u001b[0m\u001b[0;34m\u001b[0m\u001b[0m\n\u001b[0m\u001b[1;32m    852\u001b[0m                     )\n\u001b[1;32m    853\u001b[0m                 )\n",
      "\u001b[0;32m/opt/conda/lib/python3.7/site-packages/joblib/parallel.py\u001b[0m in \u001b[0;36m__call__\u001b[0;34m(self, iterable)\u001b[0m\n\u001b[1;32m   1041\u001b[0m             \u001b[0;31m# remaining jobs.\u001b[0m\u001b[0;34m\u001b[0m\u001b[0;34m\u001b[0m\u001b[0;34m\u001b[0m\u001b[0m\n\u001b[1;32m   1042\u001b[0m             \u001b[0mself\u001b[0m\u001b[0;34m.\u001b[0m\u001b[0m_iterating\u001b[0m \u001b[0;34m=\u001b[0m \u001b[0;32mFalse\u001b[0m\u001b[0;34m\u001b[0m\u001b[0;34m\u001b[0m\u001b[0m\n\u001b[0;32m-> 1043\u001b[0;31m             \u001b[0;32mif\u001b[0m \u001b[0mself\u001b[0m\u001b[0;34m.\u001b[0m\u001b[0mdispatch_one_batch\u001b[0m\u001b[0;34m(\u001b[0m\u001b[0miterator\u001b[0m\u001b[0;34m)\u001b[0m\u001b[0;34m:\u001b[0m\u001b[0;34m\u001b[0m\u001b[0;34m\u001b[0m\u001b[0m\n\u001b[0m\u001b[1;32m   1044\u001b[0m                 \u001b[0mself\u001b[0m\u001b[0;34m.\u001b[0m\u001b[0m_iterating\u001b[0m \u001b[0;34m=\u001b[0m \u001b[0mself\u001b[0m\u001b[0;34m.\u001b[0m\u001b[0m_original_iterator\u001b[0m \u001b[0;32mis\u001b[0m \u001b[0;32mnot\u001b[0m \u001b[0;32mNone\u001b[0m\u001b[0;34m\u001b[0m\u001b[0;34m\u001b[0m\u001b[0m\n\u001b[1;32m   1045\u001b[0m \u001b[0;34m\u001b[0m\u001b[0m\n",
      "\u001b[0;32m/opt/conda/lib/python3.7/site-packages/joblib/parallel.py\u001b[0m in \u001b[0;36mdispatch_one_batch\u001b[0;34m(self, iterator)\u001b[0m\n\u001b[1;32m    859\u001b[0m                 \u001b[0;32mreturn\u001b[0m \u001b[0;32mFalse\u001b[0m\u001b[0;34m\u001b[0m\u001b[0;34m\u001b[0m\u001b[0m\n\u001b[1;32m    860\u001b[0m             \u001b[0;32melse\u001b[0m\u001b[0;34m:\u001b[0m\u001b[0;34m\u001b[0m\u001b[0;34m\u001b[0m\u001b[0m\n\u001b[0;32m--> 861\u001b[0;31m                 \u001b[0mself\u001b[0m\u001b[0;34m.\u001b[0m\u001b[0m_dispatch\u001b[0m\u001b[0;34m(\u001b[0m\u001b[0mtasks\u001b[0m\u001b[0;34m)\u001b[0m\u001b[0;34m\u001b[0m\u001b[0;34m\u001b[0m\u001b[0m\n\u001b[0m\u001b[1;32m    862\u001b[0m                 \u001b[0;32mreturn\u001b[0m \u001b[0;32mTrue\u001b[0m\u001b[0;34m\u001b[0m\u001b[0;34m\u001b[0m\u001b[0m\n\u001b[1;32m    863\u001b[0m \u001b[0;34m\u001b[0m\u001b[0m\n",
      "\u001b[0;32m/opt/conda/lib/python3.7/site-packages/joblib/parallel.py\u001b[0m in \u001b[0;36m_dispatch\u001b[0;34m(self, batch)\u001b[0m\n\u001b[1;32m    777\u001b[0m         \u001b[0;32mwith\u001b[0m \u001b[0mself\u001b[0m\u001b[0;34m.\u001b[0m\u001b[0m_lock\u001b[0m\u001b[0;34m:\u001b[0m\u001b[0;34m\u001b[0m\u001b[0;34m\u001b[0m\u001b[0m\n\u001b[1;32m    778\u001b[0m             \u001b[0mjob_idx\u001b[0m \u001b[0;34m=\u001b[0m \u001b[0mlen\u001b[0m\u001b[0;34m(\u001b[0m\u001b[0mself\u001b[0m\u001b[0;34m.\u001b[0m\u001b[0m_jobs\u001b[0m\u001b[0;34m)\u001b[0m\u001b[0;34m\u001b[0m\u001b[0;34m\u001b[0m\u001b[0m\n\u001b[0;32m--> 779\u001b[0;31m             \u001b[0mjob\u001b[0m \u001b[0;34m=\u001b[0m \u001b[0mself\u001b[0m\u001b[0;34m.\u001b[0m\u001b[0m_backend\u001b[0m\u001b[0;34m.\u001b[0m\u001b[0mapply_async\u001b[0m\u001b[0;34m(\u001b[0m\u001b[0mbatch\u001b[0m\u001b[0;34m,\u001b[0m \u001b[0mcallback\u001b[0m\u001b[0;34m=\u001b[0m\u001b[0mcb\u001b[0m\u001b[0;34m)\u001b[0m\u001b[0;34m\u001b[0m\u001b[0;34m\u001b[0m\u001b[0m\n\u001b[0m\u001b[1;32m    780\u001b[0m             \u001b[0;31m# A job can complete so quickly than its callback is\u001b[0m\u001b[0;34m\u001b[0m\u001b[0;34m\u001b[0m\u001b[0;34m\u001b[0m\u001b[0m\n\u001b[1;32m    781\u001b[0m             \u001b[0;31m# called before we get here, causing self._jobs to\u001b[0m\u001b[0;34m\u001b[0m\u001b[0;34m\u001b[0m\u001b[0;34m\u001b[0m\u001b[0m\n",
      "\u001b[0;32m/opt/conda/lib/python3.7/site-packages/joblib/_parallel_backends.py\u001b[0m in \u001b[0;36mapply_async\u001b[0;34m(self, func, callback)\u001b[0m\n\u001b[1;32m    206\u001b[0m     \u001b[0;32mdef\u001b[0m \u001b[0mapply_async\u001b[0m\u001b[0;34m(\u001b[0m\u001b[0mself\u001b[0m\u001b[0;34m,\u001b[0m \u001b[0mfunc\u001b[0m\u001b[0;34m,\u001b[0m \u001b[0mcallback\u001b[0m\u001b[0;34m=\u001b[0m\u001b[0;32mNone\u001b[0m\u001b[0;34m)\u001b[0m\u001b[0;34m:\u001b[0m\u001b[0;34m\u001b[0m\u001b[0;34m\u001b[0m\u001b[0m\n\u001b[1;32m    207\u001b[0m         \u001b[0;34m\"\"\"Schedule a func to be run\"\"\"\u001b[0m\u001b[0;34m\u001b[0m\u001b[0;34m\u001b[0m\u001b[0m\n\u001b[0;32m--> 208\u001b[0;31m         \u001b[0mresult\u001b[0m \u001b[0;34m=\u001b[0m \u001b[0mImmediateResult\u001b[0m\u001b[0;34m(\u001b[0m\u001b[0mfunc\u001b[0m\u001b[0;34m)\u001b[0m\u001b[0;34m\u001b[0m\u001b[0;34m\u001b[0m\u001b[0m\n\u001b[0m\u001b[1;32m    209\u001b[0m         \u001b[0;32mif\u001b[0m \u001b[0mcallback\u001b[0m\u001b[0;34m:\u001b[0m\u001b[0;34m\u001b[0m\u001b[0;34m\u001b[0m\u001b[0m\n\u001b[1;32m    210\u001b[0m             \u001b[0mcallback\u001b[0m\u001b[0;34m(\u001b[0m\u001b[0mresult\u001b[0m\u001b[0;34m)\u001b[0m\u001b[0;34m\u001b[0m\u001b[0;34m\u001b[0m\u001b[0m\n",
      "\u001b[0;32m/opt/conda/lib/python3.7/site-packages/joblib/_parallel_backends.py\u001b[0m in \u001b[0;36m__init__\u001b[0;34m(self, batch)\u001b[0m\n\u001b[1;32m    570\u001b[0m         \u001b[0;31m# Don't delay the application, to avoid keeping the input\u001b[0m\u001b[0;34m\u001b[0m\u001b[0;34m\u001b[0m\u001b[0;34m\u001b[0m\u001b[0m\n\u001b[1;32m    571\u001b[0m         \u001b[0;31m# arguments in memory\u001b[0m\u001b[0;34m\u001b[0m\u001b[0;34m\u001b[0m\u001b[0;34m\u001b[0m\u001b[0m\n\u001b[0;32m--> 572\u001b[0;31m         \u001b[0mself\u001b[0m\u001b[0;34m.\u001b[0m\u001b[0mresults\u001b[0m \u001b[0;34m=\u001b[0m \u001b[0mbatch\u001b[0m\u001b[0;34m(\u001b[0m\u001b[0;34m)\u001b[0m\u001b[0;34m\u001b[0m\u001b[0;34m\u001b[0m\u001b[0m\n\u001b[0m\u001b[1;32m    573\u001b[0m \u001b[0;34m\u001b[0m\u001b[0m\n\u001b[1;32m    574\u001b[0m     \u001b[0;32mdef\u001b[0m \u001b[0mget\u001b[0m\u001b[0;34m(\u001b[0m\u001b[0mself\u001b[0m\u001b[0;34m)\u001b[0m\u001b[0;34m:\u001b[0m\u001b[0;34m\u001b[0m\u001b[0;34m\u001b[0m\u001b[0m\n",
      "\u001b[0;32m/opt/conda/lib/python3.7/site-packages/joblib/parallel.py\u001b[0m in \u001b[0;36m__call__\u001b[0;34m(self)\u001b[0m\n\u001b[1;32m    261\u001b[0m         \u001b[0;32mwith\u001b[0m \u001b[0mparallel_backend\u001b[0m\u001b[0;34m(\u001b[0m\u001b[0mself\u001b[0m\u001b[0;34m.\u001b[0m\u001b[0m_backend\u001b[0m\u001b[0;34m,\u001b[0m \u001b[0mn_jobs\u001b[0m\u001b[0;34m=\u001b[0m\u001b[0mself\u001b[0m\u001b[0;34m.\u001b[0m\u001b[0m_n_jobs\u001b[0m\u001b[0;34m)\u001b[0m\u001b[0;34m:\u001b[0m\u001b[0;34m\u001b[0m\u001b[0;34m\u001b[0m\u001b[0m\n\u001b[1;32m    262\u001b[0m             return [func(*args, **kwargs)\n\u001b[0;32m--> 263\u001b[0;31m                     for func, args, kwargs in self.items]\n\u001b[0m\u001b[1;32m    264\u001b[0m \u001b[0;34m\u001b[0m\u001b[0m\n\u001b[1;32m    265\u001b[0m     \u001b[0;32mdef\u001b[0m \u001b[0m__reduce__\u001b[0m\u001b[0;34m(\u001b[0m\u001b[0mself\u001b[0m\u001b[0;34m)\u001b[0m\u001b[0;34m:\u001b[0m\u001b[0;34m\u001b[0m\u001b[0;34m\u001b[0m\u001b[0m\n",
      "\u001b[0;32m/opt/conda/lib/python3.7/site-packages/joblib/parallel.py\u001b[0m in \u001b[0;36m<listcomp>\u001b[0;34m(.0)\u001b[0m\n\u001b[1;32m    261\u001b[0m         \u001b[0;32mwith\u001b[0m \u001b[0mparallel_backend\u001b[0m\u001b[0;34m(\u001b[0m\u001b[0mself\u001b[0m\u001b[0;34m.\u001b[0m\u001b[0m_backend\u001b[0m\u001b[0;34m,\u001b[0m \u001b[0mn_jobs\u001b[0m\u001b[0;34m=\u001b[0m\u001b[0mself\u001b[0m\u001b[0;34m.\u001b[0m\u001b[0m_n_jobs\u001b[0m\u001b[0;34m)\u001b[0m\u001b[0;34m:\u001b[0m\u001b[0;34m\u001b[0m\u001b[0;34m\u001b[0m\u001b[0m\n\u001b[1;32m    262\u001b[0m             return [func(*args, **kwargs)\n\u001b[0;32m--> 263\u001b[0;31m                     for func, args, kwargs in self.items]\n\u001b[0m\u001b[1;32m    264\u001b[0m \u001b[0;34m\u001b[0m\u001b[0m\n\u001b[1;32m    265\u001b[0m     \u001b[0;32mdef\u001b[0m \u001b[0m__reduce__\u001b[0m\u001b[0;34m(\u001b[0m\u001b[0mself\u001b[0m\u001b[0;34m)\u001b[0m\u001b[0;34m:\u001b[0m\u001b[0;34m\u001b[0m\u001b[0;34m\u001b[0m\u001b[0m\n",
      "\u001b[0;32m/opt/conda/lib/python3.7/site-packages/sklearn/utils/fixes.py\u001b[0m in \u001b[0;36m__call__\u001b[0;34m(self, *args, **kwargs)\u001b[0m\n\u001b[1;32m    214\u001b[0m     \u001b[0;32mdef\u001b[0m \u001b[0m__call__\u001b[0m\u001b[0;34m(\u001b[0m\u001b[0mself\u001b[0m\u001b[0;34m,\u001b[0m \u001b[0;34m*\u001b[0m\u001b[0margs\u001b[0m\u001b[0;34m,\u001b[0m \u001b[0;34m**\u001b[0m\u001b[0mkwargs\u001b[0m\u001b[0;34m)\u001b[0m\u001b[0;34m:\u001b[0m\u001b[0;34m\u001b[0m\u001b[0;34m\u001b[0m\u001b[0m\n\u001b[1;32m    215\u001b[0m         \u001b[0;32mwith\u001b[0m \u001b[0mconfig_context\u001b[0m\u001b[0;34m(\u001b[0m\u001b[0;34m**\u001b[0m\u001b[0mself\u001b[0m\u001b[0;34m.\u001b[0m\u001b[0mconfig\u001b[0m\u001b[0;34m)\u001b[0m\u001b[0;34m:\u001b[0m\u001b[0;34m\u001b[0m\u001b[0;34m\u001b[0m\u001b[0m\n\u001b[0;32m--> 216\u001b[0;31m             \u001b[0;32mreturn\u001b[0m \u001b[0mself\u001b[0m\u001b[0;34m.\u001b[0m\u001b[0mfunction\u001b[0m\u001b[0;34m(\u001b[0m\u001b[0;34m*\u001b[0m\u001b[0margs\u001b[0m\u001b[0;34m,\u001b[0m \u001b[0;34m**\u001b[0m\u001b[0mkwargs\u001b[0m\u001b[0;34m)\u001b[0m\u001b[0;34m\u001b[0m\u001b[0;34m\u001b[0m\u001b[0m\n\u001b[0m\u001b[1;32m    217\u001b[0m \u001b[0;34m\u001b[0m\u001b[0m\n\u001b[1;32m    218\u001b[0m \u001b[0;34m\u001b[0m\u001b[0m\n",
      "\u001b[0;32m/opt/conda/lib/python3.7/site-packages/sklearn/model_selection/_validation.py\u001b[0m in \u001b[0;36m_fit_and_score\u001b[0;34m(estimator, X, y, scorer, train, test, verbose, parameters, fit_params, return_train_score, return_parameters, return_n_test_samples, return_times, return_estimator, split_progress, candidate_progress, error_score)\u001b[0m\n\u001b[1;32m    678\u001b[0m             \u001b[0mestimator\u001b[0m\u001b[0;34m.\u001b[0m\u001b[0mfit\u001b[0m\u001b[0;34m(\u001b[0m\u001b[0mX_train\u001b[0m\u001b[0;34m,\u001b[0m \u001b[0;34m**\u001b[0m\u001b[0mfit_params\u001b[0m\u001b[0;34m)\u001b[0m\u001b[0;34m\u001b[0m\u001b[0;34m\u001b[0m\u001b[0m\n\u001b[1;32m    679\u001b[0m         \u001b[0;32melse\u001b[0m\u001b[0;34m:\u001b[0m\u001b[0;34m\u001b[0m\u001b[0;34m\u001b[0m\u001b[0m\n\u001b[0;32m--> 680\u001b[0;31m             \u001b[0mestimator\u001b[0m\u001b[0;34m.\u001b[0m\u001b[0mfit\u001b[0m\u001b[0;34m(\u001b[0m\u001b[0mX_train\u001b[0m\u001b[0;34m,\u001b[0m \u001b[0my_train\u001b[0m\u001b[0;34m,\u001b[0m \u001b[0;34m**\u001b[0m\u001b[0mfit_params\u001b[0m\u001b[0;34m)\u001b[0m\u001b[0;34m\u001b[0m\u001b[0;34m\u001b[0m\u001b[0m\n\u001b[0m\u001b[1;32m    681\u001b[0m \u001b[0;34m\u001b[0m\u001b[0m\n\u001b[1;32m    682\u001b[0m     \u001b[0;32mexcept\u001b[0m \u001b[0mException\u001b[0m\u001b[0;34m:\u001b[0m\u001b[0;34m\u001b[0m\u001b[0;34m\u001b[0m\u001b[0m\n",
      "\u001b[0;32m/opt/conda/lib/python3.7/site-packages/imblearn/pipeline.py\u001b[0m in \u001b[0;36mfit\u001b[0;34m(self, X, y, **fit_params)\u001b[0m\n\u001b[1;32m    270\u001b[0m             \u001b[0;32mif\u001b[0m \u001b[0mself\u001b[0m\u001b[0;34m.\u001b[0m\u001b[0m_final_estimator\u001b[0m \u001b[0;34m!=\u001b[0m \u001b[0;34m\"passthrough\"\u001b[0m\u001b[0;34m:\u001b[0m\u001b[0;34m\u001b[0m\u001b[0;34m\u001b[0m\u001b[0m\n\u001b[1;32m    271\u001b[0m                 \u001b[0mfit_params_last_step\u001b[0m \u001b[0;34m=\u001b[0m \u001b[0mfit_params_steps\u001b[0m\u001b[0;34m[\u001b[0m\u001b[0mself\u001b[0m\u001b[0;34m.\u001b[0m\u001b[0msteps\u001b[0m\u001b[0;34m[\u001b[0m\u001b[0;34m-\u001b[0m\u001b[0;36m1\u001b[0m\u001b[0;34m]\u001b[0m\u001b[0;34m[\u001b[0m\u001b[0;36m0\u001b[0m\u001b[0;34m]\u001b[0m\u001b[0;34m]\u001b[0m\u001b[0;34m\u001b[0m\u001b[0;34m\u001b[0m\u001b[0m\n\u001b[0;32m--> 272\u001b[0;31m                 \u001b[0mself\u001b[0m\u001b[0;34m.\u001b[0m\u001b[0m_final_estimator\u001b[0m\u001b[0;34m.\u001b[0m\u001b[0mfit\u001b[0m\u001b[0;34m(\u001b[0m\u001b[0mXt\u001b[0m\u001b[0;34m,\u001b[0m \u001b[0myt\u001b[0m\u001b[0;34m,\u001b[0m \u001b[0;34m**\u001b[0m\u001b[0mfit_params_last_step\u001b[0m\u001b[0;34m)\u001b[0m\u001b[0;34m\u001b[0m\u001b[0;34m\u001b[0m\u001b[0m\n\u001b[0m\u001b[1;32m    273\u001b[0m         \u001b[0;32mreturn\u001b[0m \u001b[0mself\u001b[0m\u001b[0;34m\u001b[0m\u001b[0;34m\u001b[0m\u001b[0m\n\u001b[1;32m    274\u001b[0m \u001b[0;34m\u001b[0m\u001b[0m\n",
      "\u001b[0;32m/opt/conda/lib/python3.7/site-packages/sklearn/ensemble/_forest.py\u001b[0m in \u001b[0;36mfit\u001b[0;34m(self, X, y, sample_weight)\u001b[0m\n\u001b[1;32m    465\u001b[0m                     \u001b[0mn_samples_bootstrap\u001b[0m\u001b[0;34m=\u001b[0m\u001b[0mn_samples_bootstrap\u001b[0m\u001b[0;34m,\u001b[0m\u001b[0;34m\u001b[0m\u001b[0;34m\u001b[0m\u001b[0m\n\u001b[1;32m    466\u001b[0m                 )\n\u001b[0;32m--> 467\u001b[0;31m                 \u001b[0;32mfor\u001b[0m \u001b[0mi\u001b[0m\u001b[0;34m,\u001b[0m \u001b[0mt\u001b[0m \u001b[0;32min\u001b[0m \u001b[0menumerate\u001b[0m\u001b[0;34m(\u001b[0m\u001b[0mtrees\u001b[0m\u001b[0;34m)\u001b[0m\u001b[0;34m\u001b[0m\u001b[0;34m\u001b[0m\u001b[0m\n\u001b[0m\u001b[1;32m    468\u001b[0m             )\n\u001b[1;32m    469\u001b[0m \u001b[0;34m\u001b[0m\u001b[0m\n",
      "\u001b[0;32m/opt/conda/lib/python3.7/site-packages/joblib/parallel.py\u001b[0m in \u001b[0;36m__call__\u001b[0;34m(self, iterable)\u001b[0m\n\u001b[1;32m   1054\u001b[0m \u001b[0;34m\u001b[0m\u001b[0m\n\u001b[1;32m   1055\u001b[0m             \u001b[0;32mwith\u001b[0m \u001b[0mself\u001b[0m\u001b[0;34m.\u001b[0m\u001b[0m_backend\u001b[0m\u001b[0;34m.\u001b[0m\u001b[0mretrieval_context\u001b[0m\u001b[0;34m(\u001b[0m\u001b[0;34m)\u001b[0m\u001b[0;34m:\u001b[0m\u001b[0;34m\u001b[0m\u001b[0;34m\u001b[0m\u001b[0m\n\u001b[0;32m-> 1056\u001b[0;31m                 \u001b[0mself\u001b[0m\u001b[0;34m.\u001b[0m\u001b[0mretrieve\u001b[0m\u001b[0;34m(\u001b[0m\u001b[0;34m)\u001b[0m\u001b[0;34m\u001b[0m\u001b[0;34m\u001b[0m\u001b[0m\n\u001b[0m\u001b[1;32m   1057\u001b[0m             \u001b[0;31m# Make sure that we get a last message telling us we are done\u001b[0m\u001b[0;34m\u001b[0m\u001b[0;34m\u001b[0m\u001b[0;34m\u001b[0m\u001b[0m\n\u001b[1;32m   1058\u001b[0m             \u001b[0melapsed_time\u001b[0m \u001b[0;34m=\u001b[0m \u001b[0mtime\u001b[0m\u001b[0;34m.\u001b[0m\u001b[0mtime\u001b[0m\u001b[0;34m(\u001b[0m\u001b[0;34m)\u001b[0m \u001b[0;34m-\u001b[0m \u001b[0mself\u001b[0m\u001b[0;34m.\u001b[0m\u001b[0m_start_time\u001b[0m\u001b[0;34m\u001b[0m\u001b[0;34m\u001b[0m\u001b[0m\n",
      "\u001b[0;32m/opt/conda/lib/python3.7/site-packages/joblib/parallel.py\u001b[0m in \u001b[0;36mretrieve\u001b[0;34m(self)\u001b[0m\n\u001b[1;32m    933\u001b[0m             \u001b[0;32mtry\u001b[0m\u001b[0;34m:\u001b[0m\u001b[0;34m\u001b[0m\u001b[0;34m\u001b[0m\u001b[0m\n\u001b[1;32m    934\u001b[0m                 \u001b[0;32mif\u001b[0m \u001b[0mgetattr\u001b[0m\u001b[0;34m(\u001b[0m\u001b[0mself\u001b[0m\u001b[0;34m.\u001b[0m\u001b[0m_backend\u001b[0m\u001b[0;34m,\u001b[0m \u001b[0;34m'supports_timeout'\u001b[0m\u001b[0;34m,\u001b[0m \u001b[0;32mFalse\u001b[0m\u001b[0;34m)\u001b[0m\u001b[0;34m:\u001b[0m\u001b[0;34m\u001b[0m\u001b[0;34m\u001b[0m\u001b[0m\n\u001b[0;32m--> 935\u001b[0;31m                     \u001b[0mself\u001b[0m\u001b[0;34m.\u001b[0m\u001b[0m_output\u001b[0m\u001b[0;34m.\u001b[0m\u001b[0mextend\u001b[0m\u001b[0;34m(\u001b[0m\u001b[0mjob\u001b[0m\u001b[0;34m.\u001b[0m\u001b[0mget\u001b[0m\u001b[0;34m(\u001b[0m\u001b[0mtimeout\u001b[0m\u001b[0;34m=\u001b[0m\u001b[0mself\u001b[0m\u001b[0;34m.\u001b[0m\u001b[0mtimeout\u001b[0m\u001b[0;34m)\u001b[0m\u001b[0;34m)\u001b[0m\u001b[0;34m\u001b[0m\u001b[0;34m\u001b[0m\u001b[0m\n\u001b[0m\u001b[1;32m    936\u001b[0m                 \u001b[0;32melse\u001b[0m\u001b[0;34m:\u001b[0m\u001b[0;34m\u001b[0m\u001b[0;34m\u001b[0m\u001b[0m\n\u001b[1;32m    937\u001b[0m                     \u001b[0mself\u001b[0m\u001b[0;34m.\u001b[0m\u001b[0m_output\u001b[0m\u001b[0;34m.\u001b[0m\u001b[0mextend\u001b[0m\u001b[0;34m(\u001b[0m\u001b[0mjob\u001b[0m\u001b[0;34m.\u001b[0m\u001b[0mget\u001b[0m\u001b[0;34m(\u001b[0m\u001b[0;34m)\u001b[0m\u001b[0;34m)\u001b[0m\u001b[0;34m\u001b[0m\u001b[0;34m\u001b[0m\u001b[0m\n",
      "\u001b[0;32m/opt/conda/lib/python3.7/site-packages/joblib/_parallel_backends.py\u001b[0m in \u001b[0;36mwrap_future_result\u001b[0;34m(future, timeout)\u001b[0m\n\u001b[1;32m    540\u001b[0m         AsyncResults.get from multiprocessing.\"\"\"\n\u001b[1;32m    541\u001b[0m         \u001b[0;32mtry\u001b[0m\u001b[0;34m:\u001b[0m\u001b[0;34m\u001b[0m\u001b[0;34m\u001b[0m\u001b[0m\n\u001b[0;32m--> 542\u001b[0;31m             \u001b[0;32mreturn\u001b[0m \u001b[0mfuture\u001b[0m\u001b[0;34m.\u001b[0m\u001b[0mresult\u001b[0m\u001b[0;34m(\u001b[0m\u001b[0mtimeout\u001b[0m\u001b[0;34m=\u001b[0m\u001b[0mtimeout\u001b[0m\u001b[0;34m)\u001b[0m\u001b[0;34m\u001b[0m\u001b[0;34m\u001b[0m\u001b[0m\n\u001b[0m\u001b[1;32m    543\u001b[0m         \u001b[0;32mexcept\u001b[0m \u001b[0mCfTimeoutError\u001b[0m \u001b[0;32mas\u001b[0m \u001b[0me\u001b[0m\u001b[0;34m:\u001b[0m\u001b[0;34m\u001b[0m\u001b[0;34m\u001b[0m\u001b[0m\n\u001b[1;32m    544\u001b[0m             \u001b[0;32mraise\u001b[0m \u001b[0mTimeoutError\u001b[0m \u001b[0;32mfrom\u001b[0m \u001b[0me\u001b[0m\u001b[0;34m\u001b[0m\u001b[0;34m\u001b[0m\u001b[0m\n",
      "\u001b[0;32m/opt/conda/lib/python3.7/concurrent/futures/_base.py\u001b[0m in \u001b[0;36mresult\u001b[0;34m(self, timeout)\u001b[0m\n\u001b[1;32m    428\u001b[0m                 \u001b[0;32mreturn\u001b[0m \u001b[0mself\u001b[0m\u001b[0;34m.\u001b[0m\u001b[0m__get_result\u001b[0m\u001b[0;34m(\u001b[0m\u001b[0;34m)\u001b[0m\u001b[0;34m\u001b[0m\u001b[0;34m\u001b[0m\u001b[0m\n\u001b[1;32m    429\u001b[0m \u001b[0;34m\u001b[0m\u001b[0m\n\u001b[0;32m--> 430\u001b[0;31m             \u001b[0mself\u001b[0m\u001b[0;34m.\u001b[0m\u001b[0m_condition\u001b[0m\u001b[0;34m.\u001b[0m\u001b[0mwait\u001b[0m\u001b[0;34m(\u001b[0m\u001b[0mtimeout\u001b[0m\u001b[0;34m)\u001b[0m\u001b[0;34m\u001b[0m\u001b[0;34m\u001b[0m\u001b[0m\n\u001b[0m\u001b[1;32m    431\u001b[0m \u001b[0;34m\u001b[0m\u001b[0m\n\u001b[1;32m    432\u001b[0m             \u001b[0;32mif\u001b[0m \u001b[0mself\u001b[0m\u001b[0;34m.\u001b[0m\u001b[0m_state\u001b[0m \u001b[0;32min\u001b[0m \u001b[0;34m[\u001b[0m\u001b[0mCANCELLED\u001b[0m\u001b[0;34m,\u001b[0m \u001b[0mCANCELLED_AND_NOTIFIED\u001b[0m\u001b[0;34m]\u001b[0m\u001b[0;34m:\u001b[0m\u001b[0;34m\u001b[0m\u001b[0;34m\u001b[0m\u001b[0m\n",
      "\u001b[0;32m/opt/conda/lib/python3.7/threading.py\u001b[0m in \u001b[0;36mwait\u001b[0;34m(self, timeout)\u001b[0m\n\u001b[1;32m    294\u001b[0m         \u001b[0;32mtry\u001b[0m\u001b[0;34m:\u001b[0m    \u001b[0;31m# restore state no matter what (e.g., KeyboardInterrupt)\u001b[0m\u001b[0;34m\u001b[0m\u001b[0;34m\u001b[0m\u001b[0m\n\u001b[1;32m    295\u001b[0m             \u001b[0;32mif\u001b[0m \u001b[0mtimeout\u001b[0m \u001b[0;32mis\u001b[0m \u001b[0;32mNone\u001b[0m\u001b[0;34m:\u001b[0m\u001b[0;34m\u001b[0m\u001b[0;34m\u001b[0m\u001b[0m\n\u001b[0;32m--> 296\u001b[0;31m                 \u001b[0mwaiter\u001b[0m\u001b[0;34m.\u001b[0m\u001b[0macquire\u001b[0m\u001b[0;34m(\u001b[0m\u001b[0;34m)\u001b[0m\u001b[0;34m\u001b[0m\u001b[0;34m\u001b[0m\u001b[0m\n\u001b[0m\u001b[1;32m    297\u001b[0m                 \u001b[0mgotit\u001b[0m \u001b[0;34m=\u001b[0m \u001b[0;32mTrue\u001b[0m\u001b[0;34m\u001b[0m\u001b[0;34m\u001b[0m\u001b[0m\n\u001b[1;32m    298\u001b[0m             \u001b[0;32melse\u001b[0m\u001b[0;34m:\u001b[0m\u001b[0;34m\u001b[0m\u001b[0;34m\u001b[0m\u001b[0m\n",
      "\u001b[0;31mKeyboardInterrupt\u001b[0m: "
     ]
    }
   ],
   "source": [
    "# Data\n",
    "y = df['deliveredlate']\n",
    "X = df[features].reset_index(drop=True)\n",
    "cat_fields=['quantile_order_to_delivery_stated','whname', 'ServiceLevel']\n",
    "#Encoder\n",
    "enc = OneHotEncoder(categories=\"auto\", handle_unknown=\"error\", drop='first', sparse=False)\n",
    "X_ohe = pd.DataFrame(enc.fit_transform(X[cat_fields]), columns=enc.get_feature_names_out()).reset_index(drop=True)\n",
    "X = pd.concat([X.drop(columns=cat_fields, axis=1), X_ohe], axis=1)\n",
    "\n",
    "# Defining the Pipeline for RF\n",
    "model_rf = PipelineImb([\n",
    "                     ('Imputer', SimpleImputer(missing_values=np.nan, strategy=\"median\")), \n",
    "                     ('Scaling', MinMaxScaler(clip=True)),\n",
    "                     ('RF', RandomForestClassifier(n_jobs=-1, oob_score = True, random_state=42))\n",
    "\n",
    "                        ])\n",
    "\n",
    "# Defining the grid\n",
    "param_grid_rf ={\n",
    "\n",
    "                     'RF__max_features': [10, 20, 'auto'],\n",
    "                     'RF__min_samples_split': [5, 10],\n",
    "                     'RF__max_depth': [20,30],\n",
    "                     'RF__max_samples': [0.5, 0.8, None]\n",
    "\n",
    "                }\n",
    "\n",
    "# Searching best hyper-parametrization\n",
    "CV_rf = GridSearchCV(model_rf, param_grid=param_grid_rf, cv=5, scoring='roc_auc', verbose=4)\n",
    "res_rf = CV_rf.fit(X, y)\n",
    "\n",
    "\n",
    "# --------------------------------------------------------------------------------------------------------------------------\n",
    "\n",
    "# Defining the Pipeline for LgR\n",
    "model_lgr = PipelineImb([\n",
    "\n",
    "                     ('Imputer', SimpleImputer(missing_values=np.nan, strategy=\"median\")), \n",
    "                     ('Scaling', MinMaxScaler(clip=True)),\n",
    "                     ('LgR', LogisticRegression(n_jobs=-1, max_iter = 1000, random_state=42))\n",
    "\n",
    "                    ])\n",
    "\n",
    "# Defining the grid\n",
    "param_grid_lgr = {\n",
    "\n",
    "                    'LgR__solver': ['newton-cg', 'lbfgs']\n",
    "\n",
    "                 }\n",
    "\n",
    "# Searching best hyper-parametrization\n",
    "CV_lgr = GridSearchCV(model_lgr, param_grid=param_grid_lgr, cv=5, scoring='roc_auc', verbose=4)\n",
    "res_lgr = CV_lgr.fit(X, y)"
   ]
  },
  {
   "cell_type": "markdown",
   "id": "ee099923-ff30-40e3-8d7b-2ab7f5c84d74",
   "metadata": {},
   "source": [
    "### Finding best score and hyperparameters for both Random Forest and Logistic Regression"
   ]
  },
  {
   "cell_type": "code",
   "execution_count": 101,
   "id": "1829abbb-e99e-4972-9cc1-04f4e0325c5c",
   "metadata": {},
   "outputs": [
    {
     "ename": "NameError",
     "evalue": "name 'res_rf' is not defined",
     "output_type": "error",
     "traceback": [
      "\u001b[0;31m---------------------------------------------------------------------------\u001b[0m",
      "\u001b[0;31mNameError\u001b[0m                                 Traceback (most recent call last)",
      "\u001b[0;32m/tmp/ipykernel_12062/138501257.py\u001b[0m in \u001b[0;36m<module>\u001b[0;34m\u001b[0m\n\u001b[0;32m----> 1\u001b[0;31m \u001b[0mprint\u001b[0m\u001b[0;34m(\u001b[0m\u001b[0;34mf'The best Score for Random Forest is: {res_rf.best_score_}'\u001b[0m\u001b[0;34m)\u001b[0m\u001b[0;34m\u001b[0m\u001b[0;34m\u001b[0m\u001b[0m\n\u001b[0m\u001b[1;32m      2\u001b[0m \u001b[0mprint\u001b[0m\u001b[0;34m(\u001b[0m\u001b[0;34mf'The best Score for Logistic Regression is: {res_lgr.best_score_}'\u001b[0m\u001b[0;34m)\u001b[0m\u001b[0;34m\u001b[0m\u001b[0;34m\u001b[0m\u001b[0m\n",
      "\u001b[0;31mNameError\u001b[0m: name 'res_rf' is not defined"
     ]
    }
   ],
   "source": [
    "print(f'The best Score for Random Forest is: {res_rf.best_score_}')\n",
    "print(f'The best Score for Logistic Regression is: {res_lgr.best_score_}')"
   ]
  },
  {
   "cell_type": "code",
   "execution_count": 17,
   "id": "f198a477-9e37-465f-bd28-2f589967063b",
   "metadata": {},
   "outputs": [
    {
     "name": "stdout",
     "output_type": "stream",
     "text": [
      "The best RF hyper-parametrization is: {'RF__max_depth': 20, 'RF__max_features': 'auto', 'RF__max_samples': 0.5, 'RF__min_samples_split': 10}\n",
      "The best LgR hyper-parametrization is: {'LgR__solver': 'lbfgs'}\n"
     ]
    }
   ],
   "source": [
    "print(f'The best RF hyper-parametrization is: {res_rf.best_params_}')\n",
    "print(f'The best LgR hyper-parametrization is: {res_lgr.best_params_}')"
   ]
  },
  {
   "cell_type": "markdown",
   "id": "0f88e37e-356d-4ad6-8406-73cfe008ebe5",
   "metadata": {},
   "source": [
    "### Using best parameters for our model"
   ]
  },
  {
   "cell_type": "code",
   "execution_count": 102,
   "id": "61c8f402-c9f2-4169-bc37-196c2e38a5d3",
   "metadata": {},
   "outputs": [],
   "source": [
    "# Data\n",
    "y = df['deliveredlate']\n",
    "X = df[features].reset_index(drop=True)\n",
    "cat_fields=['quantile_order_to_delivery_stated','whname', 'ServiceLevel']\n",
    "\n",
    "#Encoder\n",
    "enc = OneHotEncoder(categories=\"auto\", handle_unknown=\"error\", drop='first', sparse=False)\n",
    "X_ohe = pd.DataFrame(enc.fit_transform(X[cat_fields]), columns=enc.get_feature_names_out()).reset_index(drop=True)\n",
    "X = pd.concat([X.drop(columns=cat_fields, axis=1), X_ohe], axis=1)\n",
    "\n",
    "x_train, x_test, y_train, y_test = train_test_split(X, y, train_size=0.8, random_state=42)\n",
    "\n",
    "rf = RandomForestClassifier()\n",
    "rf.fit(x_train, y_train)\n",
    "RandomForestClassifier(bootstrap=True, class_weight=None,max_depth=20, max_features='auto', max_samples=0.5, min_samples_split=10)\n",
    "y_pred = rf.predict(x_test)\n"
   ]
  },
  {
   "cell_type": "markdown",
   "id": "d63df152-47bb-46dd-bd37-e7ef283cdd9c",
   "metadata": {},
   "source": [
    "### Getting summary of model precision, recall and f1-score"
   ]
  },
  {
   "cell_type": "code",
   "execution_count": 103,
   "id": "e88f2eeb-f767-4453-8748-d7e4d2c35a8f",
   "metadata": {},
   "outputs": [
    {
     "name": "stdout",
     "output_type": "stream",
     "text": [
      "              precision    recall  f1-score   support\n",
      "\n",
      "         0.0       0.62      0.51      0.56     24264\n",
      "         1.0       0.81      0.87      0.84     57724\n",
      "\n",
      "    accuracy                           0.76     81988\n",
      "   macro avg       0.71      0.69      0.70     81988\n",
      "weighted avg       0.75      0.76      0.75     81988\n",
      "\n"
     ]
    }
   ],
   "source": [
    "from sklearn.metrics import classification_report\n",
    "y_hat=rf.predict(x_test)\n",
    "print(classification_report(y_test, y_hat))"
   ]
  },
  {
   "cell_type": "markdown",
   "id": "f77041f2-5cd9-4eca-ab01-417e86fe6295",
   "metadata": {},
   "source": [
    "### Finding true positive and false positive rate, ranking feature importance and plotting sample tree"
   ]
  },
  {
   "cell_type": "code",
   "execution_count": 117,
   "id": "6c304de4-61f3-4084-b64b-8051d05d6179",
   "metadata": {},
   "outputs": [
    {
     "data": {
      "image/png": "[encoded data removed]",
      "text/plain": [
       "<Figure size 432x288 with 1 Axes>"
      ]
     },
     "metadata": {
      "needs_background": "light"
     },
     "output_type": "display_data"
    }
   ],
   "source": [
    "from sklearn.metrics import roc_curve, auc\n",
    "test_results=[]\n",
    "y_pred_proba = rf.predict_proba(x_test)[::,1]\n",
    "false_positive_rate, true_positive_rate, thresholds = roc_curve(y_test,y_pred_proba)\n",
    "roc_auc = auc(false_positive_rate, true_positive_rate)\n",
    "test_results.append(roc_auc)\n",
    "plt.plot(false_positive_rate,true_positive_rate,label=\"data 1, auc=\"+str(roc_auc))\n",
    "plt.legend(loc=4)\n",
    "plt.show()"
   ]
  },
  {
   "cell_type": "code",
   "execution_count": 120,
   "id": "de70a047-5351-42e6-9442-f4d15b2a91e4",
   "metadata": {},
   "outputs": [
    {
     "data": {
      "image/png": "[encoded data removed]",
      "text/plain": [
       "<Figure size 360x360 with 1 Axes>"
      ]
     },
     "metadata": {},
     "output_type": "display_data"
    }
   ],
   "source": [
    "from plot_metric.functions import BinaryClassification\n",
    "# Visualisation with plot_metric\n",
    "bc = BinaryClassification(y_test, y_pred_proba, labels=[\"Class 1\", \"Class 2\"])\n",
    "\n",
    "# Figures\n",
    "plt.figure(figsize=(5,5))\n",
    "bc.plot_roc_curve()\n",
    "plt.show()"
   ]
  },
  {
   "cell_type": "code",
   "execution_count": 106,
   "id": "90a2626c-10ac-4f3c-aeb2-3f4fb76ef9b2",
   "metadata": {},
   "outputs": [
    {
     "name": "stdout",
     "output_type": "stream",
     "text": [
      "['volume_last_48h' 'quantile_order_to_delivery_stated_2'\n",
      " 'quantile_order_to_delivery_stated_3'\n",
      " 'quantile_order_to_delivery_stated_4'\n",
      " 'quantile_order_to_delivery_stated_5' 'whname_Cranbury'\n",
      " 'whname_Cranbury2' 'whname_CranburyLargeParcel' 'whname_Erlanger'\n",
      " 'whname_Florence' 'whname_Hebron' 'whname_Jacksonville'\n",
      " 'whname_Lancaster' 'whname_Lathrop' 'whname_McDonough'\n",
      " 'whname_Mississauga' 'whname_PerrisCA' 'whname_PerrisSmallParcel'\n",
      " 'whname_PortWentworth' 'ServiceLevel_Backyard' 'ServiceLevel_Pick Up'\n",
      " 'ServiceLevel_Room of Choice' 'ServiceLevel_StANDard'\n",
      " 'ServiceLevel_Threshold' 'ServiceLevel_other']\n"
     ]
    },
    {
     "data": {
      "image/png": "[encoded data removed]",
      "text/plain": [
       "<Figure size 432x288 with 1 Axes>"
      ]
     },
     "metadata": {
      "needs_background": "light"
     },
     "output_type": "display_data"
    }
   ],
   "source": [
    "importance=rf.feature_importances_\n",
    "sorted_idx = rf.feature_importances_.argsort()\n",
    "plt.barh(rf.feature_names_in_[sorted_idx], rf.feature_importances_[sorted_idx])\n",
    "plt.xlabel(\"Random Forest Feature Importance\")\n",
    "print(rf.feature_names_in_)"
   ]
  },
  {
   "cell_type": "code",
   "execution_count": 107,
   "id": "5f3eecda-6ccd-4296-8a26-e6af61f962f6",
   "metadata": {
    "tags": []
   },
   "outputs": [],
   "source": [
    "from sklearn.inspection import permutation_importance\n",
    "perm_importance = permutation_importance(rf, x_test, y_test)"
   ]
  },
  {
   "cell_type": "code",
   "execution_count": 108,
   "id": "d1219270-eb37-4dac-9318-07c0ade2340a",
   "metadata": {},
   "outputs": [
    {
     "data": {
      "text/plain": [
       "<bound method Artist.get_in_layout of <Figure size 432x288 with 1 Axes>>"
      ]
     },
     "execution_count": 108,
     "metadata": {},
     "output_type": "execute_result"
    },
    {
     "data": {
      "image/png": "[encoded data removed]",
      "text/plain": [
       "<Figure size 432x288 with 1 Axes>"
      ]
     },
     "metadata": {
      "needs_background": "light"
     },
     "output_type": "display_data"
    }
   ],
   "source": [
    "sorted_importances_idx = perm_importance.importances_mean.argsort()\n",
    "importances = pd.DataFrame(\n",
    "    perm_importance.importances[sorted_importances_idx].T,\n",
    "    columns=X.columns[sorted_importances_idx],\n",
    ")\n",
    "ax = importances.plot.box(vert=False, whis=10)\n",
    "ax.set_title(\"Permutation Importances (test set)\")\n",
    "ax.axvline(x=0, color=\"k\", linestyle=\"--\")\n",
    "ax.set_xlabel(\"Decrease in accuracy score\")\n",
    "ax.figure.get_in_layout"
   ]
  },
  {
   "cell_type": "code",
   "execution_count": null,
   "id": "6b884b06-ddbc-4e44-93b0-6bbe7bba3918",
   "metadata": {},
   "outputs": [],
   "source": []
  },
  {
   "cell_type": "code",
   "execution_count": 109,
   "id": "cb7fab7c-3b18-4114-a319-3c2b2fc95dcb",
   "metadata": {
    "tags": []
   },
   "outputs": [
    {
     "name": "stdout",
     "output_type": "stream",
     "text": [
      "RF train accuracy: 0.801\n",
      "RF test accuracy: 0.761\n"
     ]
    }
   ],
   "source": [
    "print(f\"RF train accuracy: {rf.score(x_train, y_train):.3f}\")\n",
    "print(f\"RF test accuracy: {rf.score(x_test, y_test):.3f}\")"
   ]
  },
  {
   "cell_type": "code",
   "execution_count": 78,
   "id": "f2f2b945-4731-4a3b-a71d-2339237d77b7",
   "metadata": {},
   "outputs": [],
   "source": [
    "y_pred=pd.DataFrame(y_pred)"
   ]
  },
  {
   "cell_type": "code",
   "execution_count": 79,
   "id": "7ca7c74b-2f21-4084-aa95-d280922d016f",
   "metadata": {},
   "outputs": [],
   "source": [
    "y_testv2=pd.DataFrame(y_test.index)"
   ]
  },
  {
   "cell_type": "code",
   "execution_count": 80,
   "id": "512a8588-14fa-4be3-b91a-a4c5307af48e",
   "metadata": {},
   "outputs": [],
   "source": [
    "y_predv2=pd.concat([y_pred,y_testv2],axis=1)"
   ]
  },
  {
   "cell_type": "code",
   "execution_count": 81,
   "id": "72122a66-792a-4b46-8268-942152e3437c",
   "metadata": {},
   "outputs": [],
   "source": [
    "y_predv2.columns=['preds','pred_index']"
   ]
  },
  {
   "cell_type": "code",
   "execution_count": 82,
   "id": "597e0d6f-56b1-4f7a-90fe-ed72eecd51d4",
   "metadata": {},
   "outputs": [
    {
     "data": {
      "text/html": [
       "<div>\n",
       "<style scoped>\n",
       "    .dataframe tbody tr th:only-of-type {\n",
       "        vertical-align: middle;\n",
       "    }\n",
       "\n",
       "    .dataframe tbody tr th {\n",
       "        vertical-align: top;\n",
       "    }\n",
       "\n",
       "    .dataframe thead th {\n",
       "        text-align: right;\n",
       "    }\n",
       "</style>\n",
       "<table border=\"1\" class=\"dataframe\">\n",
       "  <thead>\n",
       "    <tr style=\"text-align: right;\">\n",
       "      <th></th>\n",
       "      <th>preds</th>\n",
       "      <th>pred_index</th>\n",
       "    </tr>\n",
       "  </thead>\n",
       "  <tbody>\n",
       "    <tr>\n",
       "      <th>0</th>\n",
       "      <td>1.0</td>\n",
       "      <td>397512</td>\n",
       "    </tr>\n",
       "    <tr>\n",
       "      <th>1</th>\n",
       "      <td>1.0</td>\n",
       "      <td>152298</td>\n",
       "    </tr>\n",
       "    <tr>\n",
       "      <th>2</th>\n",
       "      <td>1.0</td>\n",
       "      <td>132652</td>\n",
       "    </tr>\n",
       "    <tr>\n",
       "      <th>3</th>\n",
       "      <td>0.0</td>\n",
       "      <td>256947</td>\n",
       "    </tr>\n",
       "    <tr>\n",
       "      <th>4</th>\n",
       "      <td>1.0</td>\n",
       "      <td>398877</td>\n",
       "    </tr>\n",
       "    <tr>\n",
       "      <th>...</th>\n",
       "      <td>...</td>\n",
       "      <td>...</td>\n",
       "    </tr>\n",
       "    <tr>\n",
       "      <th>81983</th>\n",
       "      <td>1.0</td>\n",
       "      <td>287721</td>\n",
       "    </tr>\n",
       "    <tr>\n",
       "      <th>81984</th>\n",
       "      <td>0.0</td>\n",
       "      <td>75834</td>\n",
       "    </tr>\n",
       "    <tr>\n",
       "      <th>81985</th>\n",
       "      <td>0.0</td>\n",
       "      <td>102103</td>\n",
       "    </tr>\n",
       "    <tr>\n",
       "      <th>81986</th>\n",
       "      <td>1.0</td>\n",
       "      <td>89028</td>\n",
       "    </tr>\n",
       "    <tr>\n",
       "      <th>81987</th>\n",
       "      <td>1.0</td>\n",
       "      <td>355661</td>\n",
       "    </tr>\n",
       "  </tbody>\n",
       "</table>\n",
       "<p>81988 rows × 2 columns</p>\n",
       "</div>"
      ],
      "text/plain": [
       "       preds  pred_index\n",
       "0        1.0      397512\n",
       "1        1.0      152298\n",
       "2        1.0      132652\n",
       "3        0.0      256947\n",
       "4        1.0      398877\n",
       "...      ...         ...\n",
       "81983    1.0      287721\n",
       "81984    0.0       75834\n",
       "81985    0.0      102103\n",
       "81986    1.0       89028\n",
       "81987    1.0      355661\n",
       "\n",
       "[81988 rows x 2 columns]"
      ]
     },
     "execution_count": 82,
     "metadata": {},
     "output_type": "execute_result"
    }
   ],
   "source": [
    "y_predv2"
   ]
  },
  {
   "cell_type": "code",
   "execution_count": 83,
   "id": "c79fbd92-83fd-4d1e-a050-987ab29fd33d",
   "metadata": {},
   "outputs": [],
   "source": [
    "df['pred_index']=df.index"
   ]
  },
  {
   "cell_type": "code",
   "execution_count": 84,
   "id": "8e3d5a25-5fcc-4663-9ccb-edd9f1c51cc5",
   "metadata": {},
   "outputs": [],
   "source": [
    "output=pd.merge(df,y_predv2,on='pred_index',how='left',indicator=True)"
   ]
  },
  {
   "cell_type": "code",
   "execution_count": 85,
   "id": "a11939c3-9343-46b6-8459-bfb5565f3978",
   "metadata": {},
   "outputs": [
    {
     "data": {
      "text/plain": [
       "left_only     327949\n",
       "both           81988\n",
       "right_only         0\n",
       "Name: _merge, dtype: int64"
      ]
     },
     "execution_count": 85,
     "metadata": {},
     "output_type": "execute_result"
    }
   ],
   "source": [
    "output['_merge'].value_counts()"
   ]
  },
  {
   "cell_type": "code",
   "execution_count": 86,
   "id": "c648fd7f-850a-40c0-9942-34d4027ccab5",
   "metadata": {},
   "outputs": [
    {
     "data": {
      "text/html": [
       "<div>\n",
       "<style scoped>\n",
       "    .dataframe tbody tr th:only-of-type {\n",
       "        vertical-align: middle;\n",
       "    }\n",
       "\n",
       "    .dataframe tbody tr th {\n",
       "        vertical-align: top;\n",
       "    }\n",
       "\n",
       "    .dataframe thead th {\n",
       "        text-align: right;\n",
       "    }\n",
       "</style>\n",
       "<table border=\"1\" class=\"dataframe\">\n",
       "  <thead>\n",
       "    <tr style=\"text-align: right;\">\n",
       "      <th></th>\n",
       "      <th>ponum</th>\n",
       "      <th>opid</th>\n",
       "      <th>orderdate</th>\n",
       "      <th>orderdatetimestamp</th>\n",
       "      <th>SupplierId</th>\n",
       "      <th>Dom_Int</th>\n",
       "      <th>MkcID</th>\n",
       "      <th>mkcname</th>\n",
       "      <th>shipclass</th>\n",
       "      <th>shipdate</th>\n",
       "      <th>...</th>\n",
       "      <th>ship_ontime_su</th>\n",
       "      <th>deliveredlate</th>\n",
       "      <th>ServiceLevel</th>\n",
       "      <th>OpcVol</th>\n",
       "      <th>OpcWeight</th>\n",
       "      <th>quantile_ship_to_first_movement</th>\n",
       "      <th>quantile_order_to_delivery_stated</th>\n",
       "      <th>pred_index</th>\n",
       "      <th>preds</th>\n",
       "      <th>_merge</th>\n",
       "    </tr>\n",
       "  </thead>\n",
       "  <tbody>\n",
       "    <tr>\n",
       "      <th>0</th>\n",
       "      <td>357932601</td>\n",
       "      <td>5993218316</td>\n",
       "      <td>2021-09-16</td>\n",
       "      <td>2021-09-16 13:43:33</td>\n",
       "      <td>51314</td>\n",
       "      <td>None</td>\n",
       "      <td>61</td>\n",
       "      <td>Furniture - Bedroom</td>\n",
       "      <td>2</td>\n",
       "      <td>2021-09-17 04:42:27</td>\n",
       "      <td>...</td>\n",
       "      <td>1</td>\n",
       "      <td>1.0</td>\n",
       "      <td>StANDard</td>\n",
       "      <td>NaN</td>\n",
       "      <td>NaN</td>\n",
       "      <td>2</td>\n",
       "      <td>5</td>\n",
       "      <td>36</td>\n",
       "      <td>NaN</td>\n",
       "      <td>left_only</td>\n",
       "    </tr>\n",
       "    <tr>\n",
       "      <th>1</th>\n",
       "      <td>357065046</td>\n",
       "      <td>5981672511</td>\n",
       "      <td>2021-09-11</td>\n",
       "      <td>2021-09-11 13:31:31</td>\n",
       "      <td>42309</td>\n",
       "      <td>None</td>\n",
       "      <td>62</td>\n",
       "      <td>Furniture - Kitchen and Dining</td>\n",
       "      <td>2</td>\n",
       "      <td>2021-09-13 15:53:45</td>\n",
       "      <td>...</td>\n",
       "      <td>1</td>\n",
       "      <td>1.0</td>\n",
       "      <td>StANDard</td>\n",
       "      <td>25333.0</td>\n",
       "      <td>166.45</td>\n",
       "      <td>3</td>\n",
       "      <td>3</td>\n",
       "      <td>40</td>\n",
       "      <td>NaN</td>\n",
       "      <td>left_only</td>\n",
       "    </tr>\n",
       "    <tr>\n",
       "      <th>2</th>\n",
       "      <td>356324769</td>\n",
       "      <td>5974384147</td>\n",
       "      <td>2021-09-06</td>\n",
       "      <td>2021-09-06 23:55:10</td>\n",
       "      <td>51272</td>\n",
       "      <td>Domestic</td>\n",
       "      <td>61</td>\n",
       "      <td>Furniture - Bedroom</td>\n",
       "      <td>3</td>\n",
       "      <td>2021-09-08 19:11:32</td>\n",
       "      <td>...</td>\n",
       "      <td>1</td>\n",
       "      <td>1.0</td>\n",
       "      <td>Threshold</td>\n",
       "      <td>NaN</td>\n",
       "      <td>NaN</td>\n",
       "      <td>3</td>\n",
       "      <td>5</td>\n",
       "      <td>51</td>\n",
       "      <td>1.0</td>\n",
       "      <td>both</td>\n",
       "    </tr>\n",
       "    <tr>\n",
       "      <th>3</th>\n",
       "      <td>356507738</td>\n",
       "      <td>5977258099</td>\n",
       "      <td>2021-09-07</td>\n",
       "      <td>2021-09-07 21:45:18</td>\n",
       "      <td>42260</td>\n",
       "      <td>Domestic</td>\n",
       "      <td>123</td>\n",
       "      <td>Plumbing - Vanities</td>\n",
       "      <td>3</td>\n",
       "      <td>2021-09-08 02:14:00</td>\n",
       "      <td>...</td>\n",
       "      <td>1</td>\n",
       "      <td>1.0</td>\n",
       "      <td>Room of Choice</td>\n",
       "      <td>NaN</td>\n",
       "      <td>NaN</td>\n",
       "      <td>3</td>\n",
       "      <td>4</td>\n",
       "      <td>52</td>\n",
       "      <td>NaN</td>\n",
       "      <td>left_only</td>\n",
       "    </tr>\n",
       "    <tr>\n",
       "      <th>4</th>\n",
       "      <td>355765659</td>\n",
       "      <td>5970135472</td>\n",
       "      <td>2021-09-05</td>\n",
       "      <td>2021-09-05 10:09:39</td>\n",
       "      <td>42762</td>\n",
       "      <td>Domestic</td>\n",
       "      <td>31</td>\n",
       "      <td>Upholstery - Core</td>\n",
       "      <td>3</td>\n",
       "      <td>2021-09-08 22:29:32</td>\n",
       "      <td>...</td>\n",
       "      <td>1</td>\n",
       "      <td>1.0</td>\n",
       "      <td>Threshold</td>\n",
       "      <td>NaN</td>\n",
       "      <td>NaN</td>\n",
       "      <td>2</td>\n",
       "      <td>4</td>\n",
       "      <td>53</td>\n",
       "      <td>NaN</td>\n",
       "      <td>left_only</td>\n",
       "    </tr>\n",
       "    <tr>\n",
       "      <th>...</th>\n",
       "      <td>...</td>\n",
       "      <td>...</td>\n",
       "      <td>...</td>\n",
       "      <td>...</td>\n",
       "      <td>...</td>\n",
       "      <td>...</td>\n",
       "      <td>...</td>\n",
       "      <td>...</td>\n",
       "      <td>...</td>\n",
       "      <td>...</td>\n",
       "      <td>...</td>\n",
       "      <td>...</td>\n",
       "      <td>...</td>\n",
       "      <td>...</td>\n",
       "      <td>...</td>\n",
       "      <td>...</td>\n",
       "      <td>...</td>\n",
       "      <td>...</td>\n",
       "      <td>...</td>\n",
       "      <td>...</td>\n",
       "      <td>...</td>\n",
       "    </tr>\n",
       "    <tr>\n",
       "      <th>409932</th>\n",
       "      <td>395146218</td>\n",
       "      <td>6408611647</td>\n",
       "      <td>2022-03-31</td>\n",
       "      <td>2022-03-31 15:34:14</td>\n",
       "      <td>42326</td>\n",
       "      <td>Domestic</td>\n",
       "      <td>24</td>\n",
       "      <td>Plumbing - Core</td>\n",
       "      <td>3</td>\n",
       "      <td>2022-04-01 02:35:44</td>\n",
       "      <td>...</td>\n",
       "      <td>1</td>\n",
       "      <td>1.0</td>\n",
       "      <td>StANDard</td>\n",
       "      <td>NaN</td>\n",
       "      <td>NaN</td>\n",
       "      <td>1</td>\n",
       "      <td>5</td>\n",
       "      <td>415074</td>\n",
       "      <td>0.0</td>\n",
       "      <td>both</td>\n",
       "    </tr>\n",
       "    <tr>\n",
       "      <th>409933</th>\n",
       "      <td>395083085</td>\n",
       "      <td>6400705305</td>\n",
       "      <td>2022-03-31</td>\n",
       "      <td>2022-03-31 09:17:05</td>\n",
       "      <td>42420</td>\n",
       "      <td>Domestic</td>\n",
       "      <td>62</td>\n",
       "      <td>Furniture - Kitchen and Dining</td>\n",
       "      <td>3</td>\n",
       "      <td>2022-03-31 23:43:44</td>\n",
       "      <td>...</td>\n",
       "      <td>1</td>\n",
       "      <td>1.0</td>\n",
       "      <td>StANDard</td>\n",
       "      <td>NaN</td>\n",
       "      <td>NaN</td>\n",
       "      <td>1</td>\n",
       "      <td>1</td>\n",
       "      <td>415075</td>\n",
       "      <td>NaN</td>\n",
       "      <td>left_only</td>\n",
       "    </tr>\n",
       "    <tr>\n",
       "      <th>409934</th>\n",
       "      <td>395086706</td>\n",
       "      <td>6410957165</td>\n",
       "      <td>2022-03-31</td>\n",
       "      <td>2022-03-31 09:45:54</td>\n",
       "      <td>41305</td>\n",
       "      <td>Domestic</td>\n",
       "      <td>7</td>\n",
       "      <td>Entertainment Furniture</td>\n",
       "      <td>2</td>\n",
       "      <td>2022-03-31 23:43:44</td>\n",
       "      <td>...</td>\n",
       "      <td>1</td>\n",
       "      <td>1.0</td>\n",
       "      <td>StANDard</td>\n",
       "      <td>NaN</td>\n",
       "      <td>NaN</td>\n",
       "      <td>1</td>\n",
       "      <td>1</td>\n",
       "      <td>415076</td>\n",
       "      <td>1.0</td>\n",
       "      <td>both</td>\n",
       "    </tr>\n",
       "    <tr>\n",
       "      <th>409935</th>\n",
       "      <td>395095460</td>\n",
       "      <td>6410930145</td>\n",
       "      <td>2022-03-31</td>\n",
       "      <td>2022-03-31 10:43:43</td>\n",
       "      <td>61804</td>\n",
       "      <td>Domestic</td>\n",
       "      <td>123</td>\n",
       "      <td>Plumbing - Vanities</td>\n",
       "      <td>2</td>\n",
       "      <td>2022-03-31 23:35:29</td>\n",
       "      <td>...</td>\n",
       "      <td>1</td>\n",
       "      <td>1.0</td>\n",
       "      <td>StANDard</td>\n",
       "      <td>NaN</td>\n",
       "      <td>NaN</td>\n",
       "      <td>1</td>\n",
       "      <td>1</td>\n",
       "      <td>415077</td>\n",
       "      <td>NaN</td>\n",
       "      <td>left_only</td>\n",
       "    </tr>\n",
       "    <tr>\n",
       "      <th>409936</th>\n",
       "      <td>395106549</td>\n",
       "      <td>6411400141</td>\n",
       "      <td>2022-03-31</td>\n",
       "      <td>2022-03-31 11:50:40</td>\n",
       "      <td>42415</td>\n",
       "      <td>Domestic</td>\n",
       "      <td>123</td>\n",
       "      <td>Plumbing - Vanities</td>\n",
       "      <td>2</td>\n",
       "      <td>2022-03-31 23:35:29</td>\n",
       "      <td>...</td>\n",
       "      <td>1</td>\n",
       "      <td>1.0</td>\n",
       "      <td>StANDard</td>\n",
       "      <td>NaN</td>\n",
       "      <td>NaN</td>\n",
       "      <td>1</td>\n",
       "      <td>1</td>\n",
       "      <td>415078</td>\n",
       "      <td>1.0</td>\n",
       "      <td>both</td>\n",
       "    </tr>\n",
       "  </tbody>\n",
       "</table>\n",
       "<p>409937 rows × 38 columns</p>\n",
       "</div>"
      ],
      "text/plain": [
       "            ponum        opid   orderdate   orderdatetimestamp  SupplierId  \\\n",
       "0       357932601  5993218316  2021-09-16  2021-09-16 13:43:33       51314   \n",
       "1       357065046  5981672511  2021-09-11  2021-09-11 13:31:31       42309   \n",
       "2       356324769  5974384147  2021-09-06  2021-09-06 23:55:10       51272   \n",
       "3       356507738  5977258099  2021-09-07  2021-09-07 21:45:18       42260   \n",
       "4       355765659  5970135472  2021-09-05  2021-09-05 10:09:39       42762   \n",
       "...           ...         ...         ...                  ...         ...   \n",
       "409932  395146218  6408611647  2022-03-31  2022-03-31 15:34:14       42326   \n",
       "409933  395083085  6400705305  2022-03-31  2022-03-31 09:17:05       42420   \n",
       "409934  395086706  6410957165  2022-03-31  2022-03-31 09:45:54       41305   \n",
       "409935  395095460  6410930145  2022-03-31  2022-03-31 10:43:43       61804   \n",
       "409936  395106549  6411400141  2022-03-31  2022-03-31 11:50:40       42415   \n",
       "\n",
       "         Dom_Int  MkcID                         mkcname  shipclass  \\\n",
       "0           None     61             Furniture - Bedroom          2   \n",
       "1           None     62  Furniture - Kitchen and Dining          2   \n",
       "2       Domestic     61             Furniture - Bedroom          3   \n",
       "3       Domestic    123             Plumbing - Vanities          3   \n",
       "4       Domestic     31               Upholstery - Core          3   \n",
       "...          ...    ...                             ...        ...   \n",
       "409932  Domestic     24                 Plumbing - Core          3   \n",
       "409933  Domestic     62  Furniture - Kitchen and Dining          3   \n",
       "409934  Domestic      7         Entertainment Furniture          2   \n",
       "409935  Domestic    123             Plumbing - Vanities          2   \n",
       "409936  Domestic    123             Plumbing - Vanities          2   \n",
       "\n",
       "                   shipdate  ... ship_ontime_su deliveredlate    ServiceLevel  \\\n",
       "0       2021-09-17 04:42:27  ...              1           1.0        StANDard   \n",
       "1       2021-09-13 15:53:45  ...              1           1.0        StANDard   \n",
       "2       2021-09-08 19:11:32  ...              1           1.0       Threshold   \n",
       "3       2021-09-08 02:14:00  ...              1           1.0  Room of Choice   \n",
       "4       2021-09-08 22:29:32  ...              1           1.0       Threshold   \n",
       "...                     ...  ...            ...           ...             ...   \n",
       "409932  2022-04-01 02:35:44  ...              1           1.0        StANDard   \n",
       "409933  2022-03-31 23:43:44  ...              1           1.0        StANDard   \n",
       "409934  2022-03-31 23:43:44  ...              1           1.0        StANDard   \n",
       "409935  2022-03-31 23:35:29  ...              1           1.0        StANDard   \n",
       "409936  2022-03-31 23:35:29  ...              1           1.0        StANDard   \n",
       "\n",
       "         OpcVol OpcWeight quantile_ship_to_first_movement  \\\n",
       "0           NaN       NaN                               2   \n",
       "1       25333.0    166.45                               3   \n",
       "2           NaN       NaN                               3   \n",
       "3           NaN       NaN                               3   \n",
       "4           NaN       NaN                               2   \n",
       "...         ...       ...                             ...   \n",
       "409932      NaN       NaN                               1   \n",
       "409933      NaN       NaN                               1   \n",
       "409934      NaN       NaN                               1   \n",
       "409935      NaN       NaN                               1   \n",
       "409936      NaN       NaN                               1   \n",
       "\n",
       "       quantile_order_to_delivery_stated pred_index preds     _merge  \n",
       "0                                      5         36   NaN  left_only  \n",
       "1                                      3         40   NaN  left_only  \n",
       "2                                      5         51   1.0       both  \n",
       "3                                      4         52   NaN  left_only  \n",
       "4                                      4         53   NaN  left_only  \n",
       "...                                  ...        ...   ...        ...  \n",
       "409932                                 5     415074   0.0       both  \n",
       "409933                                 1     415075   NaN  left_only  \n",
       "409934                                 1     415076   1.0       both  \n",
       "409935                                 1     415077   NaN  left_only  \n",
       "409936                                 1     415078   1.0       both  \n",
       "\n",
       "[409937 rows x 38 columns]"
      ]
     },
     "execution_count": 86,
     "metadata": {},
     "output_type": "execute_result"
    }
   ],
   "source": [
    "output"
   ]
  },
  {
   "cell_type": "code",
   "execution_count": 87,
   "id": "c36304e3-1498-4592-b783-edd4e960f511",
   "metadata": {},
   "outputs": [],
   "source": [
    "output.to_csv(r'delivered_late_prediction.csv')"
   ]
  },
  {
   "cell_type": "code",
   "execution_count": null,
   "id": "be2d07df-ac1d-401f-a961-ed8595a0cd17",
   "metadata": {},
   "outputs": [],
   "source": []
  }
 ],
 "metadata": {
  "environment": {
   "kernel": "python3",
   "name": "common-cpu.m93",
   "type": "gcloud",
   "uri": "gcr.io/deeplearning-platform-release/base-cpu:m93"
  },
  "kernelspec": {
   "display_name": "Python 3",
   "language": "python",
   "name": "python3"
  },
  "language_info": {
   "codemirror_mode": {
    "name": "ipython",
    "version": 3
   },
   "file_extension": ".py",
   "mimetype": "text/x-python",
   "name": "python",
   "nbconvert_exporter": "python",
   "pygments_lexer": "ipython3",
   "version": "3.7.12"
  }
 },
 "nbformat": 4,
 "nbformat_minor": 5
}
