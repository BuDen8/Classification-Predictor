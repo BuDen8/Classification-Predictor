{
 "cells": [
  {
   "cell_type": "markdown",
   "id": "a9d75558-fcda-43c9-ac79-87f7f1517867",
   "metadata": {},
   "source": [
    "# Delivered Late Random Forest GAT Hackathon LP Code"
   ]
  },
  {
   "cell_type": "code",
   "execution_count": 1,
   "id": "f7ec03ee-5dac-445c-9bbf-7ddb9f968ad5",
   "metadata": {
    "tags": []
   },
   "outputs": [],
   "source": [
    "import numpy as np\n",
    "import pandas as pd\n",
    "\n",
    "import pickle\n",
    "\n",
    "import matplotlib.pyplot as plt\n",
    "import seaborn as sns\n",
    "\n",
    "from imblearn.over_sampling  import SMOTE\n",
    "from imblearn.pipeline import Pipeline as PipelineImb\n",
    "\n",
    "from sklearn import metrics\n",
    "from sklearn.linear_model import LogisticRegression\n",
    "from sklearn.ensemble import RandomForestClassifier\n",
    "from sklearn.preprocessing import OneHotEncoder, MinMaxScaler\n",
    "from sklearn.impute import SimpleImputer\n",
    "from sklearn.model_selection import train_test_split, GridSearchCV"
   ]
  },
  {
   "cell_type": "code",
   "execution_count": 2,
   "id": "da2fbeb5-75d0-436b-a8e3-f8d82d96a526",
   "metadata": {},
   "outputs": [],
   "source": [
    "from google.cloud.bigquery import Client"
   ]
  },
  {
   "cell_type": "code",
   "execution_count": 3,
   "id": "f82330ab-8ffb-40cd-9243-cb920504fa93",
   "metadata": {},
   "outputs": [],
   "source": [
    "bigquery_client = Client(project='wf-gcp-us-ae-gat-rpt')"
   ]
  },
  {
   "cell_type": "markdown",
   "id": "6024936a-d510-4fe2-9f62-7965f64ea0cd",
   "metadata": {},
   "source": [
    "### Querying Data"
   ]
  },
  {
   "cell_type": "code",
   "execution_count": 4,
   "id": "66ef79f6-b3fa-4ce0-b7ad-e99d787219d5",
   "metadata": {},
   "outputs": [],
   "source": [
    "sql = \"\"\"\n",
    "select a.*,OpcVol,OpcWeight,case when ship_to_first_movement_hour<=0 then 1\n",
    "when ship_to_first_movement_hour<=4 and ship_to_first_movement_hour>0 then 2\n",
    "else 3 end as quantile_ship_to_first_movement,\n",
    "case when order_to_delivery_stated_day<3 then 1\n",
    "when order_to_delivery_stated_day<5 and order_to_delivery_stated_day>=3 then 2\n",
    "when order_to_delivery_stated_day<9 and order_to_delivery_stated_day>=5 then 3\n",
    "when order_to_delivery_stated_day<13 and order_to_delivery_stated_day>=9 then 4\n",
    "else 5 end as quantile_order_to_delivery_stated from `wf-gcp-us-ae-ops-prod.analyticstech_adhoc.tbl_summer_hackathon_delivery_late_lp` a\n",
    "LEFT JOIN (select distinct opcopid,max(OpcHeight*OpcWidth*OpcDepth) as OpcVol,max(OpcWeight) as OpcWeight from `wf-gcp-us-ae-sql-data-prod.csn_order.tbl_order_product_carton` group by 1 order by 1) b on a.opid=b.opcopID\n",
    "\"\"\""
   ]
  },
  {
   "cell_type": "code",
   "execution_count": 5,
   "id": "7268c0f2-6118-4997-9f94-f5aedef04def",
   "metadata": {},
   "outputs": [],
   "source": [
    "df=bigquery_client.query(sql).to_dataframe()"
   ]
  },
  {
   "cell_type": "code",
   "execution_count": 6,
   "id": "45b776b1-3e8f-4c25-8bd5-f1780d3af7a1",
   "metadata": {
    "tags": []
   },
   "outputs": [
    {
     "data": {
      "text/html": [
       "<div>\n",
       "<style scoped>\n",
       "    .dataframe tbody tr th:only-of-type {\n",
       "        vertical-align: middle;\n",
       "    }\n",
       "\n",
       "    .dataframe tbody tr th {\n",
       "        vertical-align: top;\n",
       "    }\n",
       "\n",
       "    .dataframe thead th {\n",
       "        text-align: right;\n",
       "    }\n",
       "</style>\n",
       "<table border=\"1\" class=\"dataframe\">\n",
       "  <thead>\n",
       "    <tr style=\"text-align: right;\">\n",
       "      <th></th>\n",
       "      <th>ponum</th>\n",
       "      <th>opid</th>\n",
       "      <th>orderdate</th>\n",
       "      <th>orderdatetimestamp</th>\n",
       "      <th>SupplierId</th>\n",
       "      <th>Dom_Int</th>\n",
       "      <th>MkcID</th>\n",
       "      <th>mkcname</th>\n",
       "      <th>shipclass</th>\n",
       "      <th>shipdate</th>\n",
       "      <th>...</th>\n",
       "      <th>order_to_delivery_stated_day</th>\n",
       "      <th>hour_of_order_date</th>\n",
       "      <th>ship_ontime_cu</th>\n",
       "      <th>ship_ontime_su</th>\n",
       "      <th>deliveredlate</th>\n",
       "      <th>ServiceLevel</th>\n",
       "      <th>OpcVol</th>\n",
       "      <th>OpcWeight</th>\n",
       "      <th>quantile_ship_to_first_movement</th>\n",
       "      <th>quantile_order_to_delivery_stated</th>\n",
       "    </tr>\n",
       "  </thead>\n",
       "  <tbody>\n",
       "    <tr>\n",
       "      <th>0</th>\n",
       "      <td>363291262</td>\n",
       "      <td>6057490501</td>\n",
       "      <td>2021-10-18</td>\n",
       "      <td>2021-10-18 11:04:20</td>\n",
       "      <td>29993</td>\n",
       "      <td>None</td>\n",
       "      <td>123</td>\n",
       "      <td>Plumbing - Vanities</td>\n",
       "      <td>2</td>\n",
       "      <td>2021-10-19 00:00:00</td>\n",
       "      <td>...</td>\n",
       "      <td>16.0</td>\n",
       "      <td>11</td>\n",
       "      <td>NaN</td>\n",
       "      <td>1</td>\n",
       "      <td>NaN</td>\n",
       "      <td>None</td>\n",
       "      <td>NaN</td>\n",
       "      <td>NaN</td>\n",
       "      <td>3</td>\n",
       "      <td>5</td>\n",
       "    </tr>\n",
       "    <tr>\n",
       "      <th>1</th>\n",
       "      <td>357554075</td>\n",
       "      <td>5989279065</td>\n",
       "      <td>2021-09-14</td>\n",
       "      <td>2021-09-14 09:21:27</td>\n",
       "      <td>42322</td>\n",
       "      <td>None</td>\n",
       "      <td>61</td>\n",
       "      <td>Furniture - Bedroom</td>\n",
       "      <td>3</td>\n",
       "      <td>2021-09-16 10:20:32</td>\n",
       "      <td>...</td>\n",
       "      <td>13.0</td>\n",
       "      <td>9</td>\n",
       "      <td>NaN</td>\n",
       "      <td>1</td>\n",
       "      <td>1.0</td>\n",
       "      <td>None</td>\n",
       "      <td>NaN</td>\n",
       "      <td>NaN</td>\n",
       "      <td>2</td>\n",
       "      <td>5</td>\n",
       "    </tr>\n",
       "    <tr>\n",
       "      <th>2</th>\n",
       "      <td>361794303</td>\n",
       "      <td>6039956949</td>\n",
       "      <td>2021-10-09</td>\n",
       "      <td>2021-10-09 21:05:37</td>\n",
       "      <td>42974</td>\n",
       "      <td>None</td>\n",
       "      <td>62</td>\n",
       "      <td>Furniture - Kitchen and Dining</td>\n",
       "      <td>2</td>\n",
       "      <td>2021-10-11 07:40:00</td>\n",
       "      <td>...</td>\n",
       "      <td>13.0</td>\n",
       "      <td>21</td>\n",
       "      <td>NaN</td>\n",
       "      <td>0</td>\n",
       "      <td>NaN</td>\n",
       "      <td>StANDard</td>\n",
       "      <td>NaN</td>\n",
       "      <td>NaN</td>\n",
       "      <td>2</td>\n",
       "      <td>5</td>\n",
       "    </tr>\n",
       "    <tr>\n",
       "      <th>3</th>\n",
       "      <td>361757040</td>\n",
       "      <td>6039608333</td>\n",
       "      <td>2021-10-09</td>\n",
       "      <td>2021-10-09 17:08:53</td>\n",
       "      <td>42904</td>\n",
       "      <td>None</td>\n",
       "      <td>61</td>\n",
       "      <td>Furniture - Bedroom</td>\n",
       "      <td>3</td>\n",
       "      <td>2021-10-11 07:40:00</td>\n",
       "      <td>...</td>\n",
       "      <td>13.0</td>\n",
       "      <td>17</td>\n",
       "      <td>NaN</td>\n",
       "      <td>0</td>\n",
       "      <td>NaN</td>\n",
       "      <td>Threshold</td>\n",
       "      <td>NaN</td>\n",
       "      <td>NaN</td>\n",
       "      <td>2</td>\n",
       "      <td>5</td>\n",
       "    </tr>\n",
       "    <tr>\n",
       "      <th>4</th>\n",
       "      <td>361420363</td>\n",
       "      <td>6036087731</td>\n",
       "      <td>2021-10-07</td>\n",
       "      <td>2021-10-07 16:16:09</td>\n",
       "      <td>42283</td>\n",
       "      <td>None</td>\n",
       "      <td>31</td>\n",
       "      <td>Upholstery - Core</td>\n",
       "      <td>2</td>\n",
       "      <td>2021-10-08 15:46:00</td>\n",
       "      <td>...</td>\n",
       "      <td>1.0</td>\n",
       "      <td>16</td>\n",
       "      <td>NaN</td>\n",
       "      <td>1</td>\n",
       "      <td>NaN</td>\n",
       "      <td>StANDard</td>\n",
       "      <td>NaN</td>\n",
       "      <td>NaN</td>\n",
       "      <td>2</td>\n",
       "      <td>1</td>\n",
       "    </tr>\n",
       "  </tbody>\n",
       "</table>\n",
       "<p>5 rows × 35 columns</p>\n",
       "</div>"
      ],
      "text/plain": [
       "       ponum        opid   orderdate   orderdatetimestamp  SupplierId Dom_Int  \\\n",
       "0  363291262  6057490501  2021-10-18  2021-10-18 11:04:20       29993    None   \n",
       "1  357554075  5989279065  2021-09-14  2021-09-14 09:21:27       42322    None   \n",
       "2  361794303  6039956949  2021-10-09  2021-10-09 21:05:37       42974    None   \n",
       "3  361757040  6039608333  2021-10-09  2021-10-09 17:08:53       42904    None   \n",
       "4  361420363  6036087731  2021-10-07  2021-10-07 16:16:09       42283    None   \n",
       "\n",
       "   MkcID                         mkcname  shipclass             shipdate  ...  \\\n",
       "0    123             Plumbing - Vanities          2  2021-10-19 00:00:00  ...   \n",
       "1     61             Furniture - Bedroom          3  2021-09-16 10:20:32  ...   \n",
       "2     62  Furniture - Kitchen and Dining          2  2021-10-11 07:40:00  ...   \n",
       "3     61             Furniture - Bedroom          3  2021-10-11 07:40:00  ...   \n",
       "4     31               Upholstery - Core          2  2021-10-08 15:46:00  ...   \n",
       "\n",
       "  order_to_delivery_stated_day hour_of_order_date ship_ontime_cu  \\\n",
       "0                         16.0                 11            NaN   \n",
       "1                         13.0                  9            NaN   \n",
       "2                         13.0                 21            NaN   \n",
       "3                         13.0                 17            NaN   \n",
       "4                          1.0                 16            NaN   \n",
       "\n",
       "   ship_ontime_su deliveredlate ServiceLevel OpcVol OpcWeight  \\\n",
       "0               1           NaN         None    NaN       NaN   \n",
       "1               1           1.0         None    NaN       NaN   \n",
       "2               0           NaN     StANDard    NaN       NaN   \n",
       "3               0           NaN    Threshold    NaN       NaN   \n",
       "4               1           NaN     StANDard    NaN       NaN   \n",
       "\n",
       "  quantile_ship_to_first_movement quantile_order_to_delivery_stated  \n",
       "0                               3                                 5  \n",
       "1                               2                                 5  \n",
       "2                               2                                 5  \n",
       "3                               2                                 5  \n",
       "4                               2                                 1  \n",
       "\n",
       "[5 rows x 35 columns]"
      ]
     },
     "execution_count": 6,
     "metadata": {},
     "output_type": "execute_result"
    }
   ],
   "source": [
    "df.head()"
   ]
  },
  {
   "cell_type": "markdown",
   "id": "c52a315b-63b5-434a-9912-71aa06858cc7",
   "metadata": {},
   "source": [
    "### Looking at split between Delivered Late and not Late orders in database"
   ]
  },
  {
   "cell_type": "code",
   "execution_count": 7,
   "id": "0cb976be-cccd-4d1d-97c5-d163f6e515bf",
   "metadata": {},
   "outputs": [
    {
     "data": {
      "image/png": "[encoded data removed]",
      "text/plain": [
       "<Figure size 504x360 with 1 Axes>"
      ]
     },
     "metadata": {
      "needs_background": "light"
     },
     "output_type": "display_data"
    }
   ],
   "source": [
    "f, ax = plt.subplots(figsize=(7, 5))\n",
    "sns.countplot(x='deliveredlate', data=df)\n",
    "_ = plt.title('# Delivered Late v not Late')\n",
    "_ = plt.xlabel('DeliveredLate (1==Late)')"
   ]
  },
  {
   "cell_type": "markdown",
   "id": "5bc6a8f6-42f8-4a0b-be0a-43aef04c9064",
   "metadata": {},
   "source": [
    "### Removing NA delivered late orders and using mean/mode to substitue NAs from the numerical/categorical features resepectively"
   ]
  },
  {
   "cell_type": "code",
   "execution_count": 8,
   "id": "a5d29d5d-992a-4db3-9069-e55801a446dc",
   "metadata": {},
   "outputs": [],
   "source": [
    "df = df[df['deliveredlate'].notna()]"
   ]
  },
  {
   "cell_type": "code",
   "execution_count": 9,
   "id": "344da304-841b-40c8-8492-f80b558996c5",
   "metadata": {},
   "outputs": [],
   "source": [
    "# Filling missing numerical values with mean\n",
    "df['volume_last_48h'] = df['volume_last_48h'].fillna(df['volume_last_48h'].mean())"
   ]
  },
  {
   "cell_type": "code",
   "execution_count": 10,
   "id": "bf29ef94-ca3e-4e01-8f60-6249f3061a1b",
   "metadata": {},
   "outputs": [],
   "source": [
    "# Filling missing categorical values with mode\n",
    "df['whname'] = df['whname'].fillna(df['whname'].mode()[0])\n",
    "df['whname'] = df['whname'].apply(str)\n",
    "\n",
    "df['mkcname'] = df['mkcname'].fillna(df['mkcname'].mode()[0])\n",
    "\n",
    "\n",
    "df['quantile_ship_to_first_movement'] = df['quantile_ship_to_first_movement'].fillna(df['quantile_ship_to_first_movement'].mode()[0])\n",
    "\n",
    "df['quantile_order_to_delivery_stated'] = df['quantile_order_to_delivery_stated'].fillna(df['quantile_order_to_delivery_stated'].mode()[0])\n",
    "df['ServiceLevel'] = df['ServiceLevel'].fillna(df['ServiceLevel'].mode()[0])"
   ]
  },
  {
   "cell_type": "markdown",
   "id": "137be8c8-1730-45b5-9b8b-763793458115",
   "metadata": {},
   "source": [
    "### Looking at features to test how good they are at predicting Delivered Late individually and declaring categorical features as cat_fields"
   ]
  },
  {
   "cell_type": "code",
   "execution_count": 11,
   "id": "5413b6ca-5144-4a1f-951a-8a3c7bb0f14a",
   "metadata": {},
   "outputs": [],
   "source": [
    "X=df[['quantile_ship_to_first_movement','quantile_order_to_delivery_stated','volume_last_48h','volume_last_24h','whname','mkcname','ServiceLevel']]\n",
    "cat_fields = ['quantile_ship_to_first_movement','quantile_order_to_delivery_stated','whname', 'mkcname','ServiceLevel']"
   ]
  },
  {
   "cell_type": "code",
   "execution_count": 12,
   "id": "21035555-d32f-4f1c-beb7-af084cd0c628",
   "metadata": {},
   "outputs": [
    {
     "name": "stdout",
     "output_type": "stream",
     "text": [
      "col=quantile_ship_to_first_movement, auc=0.5298133185802727\n",
      "col=quantile_order_to_delivery_stated, auc=0.7660199586287534\n",
      "col=volume_last_48h, auc=0.552211245090955\n",
      "col=volume_last_24h, auc=0.5422321913749376\n",
      "col=whname, auc=0.5505174754650778\n",
      "col=mkcname, auc=0.5193230610574708\n",
      "col=ServiceLevel, auc=0.558112216258156\n"
     ]
    }
   ],
   "source": [
    "y = df['deliveredlate']\n",
    "\n",
    "list_models = list()\n",
    "for j, col in enumerate(X):\n",
    "    _X = pd.DataFrame(df[col]).reset_index(drop=True)\n",
    "    if col in cat_fields:\n",
    "        enc = OneHotEncoder(categories=\"auto\", handle_unknown=\"error\", drop='first', sparse=False)\n",
    "        _X_ohe = pd.DataFrame(enc.fit_transform(pd.DataFrame(_X)), columns=enc.get_feature_names_out()).reset_index(drop=True)\n",
    "        _X = pd.concat([_X.drop(columns=col, axis=1), _X_ohe], axis=1)\n",
    "\n",
    "    x_train, x_test, y_train, y_test = train_test_split(_X, y, train_size=0.8, random_state=42)\n",
    "    \n",
    "\n",
    "    _model = PipelineImb([\n",
    "\n",
    "             ('Imputer', SimpleImputer(missing_values=np.nan, strategy=\"median\")), \n",
    "             ('Scaling', MinMaxScaler(clip=True)),\n",
    "             ('RF', RandomForestClassifier(n_jobs=-1, oob_score = True, random_state=42))\n",
    "\n",
    "                ])\n",
    "\n",
    "    _model.fit(x_train, y_train)\n",
    "\n",
    "    y_pred_proba = _model.predict_proba(x_test)[::,1]\n",
    "    auc = metrics.roc_auc_score(y_test, y_pred_proba)\n",
    "    print(f'col={col}, auc={auc}')\n",
    "    \n",
    "    list_models.append((col, auc))\n",
    "\n",
    "df_list_models = pd.DataFrame(list_models, columns=['feature', 'AUC']).sort_values(by='AUC')"
   ]
  },
  {
   "cell_type": "markdown",
   "id": "1b034995-1499-48ab-889a-503f718afabc",
   "metadata": {},
   "source": [
    "### Check for Correlation between potential features to avoid highly correlated ones"
   ]
  },
  {
   "cell_type": "code",
   "execution_count": 13,
   "id": "ae289fc1-fc6f-492b-8c8e-fa2b46c33da4",
   "metadata": {
    "tags": []
   },
   "outputs": [
    {
     "data": {
      "image/png": "[encoded data removed]",
      "text/plain": [
       "<Figure size 1080x1080 with 2 Axes>"
      ]
     },
     "metadata": {
      "needs_background": "light"
     },
     "output_type": "display_data"
    }
   ],
   "source": [
    "num_feat=X[['volume_last_48h','volume_last_24h']]\n",
    "corr = num_feat.corr('pearson')\n",
    "mask = np.triu(corr)\n",
    "plt.figure(figsize=(15, 15))\n",
    "ax = sns.heatmap(\n",
    "    corr, \n",
    "    vmin=-1, vmax=1, center=0,\n",
    "    cmap=sns.diverging_palette(20, 220, n=100),\n",
    "    square=True,\n",
    "    mask=mask\n",
    ")\n",
    "plt.title('Correlation Matrix for Numerical features')\n",
    "plt.show()"
   ]
  },
  {
   "cell_type": "code",
   "execution_count": 14,
   "id": "ef992dff-df58-4004-a284-3740c13443e4",
   "metadata": {},
   "outputs": [],
   "source": [
    "features=['quantile_order_to_delivery_stated','volume_last_48h','whname','ServiceLevel']"
   ]
  },
  {
   "cell_type": "markdown",
   "id": "2b974955-94ea-4f71-ad7c-fb0456f1474f",
   "metadata": {
    "tags": []
   },
   "source": [
    "### Testing AUC Score of RF and LR models with different hyperparameters to identify best one"
   ]
  },
  {
   "cell_type": "code",
   "execution_count": 15,
   "id": "a8cd3bed-1885-4ece-a9c2-c785a1c6af3a",
   "metadata": {
    "tags": []
   },
   "outputs": [
    {
     "name": "stdout",
     "output_type": "stream",
     "text": [
      "Fitting 5 folds for each of 36 candidates, totalling 180 fits\n",
      "[CV 1/5] END RF__max_depth=20, RF__max_features=10, RF__max_samples=0.5, RF__min_samples_split=5;, score=0.800 total time=  16.4s\n",
      "[CV 2/5] END RF__max_depth=20, RF__max_features=10, RF__max_samples=0.5, RF__min_samples_split=5;, score=0.798 total time=  14.9s\n",
      "[CV 3/5] END RF__max_depth=20, RF__max_features=10, RF__max_samples=0.5, RF__min_samples_split=5;, score=0.798 total time=  14.8s\n",
      "[CV 4/5] END RF__max_depth=20, RF__max_features=10, RF__max_samples=0.5, RF__min_samples_split=5;, score=0.800 total time=  14.9s\n",
      "[CV 5/5] END RF__max_depth=20, RF__max_features=10, RF__max_samples=0.5, RF__min_samples_split=5;, score=0.799 total time=  15.0s\n",
      "[CV 1/5] END RF__max_depth=20, RF__max_features=10, RF__max_samples=0.5, RF__min_samples_split=10;, score=0.801 total time=  14.7s\n",
      "[CV 2/5] END RF__max_depth=20, RF__max_features=10, RF__max_samples=0.5, RF__min_samples_split=10;, score=0.799 total time=  14.9s\n",
      "[CV 3/5] END RF__max_depth=20, RF__max_features=10, RF__max_samples=0.5, RF__min_samples_split=10;, score=0.799 total time=  14.7s\n",
      "[CV 4/5] END RF__max_depth=20, RF__max_features=10, RF__max_samples=0.5, RF__min_samples_split=10;, score=0.801 total time=  14.9s\n",
      "[CV 5/5] END RF__max_depth=20, RF__max_features=10, RF__max_samples=0.5, RF__min_samples_split=10;, score=0.800 total time=  14.8s\n",
      "[CV 1/5] END RF__max_depth=20, RF__max_features=10, RF__max_samples=0.8, RF__min_samples_split=5;, score=0.799 total time=  16.1s\n",
      "[CV 2/5] END RF__max_depth=20, RF__max_features=10, RF__max_samples=0.8, RF__min_samples_split=5;, score=0.798 total time=  16.2s\n",
      "[CV 3/5] END RF__max_depth=20, RF__max_features=10, RF__max_samples=0.8, RF__min_samples_split=5;, score=0.798 total time=  16.5s\n",
      "[CV 4/5] END RF__max_depth=20, RF__max_features=10, RF__max_samples=0.8, RF__min_samples_split=5;, score=0.800 total time=  16.2s\n",
      "[CV 5/5] END RF__max_depth=20, RF__max_features=10, RF__max_samples=0.8, RF__min_samples_split=5;, score=0.799 total time=  16.5s\n",
      "[CV 1/5] END RF__max_depth=20, RF__max_features=10, RF__max_samples=0.8, RF__min_samples_split=10;, score=0.800 total time=  16.2s\n",
      "[CV 2/5] END RF__max_depth=20, RF__max_features=10, RF__max_samples=0.8, RF__min_samples_split=10;, score=0.798 total time=  16.4s\n",
      "[CV 3/5] END RF__max_depth=20, RF__max_features=10, RF__max_samples=0.8, RF__min_samples_split=10;, score=0.798 total time=  16.1s\n",
      "[CV 4/5] END RF__max_depth=20, RF__max_features=10, RF__max_samples=0.8, RF__min_samples_split=10;, score=0.800 total time=  16.1s\n",
      "[CV 5/5] END RF__max_depth=20, RF__max_features=10, RF__max_samples=0.8, RF__min_samples_split=10;, score=0.799 total time=  16.2s\n",
      "[CV 1/5] END RF__max_depth=20, RF__max_features=10, RF__max_samples=None, RF__min_samples_split=5;, score=0.799 total time=  17.0s\n",
      "[CV 2/5] END RF__max_depth=20, RF__max_features=10, RF__max_samples=None, RF__min_samples_split=5;, score=0.798 total time=  16.8s\n",
      "[CV 3/5] END RF__max_depth=20, RF__max_features=10, RF__max_samples=None, RF__min_samples_split=5;, score=0.797 total time=  16.8s\n",
      "[CV 4/5] END RF__max_depth=20, RF__max_features=10, RF__max_samples=None, RF__min_samples_split=5;, score=0.799 total time=  17.2s\n",
      "[CV 5/5] END RF__max_depth=20, RF__max_features=10, RF__max_samples=None, RF__min_samples_split=5;, score=0.798 total time=  16.9s\n",
      "[CV 1/5] END RF__max_depth=20, RF__max_features=10, RF__max_samples=None, RF__min_samples_split=10;, score=0.799 total time=  16.7s\n",
      "[CV 2/5] END RF__max_depth=20, RF__max_features=10, RF__max_samples=None, RF__min_samples_split=10;, score=0.798 total time=  16.8s\n",
      "[CV 3/5] END RF__max_depth=20, RF__max_features=10, RF__max_samples=None, RF__min_samples_split=10;, score=0.798 total time=  17.1s\n",
      "[CV 4/5] END RF__max_depth=20, RF__max_features=10, RF__max_samples=None, RF__min_samples_split=10;, score=0.800 total time=  17.0s\n",
      "[CV 5/5] END RF__max_depth=20, RF__max_features=10, RF__max_samples=None, RF__min_samples_split=10;, score=0.799 total time=  17.2s\n",
      "[CV 1/5] END RF__max_depth=20, RF__max_features=20, RF__max_samples=0.5, RF__min_samples_split=5;, score=0.799 total time=  18.3s\n",
      "[CV 2/5] END RF__max_depth=20, RF__max_features=20, RF__max_samples=0.5, RF__min_samples_split=5;, score=0.798 total time=  18.4s\n",
      "[CV 3/5] END RF__max_depth=20, RF__max_features=20, RF__max_samples=0.5, RF__min_samples_split=5;, score=0.798 total time=  18.3s\n",
      "[CV 4/5] END RF__max_depth=20, RF__max_features=20, RF__max_samples=0.5, RF__min_samples_split=5;, score=0.800 total time=  18.5s\n",
      "[CV 5/5] END RF__max_depth=20, RF__max_features=20, RF__max_samples=0.5, RF__min_samples_split=5;, score=0.799 total time=  18.2s\n",
      "[CV 1/5] END RF__max_depth=20, RF__max_features=20, RF__max_samples=0.5, RF__min_samples_split=10;, score=0.800 total time=  18.1s\n",
      "[CV 2/5] END RF__max_depth=20, RF__max_features=20, RF__max_samples=0.5, RF__min_samples_split=10;, score=0.798 total time=  17.9s\n",
      "[CV 3/5] END RF__max_depth=20, RF__max_features=20, RF__max_samples=0.5, RF__min_samples_split=10;, score=0.798 total time=  18.3s\n",
      "[CV 4/5] END RF__max_depth=20, RF__max_features=20, RF__max_samples=0.5, RF__min_samples_split=10;, score=0.800 total time=  18.0s\n",
      "[CV 5/5] END RF__max_depth=20, RF__max_features=20, RF__max_samples=0.5, RF__min_samples_split=10;, score=0.800 total time=  18.0s\n",
      "[CV 1/5] END RF__max_depth=20, RF__max_features=20, RF__max_samples=0.8, RF__min_samples_split=5;, score=0.798 total time=  20.7s\n",
      "[CV 2/5] END RF__max_depth=20, RF__max_features=20, RF__max_samples=0.8, RF__min_samples_split=5;, score=0.797 total time=  20.3s\n",
      "[CV 3/5] END RF__max_depth=20, RF__max_features=20, RF__max_samples=0.8, RF__min_samples_split=5;, score=0.797 total time=  20.6s\n",
      "[CV 4/5] END RF__max_depth=20, RF__max_features=20, RF__max_samples=0.8, RF__min_samples_split=5;, score=0.799 total time=  20.7s\n",
      "[CV 5/5] END RF__max_depth=20, RF__max_features=20, RF__max_samples=0.8, RF__min_samples_split=5;, score=0.798 total time=  20.3s\n",
      "[CV 1/5] END RF__max_depth=20, RF__max_features=20, RF__max_samples=0.8, RF__min_samples_split=10;, score=0.799 total time=  20.1s\n",
      "[CV 2/5] END RF__max_depth=20, RF__max_features=20, RF__max_samples=0.8, RF__min_samples_split=10;, score=0.798 total time=  20.6s\n",
      "[CV 3/5] END RF__max_depth=20, RF__max_features=20, RF__max_samples=0.8, RF__min_samples_split=10;, score=0.798 total time=  19.8s\n",
      "[CV 4/5] END RF__max_depth=20, RF__max_features=20, RF__max_samples=0.8, RF__min_samples_split=10;, score=0.799 total time=  20.3s\n",
      "[CV 5/5] END RF__max_depth=20, RF__max_features=20, RF__max_samples=0.8, RF__min_samples_split=10;, score=0.799 total time=  20.3s\n",
      "[CV 1/5] END RF__max_depth=20, RF__max_features=20, RF__max_samples=None, RF__min_samples_split=5;, score=0.798 total time=  21.1s\n",
      "[CV 2/5] END RF__max_depth=20, RF__max_features=20, RF__max_samples=None, RF__min_samples_split=5;, score=0.797 total time=  21.2s\n",
      "[CV 3/5] END RF__max_depth=20, RF__max_features=20, RF__max_samples=None, RF__min_samples_split=5;, score=0.796 total time=  21.6s\n",
      "[CV 4/5] END RF__max_depth=20, RF__max_features=20, RF__max_samples=None, RF__min_samples_split=5;, score=0.798 total time=  21.4s\n",
      "[CV 5/5] END RF__max_depth=20, RF__max_features=20, RF__max_samples=None, RF__min_samples_split=5;, score=0.797 total time=  21.8s\n",
      "[CV 1/5] END RF__max_depth=20, RF__max_features=20, RF__max_samples=None, RF__min_samples_split=10;, score=0.798 total time=  21.0s\n",
      "[CV 2/5] END RF__max_depth=20, RF__max_features=20, RF__max_samples=None, RF__min_samples_split=10;, score=0.797 total time=  21.2s\n",
      "[CV 3/5] END RF__max_depth=20, RF__max_features=20, RF__max_samples=None, RF__min_samples_split=10;, score=0.797 total time=  21.2s\n",
      "[CV 4/5] END RF__max_depth=20, RF__max_features=20, RF__max_samples=None, RF__min_samples_split=10;, score=0.799 total time=  21.2s\n",
      "[CV 5/5] END RF__max_depth=20, RF__max_features=20, RF__max_samples=None, RF__min_samples_split=10;, score=0.798 total time=  21.0s\n",
      "[CV 1/5] END RF__max_depth=20, RF__max_features=auto, RF__max_samples=0.5, RF__min_samples_split=5;, score=0.801 total time=  13.8s\n",
      "[CV 2/5] END RF__max_depth=20, RF__max_features=auto, RF__max_samples=0.5, RF__min_samples_split=5;, score=0.799 total time=  13.5s\n",
      "[CV 3/5] END RF__max_depth=20, RF__max_features=auto, RF__max_samples=0.5, RF__min_samples_split=5;, score=0.799 total time=  13.5s\n",
      "[CV 4/5] END RF__max_depth=20, RF__max_features=auto, RF__max_samples=0.5, RF__min_samples_split=5;, score=0.801 total time=  13.5s\n",
      "[CV 5/5] END RF__max_depth=20, RF__max_features=auto, RF__max_samples=0.5, RF__min_samples_split=5;, score=0.800 total time=  13.5s\n",
      "[CV 1/5] END RF__max_depth=20, RF__max_features=auto, RF__max_samples=0.5, RF__min_samples_split=10;, score=0.801 total time=  13.7s\n",
      "[CV 2/5] END RF__max_depth=20, RF__max_features=auto, RF__max_samples=0.5, RF__min_samples_split=10;, score=0.799 total time=  13.4s\n",
      "[CV 3/5] END RF__max_depth=20, RF__max_features=auto, RF__max_samples=0.5, RF__min_samples_split=10;, score=0.799 total time=  13.4s\n",
      "[CV 4/5] END RF__max_depth=20, RF__max_features=auto, RF__max_samples=0.5, RF__min_samples_split=10;, score=0.802 total time=  13.4s\n",
      "[CV 5/5] END RF__max_depth=20, RF__max_features=auto, RF__max_samples=0.5, RF__min_samples_split=10;, score=0.800 total time=  13.5s\n",
      "[CV 1/5] END RF__max_depth=20, RF__max_features=auto, RF__max_samples=0.8, RF__min_samples_split=5;, score=0.801 total time=  14.2s\n",
      "[CV 2/5] END RF__max_depth=20, RF__max_features=auto, RF__max_samples=0.8, RF__min_samples_split=5;, score=0.799 total time=  14.2s\n",
      "[CV 3/5] END RF__max_depth=20, RF__max_features=auto, RF__max_samples=0.8, RF__min_samples_split=5;, score=0.799 total time=  14.2s\n",
      "[CV 4/5] END RF__max_depth=20, RF__max_features=auto, RF__max_samples=0.8, RF__min_samples_split=5;, score=0.801 total time=  14.5s\n",
      "[CV 5/5] END RF__max_depth=20, RF__max_features=auto, RF__max_samples=0.8, RF__min_samples_split=5;, score=0.800 total time=  14.3s\n",
      "[CV 1/5] END RF__max_depth=20, RF__max_features=auto, RF__max_samples=0.8, RF__min_samples_split=10;, score=0.801 total time=  14.3s\n",
      "[CV 2/5] END RF__max_depth=20, RF__max_features=auto, RF__max_samples=0.8, RF__min_samples_split=10;, score=0.799 total time=  14.5s\n",
      "[CV 3/5] END RF__max_depth=20, RF__max_features=auto, RF__max_samples=0.8, RF__min_samples_split=10;, score=0.799 total time=  14.5s\n",
      "[CV 4/5] END RF__max_depth=20, RF__max_features=auto, RF__max_samples=0.8, RF__min_samples_split=10;, score=0.801 total time=  14.8s\n",
      "[CV 5/5] END RF__max_depth=20, RF__max_features=auto, RF__max_samples=0.8, RF__min_samples_split=10;, score=0.800 total time=  14.6s\n",
      "[CV 1/5] END RF__max_depth=20, RF__max_features=auto, RF__max_samples=None, RF__min_samples_split=5;, score=0.800 total time=  15.1s\n",
      "[CV 2/5] END RF__max_depth=20, RF__max_features=auto, RF__max_samples=None, RF__min_samples_split=5;, score=0.799 total time=  15.0s\n",
      "[CV 3/5] END RF__max_depth=20, RF__max_features=auto, RF__max_samples=None, RF__min_samples_split=5;, score=0.798 total time=  15.5s\n",
      "[CV 4/5] END RF__max_depth=20, RF__max_features=auto, RF__max_samples=None, RF__min_samples_split=5;, score=0.801 total time=  14.9s\n",
      "[CV 5/5] END RF__max_depth=20, RF__max_features=auto, RF__max_samples=None, RF__min_samples_split=5;, score=0.799 total time=  15.1s\n",
      "[CV 1/5] END RF__max_depth=20, RF__max_features=auto, RF__max_samples=None, RF__min_samples_split=10;, score=0.801 total time=  15.0s\n",
      "[CV 2/5] END RF__max_depth=20, RF__max_features=auto, RF__max_samples=None, RF__min_samples_split=10;, score=0.799 total time=  15.3s\n",
      "[CV 3/5] END RF__max_depth=20, RF__max_features=auto, RF__max_samples=None, RF__min_samples_split=10;, score=0.799 total time=  14.9s\n",
      "[CV 4/5] END RF__max_depth=20, RF__max_features=auto, RF__max_samples=None, RF__min_samples_split=10;, score=0.801 total time=  15.0s\n",
      "[CV 5/5] END RF__max_depth=20, RF__max_features=auto, RF__max_samples=None, RF__min_samples_split=10;, score=0.800 total time=  14.8s\n",
      "[CV 1/5] END RF__max_depth=30, RF__max_features=10, RF__max_samples=0.5, RF__min_samples_split=5;, score=0.792 total time=  17.9s\n",
      "[CV 2/5] END RF__max_depth=30, RF__max_features=10, RF__max_samples=0.5, RF__min_samples_split=5;, score=0.789 total time=  17.4s\n",
      "[CV 3/5] END RF__max_depth=30, RF__max_features=10, RF__max_samples=0.5, RF__min_samples_split=5;, score=0.790 total time=  17.4s\n",
      "[CV 4/5] END RF__max_depth=30, RF__max_features=10, RF__max_samples=0.5, RF__min_samples_split=5;, score=0.792 total time=  17.7s\n",
      "[CV 5/5] END RF__max_depth=30, RF__max_features=10, RF__max_samples=0.5, RF__min_samples_split=5;, score=0.790 total time=  17.3s\n",
      "[CV 1/5] END RF__max_depth=30, RF__max_features=10, RF__max_samples=0.5, RF__min_samples_split=10;, score=0.794 total time=  17.0s\n",
      "[CV 2/5] END RF__max_depth=30, RF__max_features=10, RF__max_samples=0.5, RF__min_samples_split=10;, score=0.791 total time=  17.3s\n",
      "[CV 3/5] END RF__max_depth=30, RF__max_features=10, RF__max_samples=0.5, RF__min_samples_split=10;, score=0.792 total time=  17.0s\n",
      "[CV 4/5] END RF__max_depth=30, RF__max_features=10, RF__max_samples=0.5, RF__min_samples_split=10;, score=0.794 total time=  17.0s\n",
      "[CV 5/5] END RF__max_depth=30, RF__max_features=10, RF__max_samples=0.5, RF__min_samples_split=10;, score=0.793 total time=  17.0s\n",
      "[CV 1/5] END RF__max_depth=30, RF__max_features=10, RF__max_samples=0.8, RF__min_samples_split=5;, score=0.790 total time=  19.1s\n",
      "[CV 2/5] END RF__max_depth=30, RF__max_features=10, RF__max_samples=0.8, RF__min_samples_split=5;, score=0.786 total time=  18.5s\n",
      "[CV 3/5] END RF__max_depth=30, RF__max_features=10, RF__max_samples=0.8, RF__min_samples_split=5;, score=0.787 total time=  18.5s\n",
      "[CV 4/5] END RF__max_depth=30, RF__max_features=10, RF__max_samples=0.8, RF__min_samples_split=5;, score=0.790 total time=  18.8s\n",
      "[CV 5/5] END RF__max_depth=30, RF__max_features=10, RF__max_samples=0.8, RF__min_samples_split=5;, score=0.788 total time=  18.3s\n",
      "[CV 1/5] END RF__max_depth=30, RF__max_features=10, RF__max_samples=0.8, RF__min_samples_split=10;, score=0.792 total time=  18.1s\n",
      "[CV 2/5] END RF__max_depth=30, RF__max_features=10, RF__max_samples=0.8, RF__min_samples_split=10;, score=0.789 total time=  18.4s\n",
      "[CV 3/5] END RF__max_depth=30, RF__max_features=10, RF__max_samples=0.8, RF__min_samples_split=10;, score=0.790 total time=  18.5s\n",
      "[CV 4/5] END RF__max_depth=30, RF__max_features=10, RF__max_samples=0.8, RF__min_samples_split=10;, score=0.792 total time=  18.3s\n",
      "[CV 5/5] END RF__max_depth=30, RF__max_features=10, RF__max_samples=0.8, RF__min_samples_split=10;, score=0.791 total time=  18.1s\n",
      "[CV 1/5] END RF__max_depth=30, RF__max_features=10, RF__max_samples=None, RF__min_samples_split=5;, score=0.788 total time=  19.3s\n",
      "[CV 2/5] END RF__max_depth=30, RF__max_features=10, RF__max_samples=None, RF__min_samples_split=5;, score=0.786 total time=  18.9s\n",
      "[CV 3/5] END RF__max_depth=30, RF__max_features=10, RF__max_samples=None, RF__min_samples_split=5;, score=0.786 total time=  18.9s\n",
      "[CV 4/5] END RF__max_depth=30, RF__max_features=10, RF__max_samples=None, RF__min_samples_split=5;, score=0.788 total time=  19.2s\n",
      "[CV 5/5] END RF__max_depth=30, RF__max_features=10, RF__max_samples=None, RF__min_samples_split=5;, score=0.787 total time=  18.9s\n",
      "[CV 1/5] END RF__max_depth=30, RF__max_features=10, RF__max_samples=None, RF__min_samples_split=10;, score=0.791 total time=  18.5s\n",
      "[CV 2/5] END RF__max_depth=30, RF__max_features=10, RF__max_samples=None, RF__min_samples_split=10;, score=0.788 total time=  19.0s\n",
      "[CV 3/5] END RF__max_depth=30, RF__max_features=10, RF__max_samples=None, RF__min_samples_split=10;, score=0.789 total time=  18.7s\n",
      "[CV 4/5] END RF__max_depth=30, RF__max_features=10, RF__max_samples=None, RF__min_samples_split=10;, score=0.791 total time=  18.8s\n",
      "[CV 5/5] END RF__max_depth=30, RF__max_features=10, RF__max_samples=None, RF__min_samples_split=10;, score=0.789 total time=  18.9s\n",
      "[CV 1/5] END RF__max_depth=30, RF__max_features=20, RF__max_samples=0.5, RF__min_samples_split=5;, score=0.793 total time=  20.2s\n",
      "[CV 2/5] END RF__max_depth=30, RF__max_features=20, RF__max_samples=0.5, RF__min_samples_split=5;, score=0.790 total time=  19.9s\n",
      "[CV 3/5] END RF__max_depth=30, RF__max_features=20, RF__max_samples=0.5, RF__min_samples_split=5;, score=0.790 total time=  20.0s\n",
      "[CV 4/5] END RF__max_depth=30, RF__max_features=20, RF__max_samples=0.5, RF__min_samples_split=5;, score=0.792 total time=  20.0s\n",
      "[CV 5/5] END RF__max_depth=30, RF__max_features=20, RF__max_samples=0.5, RF__min_samples_split=5;, score=0.791 total time=  20.1s\n",
      "[CV 1/5] END RF__max_depth=30, RF__max_features=20, RF__max_samples=0.5, RF__min_samples_split=10;, score=0.795 total time=  19.7s\n",
      "[CV 2/5] END RF__max_depth=30, RF__max_features=20, RF__max_samples=0.5, RF__min_samples_split=10;, score=0.792 total time=  20.0s\n",
      "[CV 3/5] END RF__max_depth=30, RF__max_features=20, RF__max_samples=0.5, RF__min_samples_split=10;, score=0.793 total time=  19.7s\n",
      "[CV 4/5] END RF__max_depth=30, RF__max_features=20, RF__max_samples=0.5, RF__min_samples_split=10;, score=0.795 total time=  19.6s\n",
      "[CV 5/5] END RF__max_depth=30, RF__max_features=20, RF__max_samples=0.5, RF__min_samples_split=10;, score=0.794 total time=  19.5s\n",
      "[CV 1/5] END RF__max_depth=30, RF__max_features=20, RF__max_samples=0.8, RF__min_samples_split=5;, score=0.790 total time=  21.8s\n",
      "[CV 2/5] END RF__max_depth=30, RF__max_features=20, RF__max_samples=0.8, RF__min_samples_split=5;, score=0.787 total time=  22.0s\n",
      "[CV 3/5] END RF__max_depth=30, RF__max_features=20, RF__max_samples=0.8, RF__min_samples_split=5;, score=0.788 total time=  22.2s\n",
      "[CV 4/5] END RF__max_depth=30, RF__max_features=20, RF__max_samples=0.8, RF__min_samples_split=5;, score=0.790 total time=  21.9s\n",
      "[CV 2/5] END RF__max_depth=30, RF__max_features=20, RF__max_samples=0.8, RF__min_samples_split=10;, score=0.790 total time=  21.6s\n",
      "[CV 3/5] END RF__max_depth=30, RF__max_features=20, RF__max_samples=0.8, RF__min_samples_split=10;, score=0.791 total time=  22.0s\n",
      "[CV 4/5] END RF__max_depth=30, RF__max_features=20, RF__max_samples=0.8, RF__min_samples_split=10;, score=0.793 total time=  21.9s\n",
      "[CV 1/5] END RF__max_depth=30, RF__max_features=20, RF__max_samples=None, RF__min_samples_split=5;, score=0.789 total time=  22.7s\n",
      "[CV 2/5] END RF__max_depth=30, RF__max_features=20, RF__max_samples=None, RF__min_samples_split=5;, score=0.786 total time=  22.8s\n",
      "[CV 3/5] END RF__max_depth=30, RF__max_features=20, RF__max_samples=None, RF__min_samples_split=5;, score=0.787 total time=  23.1s\n",
      "[CV 4/5] END RF__max_depth=30, RF__max_features=20, RF__max_samples=None, RF__min_samples_split=5;, score=0.789 total time=  23.1s\n",
      "[CV 5/5] END RF__max_depth=30, RF__max_features=20, RF__max_samples=None, RF__min_samples_split=5;, score=0.788 total time=  22.8s\n",
      "[CV 1/5] END RF__max_depth=30, RF__max_features=20, RF__max_samples=None, RF__min_samples_split=10;, score=0.792 total time=  22.9s\n",
      "[CV 2/5] END RF__max_depth=30, RF__max_features=20, RF__max_samples=None, RF__min_samples_split=10;, score=0.789 total time=  22.6s\n",
      "[CV 3/5] END RF__max_depth=30, RF__max_features=20, RF__max_samples=None, RF__min_samples_split=10;, score=0.790 total time=  22.9s\n",
      "[CV 4/5] END RF__max_depth=30, RF__max_features=20, RF__max_samples=None, RF__min_samples_split=10;, score=0.791 total time=  22.7s\n",
      "[CV 5/5] END RF__max_depth=30, RF__max_features=20, RF__max_samples=None, RF__min_samples_split=10;, score=0.791 total time=  22.9s\n",
      "[CV 1/5] END RF__max_depth=30, RF__max_features=auto, RF__max_samples=0.5, RF__min_samples_split=5;, score=0.792 total time=  16.1s\n",
      "[CV 2/5] END RF__max_depth=30, RF__max_features=auto, RF__max_samples=0.5, RF__min_samples_split=5;, score=0.789 total time=  15.9s\n",
      "[CV 3/5] END RF__max_depth=30, RF__max_features=auto, RF__max_samples=0.5, RF__min_samples_split=5;, score=0.789 total time=  15.8s\n",
      "[CV 4/5] END RF__max_depth=30, RF__max_features=auto, RF__max_samples=0.5, RF__min_samples_split=5;, score=0.792 total time=  15.8s\n",
      "[CV 5/5] END RF__max_depth=30, RF__max_features=auto, RF__max_samples=0.5, RF__min_samples_split=5;, score=0.790 total time=  16.1s\n",
      "[CV 1/5] END RF__max_depth=30, RF__max_features=auto, RF__max_samples=0.5, RF__min_samples_split=10;, score=0.794 total time=  15.6s\n",
      "[CV 2/5] END RF__max_depth=30, RF__max_features=auto, RF__max_samples=0.5, RF__min_samples_split=10;, score=0.791 total time=  15.4s\n",
      "[CV 3/5] END RF__max_depth=30, RF__max_features=auto, RF__max_samples=0.5, RF__min_samples_split=10;, score=0.792 total time=  15.6s\n",
      "[CV 4/5] END RF__max_depth=30, RF__max_features=auto, RF__max_samples=0.5, RF__min_samples_split=10;, score=0.794 total time=  15.9s\n",
      "[CV 5/5] END RF__max_depth=30, RF__max_features=auto, RF__max_samples=0.5, RF__min_samples_split=10;, score=0.793 total time=  15.5s\n",
      "[CV 1/5] END RF__max_depth=30, RF__max_features=auto, RF__max_samples=0.8, RF__min_samples_split=5;, score=0.790 total time=  16.5s\n",
      "[CV 2/5] END RF__max_depth=30, RF__max_features=auto, RF__max_samples=0.8, RF__min_samples_split=5;, score=0.787 total time=  16.4s\n",
      "[CV 3/5] END RF__max_depth=30, RF__max_features=auto, RF__max_samples=0.8, RF__min_samples_split=5;, score=0.788 total time=  16.4s\n",
      "[CV 4/5] END RF__max_depth=30, RF__max_features=auto, RF__max_samples=0.8, RF__min_samples_split=5;, score=0.790 total time=  16.7s\n",
      "[CV 5/5] END RF__max_depth=30, RF__max_features=auto, RF__max_samples=0.8, RF__min_samples_split=5;, score=0.788 total time=  16.5s\n",
      "[CV 1/5] END RF__max_depth=30, RF__max_features=auto, RF__max_samples=0.8, RF__min_samples_split=10;, score=0.792 total time=  16.3s\n",
      "[CV 2/5] END RF__max_depth=30, RF__max_features=auto, RF__max_samples=0.8, RF__min_samples_split=10;, score=0.789 total time=  16.2s\n",
      "[CV 3/5] END RF__max_depth=30, RF__max_features=auto, RF__max_samples=0.8, RF__min_samples_split=10;, score=0.790 total time=  16.3s\n",
      "[CV 4/5] END RF__max_depth=30, RF__max_features=auto, RF__max_samples=0.8, RF__min_samples_split=10;, score=0.792 total time=  16.5s\n",
      "[CV 5/5] END RF__max_depth=30, RF__max_features=auto, RF__max_samples=0.8, RF__min_samples_split=10;, score=0.791 total time=  16.6s\n",
      "[CV 1/5] END RF__max_depth=30, RF__max_features=auto, RF__max_samples=None, RF__min_samples_split=5;, score=0.789 total time=  16.8s\n",
      "[CV 2/5] END RF__max_depth=30, RF__max_features=auto, RF__max_samples=None, RF__min_samples_split=5;, score=0.786 total time=  16.8s\n",
      "[CV 3/5] END RF__max_depth=30, RF__max_features=auto, RF__max_samples=None, RF__min_samples_split=5;, score=0.787 total time=  17.1s\n",
      "[CV 4/5] END RF__max_depth=30, RF__max_features=auto, RF__max_samples=None, RF__min_samples_split=5;, score=0.789 total time=  16.9s\n",
      "[CV 5/5] END RF__max_depth=30, RF__max_features=auto, RF__max_samples=None, RF__min_samples_split=5;, score=0.787 total time=  16.8s\n",
      "[CV 1/5] END RF__max_depth=30, RF__max_features=auto, RF__max_samples=None, RF__min_samples_split=10;, score=0.791 total time=  16.6s\n",
      "[CV 2/5] END RF__max_depth=30, RF__max_features=auto, RF__max_samples=None, RF__min_samples_split=10;, score=0.788 total time=  16.9s\n",
      "[CV 3/5] END RF__max_depth=30, RF__max_features=auto, RF__max_samples=None, RF__min_samples_split=10;, score=0.789 total time=  16.6s\n",
      "[CV 4/5] END RF__max_depth=30, RF__max_features=auto, RF__max_samples=None, RF__min_samples_split=10;, score=0.791 total time=  16.9s\n",
      "[CV 5/5] END RF__max_depth=30, RF__max_features=auto, RF__max_samples=None, RF__min_samples_split=10;, score=0.790 total time=  16.6s\n",
      "Fitting 5 folds for each of 2 candidates, totalling 10 fits\n",
      "[CV 1/5] END .............LgR__solver=newton-cg;, score=0.782 total time=  17.6s\n",
      "[CV 2/5] END .............LgR__solver=newton-cg;, score=0.782 total time=  21.1s\n",
      "[CV 3/5] END .............LgR__solver=newton-cg;, score=0.778 total time=  16.3s\n",
      "[CV 4/5] END .............LgR__solver=newton-cg;, score=0.782 total time=  19.8s\n",
      "[CV 5/5] END .............LgR__solver=newton-cg;, score=0.783 total time=  21.7s\n",
      "[CV 1/5] END .................LgR__solver=lbfgs;, score=0.782 total time=  20.3s\n",
      "[CV 2/5] END .................LgR__solver=lbfgs;, score=0.782 total time=  20.0s\n",
      "[CV 3/5] END .................LgR__solver=lbfgs;, score=0.778 total time=  43.0s\n",
      "[CV 4/5] END .................LgR__solver=lbfgs;, score=0.782 total time=  18.2s\n",
      "[CV 5/5] END .................LgR__solver=lbfgs;, score=0.783 total time=  20.2s\n"
     ]
    }
   ],
   "source": [
    "# Data\n",
    "y = df['deliveredlate']\n",
    "X = df[features].reset_index(drop=True)\n",
    "cat_fields=['quantile_order_to_delivery_stated','whname', 'ServiceLevel']\n",
    "#Encoder\n",
    "enc = OneHotEncoder(categories=\"auto\", handle_unknown=\"error\", drop='first', sparse=False)\n",
    "X_ohe = pd.DataFrame(enc.fit_transform(X[cat_fields]), columns=enc.get_feature_names_out()).reset_index(drop=True)\n",
    "X = pd.concat([X.drop(columns=cat_fields, axis=1), X_ohe], axis=1)\n",
    "\n",
    "# Defining the Pipeline for RF\n",
    "model_rf = PipelineImb([\n",
    "                     ('Imputer', SimpleImputer(missing_values=np.nan, strategy=\"median\")), \n",
    "                     ('Scaling', MinMaxScaler(clip=True)),\n",
    "                     ('RF', RandomForestClassifier(n_jobs=-1, oob_score = True, random_state=42))\n",
    "\n",
    "                        ])\n",
    "\n",
    "# Defining the grid\n",
    "param_grid_rf ={\n",
    "\n",
    "                     'RF__max_features': [10, 20, 'auto'],\n",
    "                     'RF__min_samples_split': [5, 10],\n",
    "                     'RF__max_depth': [20,30],\n",
    "                     'RF__max_samples': [0.5, 0.8, None]\n",
    "\n",
    "                }\n",
    "\n",
    "# Searching best hyper-parametrization\n",
    "CV_rf = GridSearchCV(model_rf, param_grid=param_grid_rf, cv=5, scoring='roc_auc', verbose=4)\n",
    "res_rf = CV_rf.fit(X, y)\n",
    "\n",
    "\n",
    "# --------------------------------------------------------------------------------------------------------------------------\n",
    "\n",
    "# Defining the Pipeline for LgR\n",
    "model_lgr = PipelineImb([\n",
    "\n",
    "                     ('Imputer', SimpleImputer(missing_values=np.nan, strategy=\"median\")), \n",
    "                     ('Scaling', MinMaxScaler(clip=True)),\n",
    "                     ('LgR', LogisticRegression(n_jobs=-1, max_iter = 1000, random_state=42))\n",
    "\n",
    "                    ])\n",
    "\n",
    "# Defining the grid\n",
    "param_grid_lgr = {\n",
    "\n",
    "                    'LgR__solver': ['newton-cg', 'lbfgs']\n",
    "\n",
    "                 }\n",
    "\n",
    "# Searching best hyper-parametrization\n",
    "CV_lgr = GridSearchCV(model_lgr, param_grid=param_grid_lgr, cv=5, scoring='roc_auc', verbose=4)\n",
    "res_lgr = CV_lgr.fit(X, y)"
   ]
  },
  {
   "cell_type": "markdown",
   "id": "ee099923-ff30-40e3-8d7b-2ab7f5c84d74",
   "metadata": {},
   "source": [
    "### Finding best score and hyperparameters for both Random Forest and Logistic Regression"
   ]
  },
  {
   "cell_type": "code",
   "execution_count": 16,
   "id": "1829abbb-e99e-4972-9cc1-04f4e0325c5c",
   "metadata": {},
   "outputs": [
    {
     "name": "stdout",
     "output_type": "stream",
     "text": [
      "The best Score for Random Forest is: 0.800457262502414\n",
      "The best Score for Logistic Regression is: 0.7816290026775556\n"
     ]
    }
   ],
   "source": [
    "print(f'The best Score for Random Forest is: {res_rf.best_score_}')\n",
    "print(f'The best Score for Logistic Regression is: {res_lgr.best_score_}')"
   ]
  },
  {
   "cell_type": "code",
   "execution_count": 17,
   "id": "f198a477-9e37-465f-bd28-2f589967063b",
   "metadata": {},
   "outputs": [
    {
     "name": "stdout",
     "output_type": "stream",
     "text": [
      "The best RF hyper-parametrization is: {'RF__max_depth': 20, 'RF__max_features': 'auto', 'RF__max_samples': 0.5, 'RF__min_samples_split': 10}\n",
      "The best LgR hyper-parametrization is: {'LgR__solver': 'lbfgs'}\n"
     ]
    }
   ],
   "source": [
    "print(f'The best RF hyper-parametrization is: {res_rf.best_params_}')\n",
    "print(f'The best LgR hyper-parametrization is: {res_lgr.best_params_}')"
   ]
  },
  {
   "cell_type": "markdown",
   "id": "0f88e37e-356d-4ad6-8406-73cfe008ebe5",
   "metadata": {},
   "source": [
    "### Using best parameters for our model"
   ]
  },
  {
   "cell_type": "code",
   "execution_count": 18,
   "id": "61c8f402-c9f2-4169-bc37-196c2e38a5d3",
   "metadata": {},
   "outputs": [],
   "source": [
    "# Data\n",
    "y = df['deliveredlate']\n",
    "X = df[features].reset_index(drop=True)\n",
    "cat_fields=['quantile_order_to_delivery_stated','whname', 'ServiceLevel']\n",
    "\n",
    "#Encoder\n",
    "enc = OneHotEncoder(categories=\"auto\", handle_unknown=\"error\", drop='first', sparse=False)\n",
    "X_ohe = pd.DataFrame(enc.fit_transform(X[cat_fields]), columns=enc.get_feature_names_out()).reset_index(drop=True)\n",
    "X = pd.concat([X.drop(columns=cat_fields, axis=1), X_ohe], axis=1)\n",
    "\n",
    "x_train, x_test, y_train, y_test = train_test_split(X, y, train_size=0.8, random_state=42)\n",
    "\n",
    "rf = RandomForestClassifier()\n",
    "rf.fit(x_train, y_train)\n",
    "RandomForestClassifier(bootstrap=True, class_weight=None,max_depth=20, max_features='auto', max_samples=0.5, min_samples_split=10)\n",
    "y_pred = rf.predict(x_test)\n"
   ]
  },
  {
   "cell_type": "markdown",
   "id": "d63df152-47bb-46dd-bd37-e7ef283cdd9c",
   "metadata": {},
   "source": [
    "### Getting summary of model precision, recall and f1-score"
   ]
  },
  {
   "cell_type": "code",
   "execution_count": 19,
   "id": "e88f2eeb-f767-4453-8748-d7e4d2c35a8f",
   "metadata": {},
   "outputs": [
    {
     "name": "stdout",
     "output_type": "stream",
     "text": [
      "              precision    recall  f1-score   support\n",
      "\n",
      "         0.0       0.62      0.51      0.56     24485\n",
      "         1.0       0.80      0.87      0.83     57503\n",
      "\n",
      "    accuracy                           0.76     81988\n",
      "   macro avg       0.71      0.69      0.70     81988\n",
      "weighted avg       0.75      0.76      0.75     81988\n",
      "\n"
     ]
    }
   ],
   "source": [
    "from sklearn.metrics import classification_report\n",
    "y_hat=rf.predict(x_test)\n",
    "print(classification_report(y_test, y_hat))"
   ]
  },
  {
   "cell_type": "markdown",
   "id": "f77041f2-5cd9-4eca-ab01-417e86fe6295",
   "metadata": {},
   "source": [
    "### Finding true positive and false positive rate, ranking feature importance and plotting sample tree"
   ]
  },
  {
   "cell_type": "code",
   "execution_count": 20,
   "id": "6c304de4-61f3-4084-b64b-8051d05d6179",
   "metadata": {},
   "outputs": [
    {
     "data": {
      "image/png": "[encoded data removed]",
      "text/plain": [
       "<Figure size 432x288 with 1 Axes>"
      ]
     },
     "metadata": {
      "needs_background": "light"
     },
     "output_type": "display_data"
    }
   ],
   "source": [
    "from sklearn.metrics import roc_curve, auc\n",
    "test_results=[]\n",
    "y_pred_proba = rf.predict_proba(x_test)[::,1]\n",
    "false_positive_rate, true_positive_rate, thresholds = roc_curve(y_test,y_pred_proba)\n",
    "roc_auc = auc(false_positive_rate, true_positive_rate)\n",
    "test_results.append(roc_auc)\n",
    "plt.plot(false_positive_rate,true_positive_rate,label=\"data 1, auc=\"+str(roc_auc))\n",
    "plt.legend(loc=4)\n",
    "plt.show()"
   ]
  },
  {
   "cell_type": "code",
   "execution_count": 21,
   "id": "de70a047-5351-42e6-9442-f4d15b2a91e4",
   "metadata": {},
   "outputs": [
    {
     "data": {
      "image/png": "[encoded data removed]",
      "text/plain": [
       "<Figure size 360x360 with 1 Axes>"
      ]
     },
     "metadata": {},
     "output_type": "display_data"
    }
   ],
   "source": [
    "from plot_metric.functions import BinaryClassification\n",
    "# Visualisation with plot_metric\n",
    "bc = BinaryClassification(y_test, y_pred_proba, labels=[\"Class 1\", \"Class 2\"])\n",
    "\n",
    "# Figures\n",
    "plt.figure(figsize=(5,5))\n",
    "bc.plot_roc_curve()\n",
    "plt.show()"
   ]
  },
  {
   "cell_type": "code",
   "execution_count": 22,
   "id": "90a2626c-10ac-4f3c-aeb2-3f4fb76ef9b2",
   "metadata": {},
   "outputs": [
    {
     "name": "stdout",
     "output_type": "stream",
     "text": [
      "['volume_last_48h' 'quantile_order_to_delivery_stated_2'\n",
      " 'quantile_order_to_delivery_stated_3'\n",
      " 'quantile_order_to_delivery_stated_4'\n",
      " 'quantile_order_to_delivery_stated_5' 'whname_Cranbury'\n",
      " 'whname_Cranbury2' 'whname_CranburyLargeParcel' 'whname_Erlanger'\n",
      " 'whname_Florence' 'whname_Hebron' 'whname_Jacksonville'\n",
      " 'whname_Lancaster' 'whname_Lathrop' 'whname_McDonough'\n",
      " 'whname_Mississauga' 'whname_PerrisCA' 'whname_PerrisSmallParcel'\n",
      " 'whname_PortWentworth' 'ServiceLevel_Backyard' 'ServiceLevel_Pick Up'\n",
      " 'ServiceLevel_Room of Choice' 'ServiceLevel_StANDard'\n",
      " 'ServiceLevel_Threshold' 'ServiceLevel_other']\n"
     ]
    },
    {
     "data": {
      "image/png": "[encoded data removed]",
      "text/plain": [
       "<Figure size 432x288 with 1 Axes>"
      ]
     },
     "metadata": {},
     "output_type": "display_data"
    }
   ],
   "source": [
    "importance=rf.feature_importances_\n",
    "sorted_idx = rf.feature_importances_.argsort()\n",
    "plt.barh(rf.feature_names_in_[sorted_idx], rf.feature_importances_[sorted_idx])\n",
    "plt.xlabel(\"Random Forest Feature Importance\")\n",
    "print(rf.feature_names_in_)"
   ]
  },
  {
   "cell_type": "code",
   "execution_count": 23,
   "id": "5f3eecda-6ccd-4296-8a26-e6af61f962f6",
   "metadata": {
    "tags": []
   },
   "outputs": [],
   "source": [
    "from sklearn.inspection import permutation_importance\n",
    "perm_importance = permutation_importance(rf, x_test, y_test)"
   ]
  },
  {
   "cell_type": "code",
   "execution_count": 24,
   "id": "d1219270-eb37-4dac-9318-07c0ade2340a",
   "metadata": {},
   "outputs": [
    {
     "data": {
      "text/plain": [
       "<bound method Artist.get_in_layout of <Figure size 432x288 with 1 Axes>>"
      ]
     },
     "execution_count": 24,
     "metadata": {},
     "output_type": "execute_result"
    },
    {
     "data": {
      "image/png": "[encoded data removed]",
      "text/plain": [
       "<Figure size 432x288 with 1 Axes>"
      ]
     },
     "metadata": {},
     "output_type": "display_data"
    }
   ],
   "source": [
    "sorted_importances_idx = perm_importance.importances_mean.argsort()\n",
    "importances = pd.DataFrame(\n",
    "    perm_importance.importances[sorted_importances_idx].T,\n",
    "    columns=X.columns[sorted_importances_idx],\n",
    ")\n",
    "ax = importances.plot.box(vert=False, whis=10)\n",
    "ax.set_title(\"Permutation Importances (test set)\")\n",
    "ax.axvline(x=0, color=\"k\", linestyle=\"--\")\n",
    "ax.set_xlabel(\"Decrease in accuracy score\")\n",
    "ax.figure.get_in_layout"
   ]
  },
  {
   "cell_type": "code",
   "execution_count": null,
   "id": "6b884b06-ddbc-4e44-93b0-6bbe7bba3918",
   "metadata": {},
   "outputs": [],
   "source": []
  },
  {
   "cell_type": "code",
   "execution_count": 25,
   "id": "cb7fab7c-3b18-4114-a319-3c2b2fc95dcb",
   "metadata": {
    "tags": []
   },
   "outputs": [
    {
     "name": "stdout",
     "output_type": "stream",
     "text": [
      "RF train accuracy: 0.802\n",
      "RF test accuracy: 0.759\n"
     ]
    }
   ],
   "source": [
    "print(f\"RF train accuracy: {rf.score(x_train, y_train):.3f}\")\n",
    "print(f\"RF test accuracy: {rf.score(x_test, y_test):.3f}\")"
   ]
  },
  {
   "cell_type": "code",
   "execution_count": 26,
   "id": "f2f2b945-4731-4a3b-a71d-2339237d77b7",
   "metadata": {},
   "outputs": [],
   "source": [
    "y_pred=pd.DataFrame(y_pred)"
   ]
  },
  {
   "cell_type": "code",
   "execution_count": 27,
   "id": "7ca7c74b-2f21-4084-aa95-d280922d016f",
   "metadata": {},
   "outputs": [],
   "source": [
    "y_testv2=pd.DataFrame(y_test.index)"
   ]
  },
  {
   "cell_type": "code",
   "execution_count": 28,
   "id": "512a8588-14fa-4be3-b91a-a4c5307af48e",
   "metadata": {},
   "outputs": [],
   "source": [
    "y_predv2=pd.concat([y_pred,y_testv2],axis=1)"
   ]
  },
  {
   "cell_type": "code",
   "execution_count": 29,
   "id": "72122a66-792a-4b46-8268-942152e3437c",
   "metadata": {},
   "outputs": [],
   "source": [
    "y_predv2.columns=['preds','pred_index']"
   ]
  },
  {
   "cell_type": "code",
   "execution_count": 30,
   "id": "597e0d6f-56b1-4f7a-90fe-ed72eecd51d4",
   "metadata": {},
   "outputs": [
    {
     "data": {
      "text/html": [
       "<div>\n",
       "<style scoped>\n",
       "    .dataframe tbody tr th:only-of-type {\n",
       "        vertical-align: middle;\n",
       "    }\n",
       "\n",
       "    .dataframe tbody tr th {\n",
       "        vertical-align: top;\n",
       "    }\n",
       "\n",
       "    .dataframe thead th {\n",
       "        text-align: right;\n",
       "    }\n",
       "</style>\n",
       "<table border=\"1\" class=\"dataframe\">\n",
       "  <thead>\n",
       "    <tr style=\"text-align: right;\">\n",
       "      <th></th>\n",
       "      <th>preds</th>\n",
       "      <th>pred_index</th>\n",
       "    </tr>\n",
       "  </thead>\n",
       "  <tbody>\n",
       "    <tr>\n",
       "      <th>0</th>\n",
       "      <td>0.0</td>\n",
       "      <td>397541</td>\n",
       "    </tr>\n",
       "    <tr>\n",
       "      <th>1</th>\n",
       "      <td>1.0</td>\n",
       "      <td>152306</td>\n",
       "    </tr>\n",
       "    <tr>\n",
       "      <th>2</th>\n",
       "      <td>0.0</td>\n",
       "      <td>132635</td>\n",
       "    </tr>\n",
       "    <tr>\n",
       "      <th>3</th>\n",
       "      <td>0.0</td>\n",
       "      <td>256853</td>\n",
       "    </tr>\n",
       "    <tr>\n",
       "      <th>4</th>\n",
       "      <td>0.0</td>\n",
       "      <td>398917</td>\n",
       "    </tr>\n",
       "    <tr>\n",
       "      <th>...</th>\n",
       "      <td>...</td>\n",
       "      <td>...</td>\n",
       "    </tr>\n",
       "    <tr>\n",
       "      <th>81983</th>\n",
       "      <td>1.0</td>\n",
       "      <td>287686</td>\n",
       "    </tr>\n",
       "    <tr>\n",
       "      <th>81984</th>\n",
       "      <td>1.0</td>\n",
       "      <td>75841</td>\n",
       "    </tr>\n",
       "    <tr>\n",
       "      <th>81985</th>\n",
       "      <td>1.0</td>\n",
       "      <td>102085</td>\n",
       "    </tr>\n",
       "    <tr>\n",
       "      <th>81986</th>\n",
       "      <td>1.0</td>\n",
       "      <td>89015</td>\n",
       "    </tr>\n",
       "    <tr>\n",
       "      <th>81987</th>\n",
       "      <td>1.0</td>\n",
       "      <td>355649</td>\n",
       "    </tr>\n",
       "  </tbody>\n",
       "</table>\n",
       "<p>81988 rows × 2 columns</p>\n",
       "</div>"
      ],
      "text/plain": [
       "       preds  pred_index\n",
       "0        0.0      397541\n",
       "1        1.0      152306\n",
       "2        0.0      132635\n",
       "3        0.0      256853\n",
       "4        0.0      398917\n",
       "...      ...         ...\n",
       "81983    1.0      287686\n",
       "81984    1.0       75841\n",
       "81985    1.0      102085\n",
       "81986    1.0       89015\n",
       "81987    1.0      355649\n",
       "\n",
       "[81988 rows x 2 columns]"
      ]
     },
     "execution_count": 30,
     "metadata": {},
     "output_type": "execute_result"
    }
   ],
   "source": [
    "y_predv2"
   ]
  },
  {
   "cell_type": "code",
   "execution_count": 31,
   "id": "c79fbd92-83fd-4d1e-a050-987ab29fd33d",
   "metadata": {},
   "outputs": [],
   "source": [
    "df['pred_index']=df.index"
   ]
  },
  {
   "cell_type": "code",
   "execution_count": 32,
   "id": "8e3d5a25-5fcc-4663-9ccb-edd9f1c51cc5",
   "metadata": {},
   "outputs": [],
   "source": [
    "output=pd.merge(df,y_predv2,on='pred_index',how='left',indicator=True)"
   ]
  },
  {
   "cell_type": "code",
   "execution_count": 33,
   "id": "a11939c3-9343-46b6-8459-bfb5565f3978",
   "metadata": {},
   "outputs": [
    {
     "data": {
      "text/plain": [
       "left_only     327949\n",
       "both           81988\n",
       "right_only         0\n",
       "Name: _merge, dtype: int64"
      ]
     },
     "execution_count": 33,
     "metadata": {},
     "output_type": "execute_result"
    }
   ],
   "source": [
    "output['_merge'].value_counts()"
   ]
  },
  {
   "cell_type": "code",
   "execution_count": 34,
   "id": "c648fd7f-850a-40c0-9942-34d4027ccab5",
   "metadata": {},
   "outputs": [
    {
     "data": {
      "text/html": [
       "<div>\n",
       "<style scoped>\n",
       "    .dataframe tbody tr th:only-of-type {\n",
       "        vertical-align: middle;\n",
       "    }\n",
       "\n",
       "    .dataframe tbody tr th {\n",
       "        vertical-align: top;\n",
       "    }\n",
       "\n",
       "    .dataframe thead th {\n",
       "        text-align: right;\n",
       "    }\n",
       "</style>\n",
       "<table border=\"1\" class=\"dataframe\">\n",
       "  <thead>\n",
       "    <tr style=\"text-align: right;\">\n",
       "      <th></th>\n",
       "      <th>ponum</th>\n",
       "      <th>opid</th>\n",
       "      <th>orderdate</th>\n",
       "      <th>orderdatetimestamp</th>\n",
       "      <th>SupplierId</th>\n",
       "      <th>Dom_Int</th>\n",
       "      <th>MkcID</th>\n",
       "      <th>mkcname</th>\n",
       "      <th>shipclass</th>\n",
       "      <th>shipdate</th>\n",
       "      <th>...</th>\n",
       "      <th>ship_ontime_su</th>\n",
       "      <th>deliveredlate</th>\n",
       "      <th>ServiceLevel</th>\n",
       "      <th>OpcVol</th>\n",
       "      <th>OpcWeight</th>\n",
       "      <th>quantile_ship_to_first_movement</th>\n",
       "      <th>quantile_order_to_delivery_stated</th>\n",
       "      <th>pred_index</th>\n",
       "      <th>preds</th>\n",
       "      <th>_merge</th>\n",
       "    </tr>\n",
       "  </thead>\n",
       "  <tbody>\n",
       "    <tr>\n",
       "      <th>0</th>\n",
       "      <td>357554075</td>\n",
       "      <td>5989279065</td>\n",
       "      <td>2021-09-14</td>\n",
       "      <td>2021-09-14 09:21:27</td>\n",
       "      <td>42322</td>\n",
       "      <td>None</td>\n",
       "      <td>61</td>\n",
       "      <td>Furniture - Bedroom</td>\n",
       "      <td>3</td>\n",
       "      <td>2021-09-16 10:20:32</td>\n",
       "      <td>...</td>\n",
       "      <td>1</td>\n",
       "      <td>1.0</td>\n",
       "      <td>StANDard</td>\n",
       "      <td>NaN</td>\n",
       "      <td>NaN</td>\n",
       "      <td>2</td>\n",
       "      <td>5</td>\n",
       "      <td>1</td>\n",
       "      <td>NaN</td>\n",
       "      <td>left_only</td>\n",
       "    </tr>\n",
       "    <tr>\n",
       "      <th>1</th>\n",
       "      <td>357493345</td>\n",
       "      <td>5988565812</td>\n",
       "      <td>2021-09-13</td>\n",
       "      <td>2021-09-13 20:25:36</td>\n",
       "      <td>33529</td>\n",
       "      <td>None</td>\n",
       "      <td>61</td>\n",
       "      <td>Furniture - Bedroom</td>\n",
       "      <td>2</td>\n",
       "      <td>2021-09-15 18:06:03</td>\n",
       "      <td>...</td>\n",
       "      <td>1</td>\n",
       "      <td>1.0</td>\n",
       "      <td>StANDard</td>\n",
       "      <td>NaN</td>\n",
       "      <td>NaN</td>\n",
       "      <td>3</td>\n",
       "      <td>2</td>\n",
       "      <td>11</td>\n",
       "      <td>NaN</td>\n",
       "      <td>left_only</td>\n",
       "    </tr>\n",
       "    <tr>\n",
       "      <th>2</th>\n",
       "      <td>355333805</td>\n",
       "      <td>5965426421</td>\n",
       "      <td>2021-09-03</td>\n",
       "      <td>2021-09-03 07:25:51</td>\n",
       "      <td>27975</td>\n",
       "      <td>None</td>\n",
       "      <td>28</td>\n",
       "      <td>Rugs</td>\n",
       "      <td>2</td>\n",
       "      <td>2021-09-05 08:20:51</td>\n",
       "      <td>...</td>\n",
       "      <td>1</td>\n",
       "      <td>1.0</td>\n",
       "      <td>StANDard</td>\n",
       "      <td>NaN</td>\n",
       "      <td>NaN</td>\n",
       "      <td>3</td>\n",
       "      <td>5</td>\n",
       "      <td>12</td>\n",
       "      <td>0.0</td>\n",
       "      <td>both</td>\n",
       "    </tr>\n",
       "    <tr>\n",
       "      <th>3</th>\n",
       "      <td>357850108</td>\n",
       "      <td>5992185769</td>\n",
       "      <td>2021-09-15</td>\n",
       "      <td>2021-09-15 22:19:03</td>\n",
       "      <td>27743</td>\n",
       "      <td>None</td>\n",
       "      <td>62</td>\n",
       "      <td>Furniture - Kitchen and Dining</td>\n",
       "      <td>3</td>\n",
       "      <td>2021-09-16 03:26:20</td>\n",
       "      <td>...</td>\n",
       "      <td>0</td>\n",
       "      <td>1.0</td>\n",
       "      <td>StANDard</td>\n",
       "      <td>NaN</td>\n",
       "      <td>NaN</td>\n",
       "      <td>2</td>\n",
       "      <td>5</td>\n",
       "      <td>17</td>\n",
       "      <td>NaN</td>\n",
       "      <td>left_only</td>\n",
       "    </tr>\n",
       "    <tr>\n",
       "      <th>4</th>\n",
       "      <td>356533817</td>\n",
       "      <td>5977075156</td>\n",
       "      <td>2021-09-08</td>\n",
       "      <td>2021-09-08 01:47:52</td>\n",
       "      <td>27754</td>\n",
       "      <td>Domestic</td>\n",
       "      <td>22</td>\n",
       "      <td>Outdoor</td>\n",
       "      <td>2</td>\n",
       "      <td>2021-09-08 15:49:32</td>\n",
       "      <td>...</td>\n",
       "      <td>1</td>\n",
       "      <td>1.0</td>\n",
       "      <td>StANDard</td>\n",
       "      <td>NaN</td>\n",
       "      <td>NaN</td>\n",
       "      <td>3</td>\n",
       "      <td>1</td>\n",
       "      <td>56</td>\n",
       "      <td>NaN</td>\n",
       "      <td>left_only</td>\n",
       "    </tr>\n",
       "    <tr>\n",
       "      <th>...</th>\n",
       "      <td>...</td>\n",
       "      <td>...</td>\n",
       "      <td>...</td>\n",
       "      <td>...</td>\n",
       "      <td>...</td>\n",
       "      <td>...</td>\n",
       "      <td>...</td>\n",
       "      <td>...</td>\n",
       "      <td>...</td>\n",
       "      <td>...</td>\n",
       "      <td>...</td>\n",
       "      <td>...</td>\n",
       "      <td>...</td>\n",
       "      <td>...</td>\n",
       "      <td>...</td>\n",
       "      <td>...</td>\n",
       "      <td>...</td>\n",
       "      <td>...</td>\n",
       "      <td>...</td>\n",
       "      <td>...</td>\n",
       "      <td>...</td>\n",
       "    </tr>\n",
       "    <tr>\n",
       "      <th>409932</th>\n",
       "      <td>395008920</td>\n",
       "      <td>6410137892</td>\n",
       "      <td>2022-03-30</td>\n",
       "      <td>2022-03-30 18:07:03</td>\n",
       "      <td>62666</td>\n",
       "      <td>Domestic</td>\n",
       "      <td>31</td>\n",
       "      <td>Upholstery - Core</td>\n",
       "      <td>3</td>\n",
       "      <td>2022-03-31 13:19:22</td>\n",
       "      <td>...</td>\n",
       "      <td>1</td>\n",
       "      <td>1.0</td>\n",
       "      <td>StANDard</td>\n",
       "      <td>NaN</td>\n",
       "      <td>NaN</td>\n",
       "      <td>1</td>\n",
       "      <td>1</td>\n",
       "      <td>415074</td>\n",
       "      <td>1.0</td>\n",
       "      <td>both</td>\n",
       "    </tr>\n",
       "    <tr>\n",
       "      <th>409933</th>\n",
       "      <td>395119404</td>\n",
       "      <td>6367721969</td>\n",
       "      <td>2022-03-31</td>\n",
       "      <td>2022-03-31 13:03:34</td>\n",
       "      <td>33633</td>\n",
       "      <td>Domestic</td>\n",
       "      <td>31</td>\n",
       "      <td>Upholstery - Core</td>\n",
       "      <td>2</td>\n",
       "      <td>2022-04-02 07:37:23</td>\n",
       "      <td>...</td>\n",
       "      <td>1</td>\n",
       "      <td>1.0</td>\n",
       "      <td>StANDard</td>\n",
       "      <td>NaN</td>\n",
       "      <td>NaN</td>\n",
       "      <td>3</td>\n",
       "      <td>1</td>\n",
       "      <td>415075</td>\n",
       "      <td>NaN</td>\n",
       "      <td>left_only</td>\n",
       "    </tr>\n",
       "    <tr>\n",
       "      <th>409934</th>\n",
       "      <td>394842360</td>\n",
       "      <td>6405996859</td>\n",
       "      <td>2022-03-29</td>\n",
       "      <td>2022-03-29 18:08:54</td>\n",
       "      <td>52274</td>\n",
       "      <td>Domestic</td>\n",
       "      <td>43</td>\n",
       "      <td>Mattresses</td>\n",
       "      <td>3</td>\n",
       "      <td>2022-03-30 07:49:08</td>\n",
       "      <td>...</td>\n",
       "      <td>0</td>\n",
       "      <td>1.0</td>\n",
       "      <td>StANDard</td>\n",
       "      <td>NaN</td>\n",
       "      <td>NaN</td>\n",
       "      <td>1</td>\n",
       "      <td>2</td>\n",
       "      <td>415076</td>\n",
       "      <td>1.0</td>\n",
       "      <td>both</td>\n",
       "    </tr>\n",
       "    <tr>\n",
       "      <th>409935</th>\n",
       "      <td>394967538</td>\n",
       "      <td>6405915693</td>\n",
       "      <td>2022-03-30</td>\n",
       "      <td>2022-03-30 14:08:50</td>\n",
       "      <td>29492</td>\n",
       "      <td>Domestic</td>\n",
       "      <td>123</td>\n",
       "      <td>Plumbing - Vanities</td>\n",
       "      <td>3</td>\n",
       "      <td>2022-03-31 13:02:28</td>\n",
       "      <td>...</td>\n",
       "      <td>1</td>\n",
       "      <td>1.0</td>\n",
       "      <td>StANDard</td>\n",
       "      <td>NaN</td>\n",
       "      <td>NaN</td>\n",
       "      <td>1</td>\n",
       "      <td>1</td>\n",
       "      <td>415077</td>\n",
       "      <td>NaN</td>\n",
       "      <td>left_only</td>\n",
       "    </tr>\n",
       "    <tr>\n",
       "      <th>409936</th>\n",
       "      <td>395086313</td>\n",
       "      <td>6405465325</td>\n",
       "      <td>2022-03-31</td>\n",
       "      <td>2022-03-31 09:43:15</td>\n",
       "      <td>42282</td>\n",
       "      <td>Domestic</td>\n",
       "      <td>6</td>\n",
       "      <td>Wayfair</td>\n",
       "      <td>2</td>\n",
       "      <td>2022-03-31 23:43:44</td>\n",
       "      <td>...</td>\n",
       "      <td>1</td>\n",
       "      <td>1.0</td>\n",
       "      <td>StANDard</td>\n",
       "      <td>NaN</td>\n",
       "      <td>NaN</td>\n",
       "      <td>1</td>\n",
       "      <td>1</td>\n",
       "      <td>415078</td>\n",
       "      <td>1.0</td>\n",
       "      <td>both</td>\n",
       "    </tr>\n",
       "  </tbody>\n",
       "</table>\n",
       "<p>409937 rows × 38 columns</p>\n",
       "</div>"
      ],
      "text/plain": [
       "            ponum        opid   orderdate   orderdatetimestamp  SupplierId  \\\n",
       "0       357554075  5989279065  2021-09-14  2021-09-14 09:21:27       42322   \n",
       "1       357493345  5988565812  2021-09-13  2021-09-13 20:25:36       33529   \n",
       "2       355333805  5965426421  2021-09-03  2021-09-03 07:25:51       27975   \n",
       "3       357850108  5992185769  2021-09-15  2021-09-15 22:19:03       27743   \n",
       "4       356533817  5977075156  2021-09-08  2021-09-08 01:47:52       27754   \n",
       "...           ...         ...         ...                  ...         ...   \n",
       "409932  395008920  6410137892  2022-03-30  2022-03-30 18:07:03       62666   \n",
       "409933  395119404  6367721969  2022-03-31  2022-03-31 13:03:34       33633   \n",
       "409934  394842360  6405996859  2022-03-29  2022-03-29 18:08:54       52274   \n",
       "409935  394967538  6405915693  2022-03-30  2022-03-30 14:08:50       29492   \n",
       "409936  395086313  6405465325  2022-03-31  2022-03-31 09:43:15       42282   \n",
       "\n",
       "         Dom_Int  MkcID                         mkcname  shipclass  \\\n",
       "0           None     61             Furniture - Bedroom          3   \n",
       "1           None     61             Furniture - Bedroom          2   \n",
       "2           None     28                            Rugs          2   \n",
       "3           None     62  Furniture - Kitchen and Dining          3   \n",
       "4       Domestic     22                         Outdoor          2   \n",
       "...          ...    ...                             ...        ...   \n",
       "409932  Domestic     31               Upholstery - Core          3   \n",
       "409933  Domestic     31               Upholstery - Core          2   \n",
       "409934  Domestic     43                      Mattresses          3   \n",
       "409935  Domestic    123             Plumbing - Vanities          3   \n",
       "409936  Domestic      6                         Wayfair          2   \n",
       "\n",
       "                   shipdate  ... ship_ontime_su deliveredlate ServiceLevel  \\\n",
       "0       2021-09-16 10:20:32  ...              1           1.0     StANDard   \n",
       "1       2021-09-15 18:06:03  ...              1           1.0     StANDard   \n",
       "2       2021-09-05 08:20:51  ...              1           1.0     StANDard   \n",
       "3       2021-09-16 03:26:20  ...              0           1.0     StANDard   \n",
       "4       2021-09-08 15:49:32  ...              1           1.0     StANDard   \n",
       "...                     ...  ...            ...           ...          ...   \n",
       "409932  2022-03-31 13:19:22  ...              1           1.0     StANDard   \n",
       "409933  2022-04-02 07:37:23  ...              1           1.0     StANDard   \n",
       "409934  2022-03-30 07:49:08  ...              0           1.0     StANDard   \n",
       "409935  2022-03-31 13:02:28  ...              1           1.0     StANDard   \n",
       "409936  2022-03-31 23:43:44  ...              1           1.0     StANDard   \n",
       "\n",
       "        OpcVol OpcWeight quantile_ship_to_first_movement  \\\n",
       "0          NaN       NaN                               2   \n",
       "1          NaN       NaN                               3   \n",
       "2          NaN       NaN                               3   \n",
       "3          NaN       NaN                               2   \n",
       "4          NaN       NaN                               3   \n",
       "...        ...       ...                             ...   \n",
       "409932     NaN       NaN                               1   \n",
       "409933     NaN       NaN                               3   \n",
       "409934     NaN       NaN                               1   \n",
       "409935     NaN       NaN                               1   \n",
       "409936     NaN       NaN                               1   \n",
       "\n",
       "       quantile_order_to_delivery_stated pred_index preds     _merge  \n",
       "0                                      5          1   NaN  left_only  \n",
       "1                                      2         11   NaN  left_only  \n",
       "2                                      5         12   0.0       both  \n",
       "3                                      5         17   NaN  left_only  \n",
       "4                                      1         56   NaN  left_only  \n",
       "...                                  ...        ...   ...        ...  \n",
       "409932                                 1     415074   1.0       both  \n",
       "409933                                 1     415075   NaN  left_only  \n",
       "409934                                 2     415076   1.0       both  \n",
       "409935                                 1     415077   NaN  left_only  \n",
       "409936                                 1     415078   1.0       both  \n",
       "\n",
       "[409937 rows x 38 columns]"
      ]
     },
     "execution_count": 34,
     "metadata": {},
     "output_type": "execute_result"
    }
   ],
   "source": [
    "output"
   ]
  },
  {
   "cell_type": "code",
   "execution_count": 35,
   "id": "c36304e3-1498-4592-b783-edd4e960f511",
   "metadata": {},
   "outputs": [],
   "source": [
    "output.to_csv(r'delivered_late_prediction.csv')"
   ]
  },
  {
   "cell_type": "code",
   "execution_count": null,
   "id": "be2d07df-ac1d-401f-a961-ed8595a0cd17",
   "metadata": {},
   "outputs": [],
   "source": []
  }
 ],
 "metadata": {
  "environment": {
   "kernel": "python3",
   "name": "common-cpu.m93",
   "type": "gcloud",
   "uri": "gcr.io/deeplearning-platform-release/base-cpu:m93"
  },
  "kernelspec": {
   "display_name": "Python 3",
   "language": "python",
   "name": "python3"
  },
  "language_info": {
   "codemirror_mode": {
    "name": "ipython",
    "version": 3
   },
   "file_extension": ".py",
   "mimetype": "text/x-python",
   "name": "python",
   "nbconvert_exporter": "python",
   "pygments_lexer": "ipython3",
   "version": "3.7.12"
  }
 },
 "nbformat": 4,
 "nbformat_minor": 5
}
