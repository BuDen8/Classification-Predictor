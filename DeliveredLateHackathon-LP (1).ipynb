{
 "cells": [
  {
   "cell_type": "markdown",
   "id": "a9d75558-fcda-43c9-ac79-87f7f1517867",
   "metadata": {},
   "source": [
    "# Delivered Late Random Forest GAT Hackathon LP Code"
   ]
  },
  {
   "cell_type": "code",
   "execution_count": 54,
   "id": "f7ec03ee-5dac-445c-9bbf-7ddb9f968ad5",
   "metadata": {
    "tags": []
   },
   "outputs": [],
   "source": [
    "import numpy as np\n",
    "import pandas as pd\n",
    "\n",
    "import pickle\n",
    "\n",
    "import matplotlib.pyplot as plt\n",
    "import seaborn as sns\n",
    "\n",
    "from imblearn.over_sampling  import SMOTE\n",
    "from imblearn.pipeline import Pipeline as PipelineImb\n",
    "\n",
    "from sklearn import metrics\n",
    "from sklearn.linear_model import LogisticRegression\n",
    "from sklearn.ensemble import RandomForestClassifier\n",
    "from sklearn.preprocessing import OneHotEncoder, MinMaxScaler\n",
    "from sklearn.impute import SimpleImputer\n",
    "from sklearn.model_selection import train_test_split, GridSearchCV"
   ]
  },
  {
   "cell_type": "code",
   "execution_count": 55,
   "id": "da2fbeb5-75d0-436b-a8e3-f8d82d96a526",
   "metadata": {},
   "outputs": [],
   "source": [
    "from google.cloud.bigquery import Client"
   ]
  },
  {
   "cell_type": "code",
   "execution_count": 56,
   "id": "f82330ab-8ffb-40cd-9243-cb920504fa93",
   "metadata": {},
   "outputs": [],
   "source": [
    "bigquery_client = Client(project=project_name_a)"
   ]
  },
  {
   "cell_type": "markdown",
   "id": "6024936a-d510-4fe2-9f62-7965f64ea0cd",
   "metadata": {},
   "source": [
    "### Querying Data"
   ]
  },
  {
   "cell_type": "code",
   "execution_count": 57,
   "id": "66ef79f6-b3fa-4ce0-b7ad-e99d787219d5",
   "metadata": {},
   "outputs": [],
   "source": [
    "sql = \"\"\"\n",
    "select a.*,OpcVol,OpcWeight,case when ship_to_first_movement_hour<=0 then 1\n",
    "when ship_to_first_movement_hour<=4 and ship_to_first_movement_hour>0 then 2\n",
    "else 3 end as quantile_ship_to_first_movement,\n",
    "case when order_to_delivery_stated_day<3 then 1\n",
    "when order_to_delivery_stated_day<5 and order_to_delivery_stated_day>=3 then 2\n",
    "when order_to_delivery_stated_day<9 and order_to_delivery_stated_day>=5 then 3\n",
    "when order_to_delivery_stated_day<13 and order_to_delivery_stated_day>=9 then 4\n",
    "else 5 end as quantile_order_to_delivery_stated from tbl_name_a a\n",
    "LEFT JOIN (select distinct opcopid,max(OpcHeight*OpcWidth*OpcDepth) as OpcVol,max(OpcWeight) as OpcWeight from tbl_name_b group by 1 order by 1) b on a.opid=b.opcopID\n",
    "\"\"\""
   ]
  },
  {
   "cell_type": "code",
   "execution_count": 95,
   "id": "7268c0f2-6118-4997-9f94-f5aedef04def",
   "metadata": {},
   "outputs": [],
   "source": [
    "df=bigquery_client.query(sql).to_dataframe()"
   ]
  },
  {
   "cell_type": "code",
   "execution_count": 59,
   "id": "45b776b1-3e8f-4c25-8bd5-f1780d3af7a1",
   "metadata": {
    "tags": []
   },
   "outputs": [
    {
     "data": {
      "text/html": [
       "<div>\n",
       "<style scoped>\n",
       "    .dataframe tbody tr th:only-of-type {\n",
       "        vertical-align: middle;\n",
       "    }\n",
       "\n",
       "    .dataframe tbody tr th {\n",
       "        vertical-align: top;\n",
       "    }\n",
       "\n",
       "    .dataframe thead th {\n",
       "        text-align: right;\n",
       "    }\n",
       "</style>\n",
       "<table border=\"1\" class=\"dataframe\">\n",
       "  <thead>\n",
       "    <tr style=\"text-align: right;\">\n",
       "      <th></th>\n",
       "      <th>ponum</th>\n",
       "      <th>opid</th>\n",
       "      <th>orderdate</th>\n",
       "      <th>orderdatetimestamp</th>\n",
       "      <th>SupplierId</th>\n",
       "      <th>Dom_Int</th>\n",
       "      <th>MkcID</th>\n",
       "      <th>mkcname</th>\n",
       "      <th>shipclass</th>\n",
       "      <th>shipdate</th>\n",
       "      <th>...</th>\n",
       "      <th>order_to_delivery_stated_day</th>\n",
       "      <th>hour_of_order_date</th>\n",
       "      <th>ship_ontime_cu</th>\n",
       "      <th>ship_ontime_su</th>\n",
       "      <th>deliveredlate</th>\n",
       "      <th>ServiceLevel</th>\n",
       "      <th>OpcVol</th>\n",
       "      <th>OpcWeight</th>\n",
       "      <th>quantile_ship_to_first_movement</th>\n",
       "      <th>quantile_order_to_delivery_stated</th>\n",
       "    </tr>\n",
       "  </thead>\n",
       "  <tbody>\n",
       "    <tr>\n",
       "      <th>0</th>\n",
       "      <td>362796294</td>\n",
       "      <td>6046952509</td>\n",
       "      <td>2021-10-15</td>\n",
       "      <td>2021-10-15 13:54:11</td>\n",
       "      <td>33543</td>\n",
       "      <td>None</td>\n",
       "      <td>31</td>\n",
       "      <td>Upholstery - Core</td>\n",
       "      <td>2</td>\n",
       "      <td>2021-10-16 12:04:48</td>\n",
       "      <td>...</td>\n",
       "      <td>4.0</td>\n",
       "      <td>13</td>\n",
       "      <td>NaN</td>\n",
       "      <td>0</td>\n",
       "      <td>NaN</td>\n",
       "      <td>StANDard</td>\n",
       "      <td>NaN</td>\n",
       "      <td>NaN</td>\n",
       "      <td>2</td>\n",
       "      <td>2</td>\n",
       "    </tr>\n",
       "    <tr>\n",
       "      <th>1</th>\n",
       "      <td>360667506</td>\n",
       "      <td>6025253669</td>\n",
       "      <td>2021-10-03</td>\n",
       "      <td>2021-10-03 10:45:57</td>\n",
       "      <td>27885</td>\n",
       "      <td>None</td>\n",
       "      <td>117</td>\n",
       "      <td>Decorative Accents</td>\n",
       "      <td>3</td>\n",
       "      <td>2021-10-04 20:19:32</td>\n",
       "      <td>...</td>\n",
       "      <td>19.0</td>\n",
       "      <td>10</td>\n",
       "      <td>NaN</td>\n",
       "      <td>1</td>\n",
       "      <td>NaN</td>\n",
       "      <td>None</td>\n",
       "      <td>NaN</td>\n",
       "      <td>NaN</td>\n",
       "      <td>2</td>\n",
       "      <td>5</td>\n",
       "    </tr>\n",
       "    <tr>\n",
       "      <th>2</th>\n",
       "      <td>361938635</td>\n",
       "      <td>6041999635</td>\n",
       "      <td>2021-10-10</td>\n",
       "      <td>2021-10-10 17:02:49</td>\n",
       "      <td>41610</td>\n",
       "      <td>None</td>\n",
       "      <td>123</td>\n",
       "      <td>Plumbing - Vanities</td>\n",
       "      <td>2</td>\n",
       "      <td>2021-10-19 07:29:16</td>\n",
       "      <td>...</td>\n",
       "      <td>3.0</td>\n",
       "      <td>17</td>\n",
       "      <td>NaN</td>\n",
       "      <td>1</td>\n",
       "      <td>NaN</td>\n",
       "      <td>StANDard</td>\n",
       "      <td>NaN</td>\n",
       "      <td>NaN</td>\n",
       "      <td>2</td>\n",
       "      <td>2</td>\n",
       "    </tr>\n",
       "    <tr>\n",
       "      <th>3</th>\n",
       "      <td>358572329</td>\n",
       "      <td>6001238907</td>\n",
       "      <td>2021-09-20</td>\n",
       "      <td>2021-09-20 12:12:06</td>\n",
       "      <td>42322</td>\n",
       "      <td>None</td>\n",
       "      <td>61</td>\n",
       "      <td>Furniture - Bedroom</td>\n",
       "      <td>2</td>\n",
       "      <td>2021-09-20 22:05:33</td>\n",
       "      <td>...</td>\n",
       "      <td>18.0</td>\n",
       "      <td>12</td>\n",
       "      <td>NaN</td>\n",
       "      <td>1</td>\n",
       "      <td>NaN</td>\n",
       "      <td>None</td>\n",
       "      <td>NaN</td>\n",
       "      <td>NaN</td>\n",
       "      <td>2</td>\n",
       "      <td>5</td>\n",
       "    </tr>\n",
       "    <tr>\n",
       "      <th>4</th>\n",
       "      <td>362731858</td>\n",
       "      <td>6051120171</td>\n",
       "      <td>2021-10-15</td>\n",
       "      <td>2021-10-15 03:07:59</td>\n",
       "      <td>42291</td>\n",
       "      <td>None</td>\n",
       "      <td>31</td>\n",
       "      <td>Upholstery - Core</td>\n",
       "      <td>3</td>\n",
       "      <td>2021-10-16 06:56:01</td>\n",
       "      <td>...</td>\n",
       "      <td>3.0</td>\n",
       "      <td>3</td>\n",
       "      <td>NaN</td>\n",
       "      <td>0</td>\n",
       "      <td>NaN</td>\n",
       "      <td>ASsembly</td>\n",
       "      <td>NaN</td>\n",
       "      <td>NaN</td>\n",
       "      <td>2</td>\n",
       "      <td>2</td>\n",
       "    </tr>\n",
       "  </tbody>\n",
       "</table>\n",
       "<p>5 rows × 35 columns</p>\n",
       "</div>"
      ],
      "text/plain": [
       "       ponum        opid   orderdate   orderdatetimestamp  SupplierId Dom_Int  \\\n",
       "0  362796294  6046952509  2021-10-15  2021-10-15 13:54:11       33543    None   \n",
       "1  360667506  6025253669  2021-10-03  2021-10-03 10:45:57       27885    None   \n",
       "2  361938635  6041999635  2021-10-10  2021-10-10 17:02:49       41610    None   \n",
       "3  358572329  6001238907  2021-09-20  2021-09-20 12:12:06       42322    None   \n",
       "4  362731858  6051120171  2021-10-15  2021-10-15 03:07:59       42291    None   \n",
       "\n",
       "   MkcID              mkcname  shipclass             shipdate  ...  \\\n",
       "0     31    Upholstery - Core          2  2021-10-16 12:04:48  ...   \n",
       "1    117   Decorative Accents          3  2021-10-04 20:19:32  ...   \n",
       "2    123  Plumbing - Vanities          2  2021-10-19 07:29:16  ...   \n",
       "3     61  Furniture - Bedroom          2  2021-09-20 22:05:33  ...   \n",
       "4     31    Upholstery - Core          3  2021-10-16 06:56:01  ...   \n",
       "\n",
       "  order_to_delivery_stated_day hour_of_order_date ship_ontime_cu  \\\n",
       "0                          4.0                 13            NaN   \n",
       "1                         19.0                 10            NaN   \n",
       "2                          3.0                 17            NaN   \n",
       "3                         18.0                 12            NaN   \n",
       "4                          3.0                  3            NaN   \n",
       "\n",
       "   ship_ontime_su deliveredlate ServiceLevel OpcVol OpcWeight  \\\n",
       "0               0           NaN     StANDard    NaN       NaN   \n",
       "1               1           NaN         None    NaN       NaN   \n",
       "2               1           NaN     StANDard    NaN       NaN   \n",
       "3               1           NaN         None    NaN       NaN   \n",
       "4               0           NaN     ASsembly    NaN       NaN   \n",
       "\n",
       "  quantile_ship_to_first_movement quantile_order_to_delivery_stated  \n",
       "0                               2                                 2  \n",
       "1                               2                                 5  \n",
       "2                               2                                 2  \n",
       "3                               2                                 5  \n",
       "4                               2                                 2  \n",
       "\n",
       "[5 rows x 35 columns]"
      ]
     },
     "execution_count": 59,
     "metadata": {},
     "output_type": "execute_result"
    }
   ],
   "source": [
    "df.head()"
   ]
  },
  {
   "cell_type": "markdown",
   "id": "c52a315b-63b5-434a-9912-71aa06858cc7",
   "metadata": {},
   "source": [
    "### Looking at split between Delivered Late and not Late orders in database"
   ]
  },
  {
   "cell_type": "code",
   "execution_count": 42,
   "id": "0cb976be-cccd-4d1d-97c5-d163f6e515bf",
   "metadata": {},
   "outputs": [
    {
     "data": {
      "image/png": "[encoded data removed]",
      "text/plain": [
       "<Figure size 504x360 with 1 Axes>"
      ]
     },
     "metadata": {},
     "output_type": "display_data"
    }
   ],
   "source": [
    "f, ax = plt.subplots(figsize=(7, 5))\n",
    "sns.countplot(x='deliveredlate', data=df)\n",
    "_ = plt.title('# Delivered Late v not Late')\n",
    "_ = plt.xlabel('DeliveredLate (1==Late)')"
   ]
  },
  {
   "cell_type": "markdown",
   "id": "5bc6a8f6-42f8-4a0b-be0a-43aef04c9064",
   "metadata": {},
   "source": [
    "### Removing NA delivered late orders and using mean/mode to substitue NAs from the numerical/categorical features resepectively"
   ]
  },
  {
   "cell_type": "code",
   "execution_count": 99,
   "id": "a5d29d5d-992a-4db3-9069-e55801a446dc",
   "metadata": {},
   "outputs": [],
   "source": [
    "df = df[df['deliveredlate'].notna()]"
   ]
  },
  {
   "cell_type": "code",
   "execution_count": 79,
   "id": "344da304-841b-40c8-8492-f80b558996c5",
   "metadata": {},
   "outputs": [
    {
     "name": "stderr",
     "output_type": "stream",
     "text": [
      "/opt/conda/lib/python3.7/site-packages/ipykernel_launcher.py:2: SettingWithCopyWarning: \n",
      "A value is trying to be set on a copy of a slice from a DataFrame.\n",
      "Try using .loc[row_indexer,col_indexer] = value instead\n",
      "\n",
      "See the caveats in the documentation: https://pandas.pydata.org/pandas-docs/stable/user_guide/indexing.html#returning-a-view-versus-a-copy\n",
      "  \n"
     ]
    }
   ],
   "source": [
    "# Filling missing numerical values with mean\n",
    "df['volume_last_48h'] = df['volume_last_48h'].fillna(df['volume_last_48h'].mean())"
   ]
  },
  {
   "cell_type": "code",
   "execution_count": 102,
   "id": "bf29ef94-ca3e-4e01-8f60-6249f3061a1b",
   "metadata": {},
   "outputs": [],
   "source": [
    "# Filling missing categorical values with mode\n",
    "df['whname'] = df['whname'].fillna(df['whname'].mode()[0])\n",
    "df['whname'] = df['whname'].apply(str)\n",
    "\n",
    "df['mkcname'] = df['mkcname'].fillna(df['mkcname'].mode()[0])\n",
    "\n",
    "\n",
    "df['quantile_ship_to_first_movement'] = df['quantile_ship_to_first_movement'].fillna(df['quantile_ship_to_first_movement'].mode()[0])\n",
    "\n",
    "df['quantile_order_to_delivery_stated'] = df['quantile_order_to_delivery_stated'].fillna(df['quantile_order_to_delivery_stated'].mode()[0])\n",
    "df['ServiceLevel'] = df['ServiceLevel'].fillna(df['ServiceLevel'].mode()[0])"
   ]
  },
  {
   "cell_type": "markdown",
   "id": "137be8c8-1730-45b5-9b8b-763793458115",
   "metadata": {},
   "source": [
    "### Testing feature AUC score for prediction Delivered Late and declaring categorical features as cat_fields"
   ]
  },
  {
   "cell_type": "code",
   "execution_count": 46,
   "id": "5413b6ca-5144-4a1f-951a-8a3c7bb0f14a",
   "metadata": {},
   "outputs": [],
   "source": [
    "X=df[['quantile_ship_to_first_movement','quantile_order_to_delivery_stated','volume_last_48h','volume_last_24h','whname','mkcname','ServiceLevel']]\n",
    "cat_fields = ['quantile_ship_to_first_movement','quantile_order_to_delivery_stated','whname', 'mkcname','ServiceLevel']"
   ]
  },
  {
   "cell_type": "code",
   "execution_count": 47,
   "id": "21035555-d32f-4f1c-beb7-af084cd0c628",
   "metadata": {},
   "outputs": [
    {
     "name": "stdout",
     "output_type": "stream",
     "text": [
      "col=quantile_ship_to_first_movement, auc=0.532483112730405\n",
      "col=quantile_order_to_delivery_stated, auc=0.7614894097381186\n",
      "col=volume_last_48h, auc=0.5503096183340381\n",
      "col=volume_last_24h, auc=0.5385879502144427\n",
      "col=whname, auc=0.5472815127812367\n",
      "col=mkcname, auc=0.5248983687639562\n",
      "col=ServiceLevel, auc=0.5584129866047933\n"
     ]
    }
   ],
   "source": [
    "y = df['deliveredlate']\n",
    "\n",
    "list_models = list()\n",
    "for j, col in enumerate(X):\n",
    "    _X = pd.DataFrame(df[col]).reset_index(drop=True)\n",
    "    if col in cat_fields:\n",
    "        enc = OneHotEncoder(categories=\"auto\", handle_unknown=\"error\", drop='first', sparse=False)\n",
    "        _X_ohe = pd.DataFrame(enc.fit_transform(pd.DataFrame(_X)), columns=enc.get_feature_names_out()).reset_index(drop=True)\n",
    "        _X = pd.concat([_X.drop(columns=col, axis=1), _X_ohe], axis=1)\n",
    "\n",
    "    x_train, x_test, y_train, y_test = train_test_split(_X, y, train_size=0.8, random_state=42)\n",
    "    \n",
    "\n",
    "    _model = PipelineImb([\n",
    "\n",
    "             ('Imputer', SimpleImputer(missing_values=np.nan, strategy=\"median\")), \n",
    "             ('Scaling', MinMaxScaler(clip=True)),\n",
    "             ('RF', RandomForestClassifier(n_jobs=-1, oob_score = True, random_state=42))\n",
    "\n",
    "                ])\n",
    "\n",
    "    _model.fit(x_train, y_train)\n",
    "\n",
    "    y_pred_proba = _model.predict_proba(x_test)[::,1]\n",
    "    auc = metrics.roc_auc_score(y_test, y_pred_proba)\n",
    "    print(f'col={col}, auc={auc}')\n",
    "    \n",
    "    list_models.append((col, auc))\n",
    "\n",
    "df_list_models = pd.DataFrame(list_models, columns=['feature', 'AUC']).sort_values(by='AUC')"
   ]
  },
  {
   "cell_type": "markdown",
   "id": "1b034995-1499-48ab-889a-503f718afabc",
   "metadata": {},
   "source": [
    "### Check for Correlation between potential features to avoid highly correlated ones"
   ]
  },
  {
   "cell_type": "code",
   "execution_count": 48,
   "id": "ae289fc1-fc6f-492b-8c8e-fa2b46c33da4",
   "metadata": {
    "tags": []
   },
   "outputs": [
    {
     "data": {
      "image/png": "[encoded data removed]",
      "text/plain": [
       "<Figure size 1080x1080 with 2 Axes>"
      ]
     },
     "metadata": {},
     "output_type": "display_data"
    }
   ],
   "source": [
    "num_feat=X[['quantile_ship_to_first_movement','quantile_order_to_delivery_stated']]\n",
    "corr = num_feat.corr('pearson')\n",
    "mask = np.triu(corr)\n",
    "plt.figure(figsize=(15, 15))\n",
    "ax = sns.heatmap(\n",
    "    corr, \n",
    "    vmin=-1, vmax=1, center=0,\n",
    "    cmap=sns.diverging_palette(20, 220, n=100),\n",
    "    square=True,\n",
    "    mask=mask\n",
    ")\n",
    "plt.title('Correlation Matrix for Numerical features')\n",
    "plt.show()"
   ]
  },
  {
   "cell_type": "code",
   "execution_count": 143,
   "id": "ef992dff-df58-4004-a284-3740c13443e4",
   "metadata": {},
   "outputs": [],
   "source": [
    "features=['quantile_order_to_delivery_stated','volume_last_48h','whname']"
   ]
  },
  {
   "cell_type": "markdown",
   "id": "2b974955-94ea-4f71-ad7c-fb0456f1474f",
   "metadata": {
    "tags": []
   },
   "source": [
    "### Testing AUC Score of RF and LR models with different hyperparameters to identify best one"
   ]
  },
  {
   "cell_type": "code",
   "execution_count": 144,
   "id": "a8cd3bed-1885-4ece-a9c2-c785a1c6af3a",
   "metadata": {
    "collapsed": true,
    "jupyter": {
     "outputs_hidden": true
    },
    "tags": []
   },
   "outputs": [
    {
     "name": "stdout",
     "output_type": "stream",
     "text": [
      "Fitting 5 folds for each of 1 candidates, totalling 5 fits\n",
      "[CV 1/5] END RF__max_depth=20, RF__max_features=auto, RF__max_samples=0.5, RF__min_samples_split=10;, score=0.793 total time=  14.8s\n",
      "[CV 2/5] END RF__max_depth=20, RF__max_features=auto, RF__max_samples=0.5, RF__min_samples_split=10;, score=0.794 total time=  12.9s\n",
      "[CV 3/5] END RF__max_depth=20, RF__max_features=auto, RF__max_samples=0.5, RF__min_samples_split=10;, score=0.791 total time=  13.1s\n",
      "[CV 4/5] END RF__max_depth=20, RF__max_features=auto, RF__max_samples=0.5, RF__min_samples_split=10;, score=0.794 total time=  13.0s\n",
      "[CV 5/5] END RF__max_depth=20, RF__max_features=auto, RF__max_samples=0.5, RF__min_samples_split=10;, score=0.794 total time=  13.2s\n",
      "Fitting 5 folds for each of 2 candidates, totalling 10 fits\n",
      "[CV 1/5] END .............LgR__solver=newton-cg;, score=0.779 total time=  46.3s\n"
     ]
    },
    {
     "ename": "KeyboardInterrupt",
     "evalue": "",
     "output_type": "error",
     "traceback": [
      "\u001b[0;31m---------------------------------------------------------------------------\u001b[0m",
      "\u001b[0;31mKeyboardInterrupt\u001b[0m                         Traceback (most recent call last)",
      "\u001b[0;32m/tmp/ipykernel_5081/3473472537.py\u001b[0m in \u001b[0;36m<module>\u001b[0;34m\u001b[0m\n\u001b[1;32m     49\u001b[0m \u001b[0;31m# Searching best hyper-parametrization\u001b[0m\u001b[0;34m\u001b[0m\u001b[0;34m\u001b[0m\u001b[0;34m\u001b[0m\u001b[0m\n\u001b[1;32m     50\u001b[0m \u001b[0mCV_lgr\u001b[0m \u001b[0;34m=\u001b[0m \u001b[0mGridSearchCV\u001b[0m\u001b[0;34m(\u001b[0m\u001b[0mmodel_lgr\u001b[0m\u001b[0;34m,\u001b[0m \u001b[0mparam_grid\u001b[0m\u001b[0;34m=\u001b[0m\u001b[0mparam_grid_lgr\u001b[0m\u001b[0;34m,\u001b[0m \u001b[0mcv\u001b[0m\u001b[0;34m=\u001b[0m\u001b[0;36m5\u001b[0m\u001b[0;34m,\u001b[0m \u001b[0mscoring\u001b[0m\u001b[0;34m=\u001b[0m\u001b[0;34m'roc_auc'\u001b[0m\u001b[0;34m,\u001b[0m \u001b[0mverbose\u001b[0m\u001b[0;34m=\u001b[0m\u001b[0;36m4\u001b[0m\u001b[0;34m)\u001b[0m\u001b[0;34m\u001b[0m\u001b[0;34m\u001b[0m\u001b[0m\n\u001b[0;32m---> 51\u001b[0;31m \u001b[0mres_lgr\u001b[0m \u001b[0;34m=\u001b[0m \u001b[0mCV_lgr\u001b[0m\u001b[0;34m.\u001b[0m\u001b[0mfit\u001b[0m\u001b[0;34m(\u001b[0m\u001b[0mX\u001b[0m\u001b[0;34m,\u001b[0m \u001b[0my\u001b[0m\u001b[0;34m)\u001b[0m\u001b[0;34m\u001b[0m\u001b[0;34m\u001b[0m\u001b[0m\n\u001b[0m",
      "\u001b[0;32m/opt/conda/lib/python3.7/site-packages/sklearn/model_selection/_search.py\u001b[0m in \u001b[0;36mfit\u001b[0;34m(self, X, y, groups, **fit_params)\u001b[0m\n\u001b[1;32m    889\u001b[0m                 \u001b[0;32mreturn\u001b[0m \u001b[0mresults\u001b[0m\u001b[0;34m\u001b[0m\u001b[0;34m\u001b[0m\u001b[0m\n\u001b[1;32m    890\u001b[0m \u001b[0;34m\u001b[0m\u001b[0m\n\u001b[0;32m--> 891\u001b[0;31m             \u001b[0mself\u001b[0m\u001b[0;34m.\u001b[0m\u001b[0m_run_search\u001b[0m\u001b[0;34m(\u001b[0m\u001b[0mevaluate_candidates\u001b[0m\u001b[0;34m)\u001b[0m\u001b[0;34m\u001b[0m\u001b[0;34m\u001b[0m\u001b[0m\n\u001b[0m\u001b[1;32m    892\u001b[0m \u001b[0;34m\u001b[0m\u001b[0m\n\u001b[1;32m    893\u001b[0m             \u001b[0;31m# multimetric is determined here because in the case of a callable\u001b[0m\u001b[0;34m\u001b[0m\u001b[0;34m\u001b[0m\u001b[0;34m\u001b[0m\u001b[0m\n",
      "\u001b[0;32m/opt/conda/lib/python3.7/site-packages/sklearn/model_selection/_search.py\u001b[0m in \u001b[0;36m_run_search\u001b[0;34m(self, evaluate_candidates)\u001b[0m\n\u001b[1;32m   1390\u001b[0m     \u001b[0;32mdef\u001b[0m \u001b[0m_run_search\u001b[0m\u001b[0;34m(\u001b[0m\u001b[0mself\u001b[0m\u001b[0;34m,\u001b[0m \u001b[0mevaluate_candidates\u001b[0m\u001b[0;34m)\u001b[0m\u001b[0;34m:\u001b[0m\u001b[0;34m\u001b[0m\u001b[0;34m\u001b[0m\u001b[0m\n\u001b[1;32m   1391\u001b[0m         \u001b[0;34m\"\"\"Search all candidates in param_grid\"\"\"\u001b[0m\u001b[0;34m\u001b[0m\u001b[0;34m\u001b[0m\u001b[0m\n\u001b[0;32m-> 1392\u001b[0;31m         \u001b[0mevaluate_candidates\u001b[0m\u001b[0;34m(\u001b[0m\u001b[0mParameterGrid\u001b[0m\u001b[0;34m(\u001b[0m\u001b[0mself\u001b[0m\u001b[0;34m.\u001b[0m\u001b[0mparam_grid\u001b[0m\u001b[0;34m)\u001b[0m\u001b[0;34m)\u001b[0m\u001b[0;34m\u001b[0m\u001b[0;34m\u001b[0m\u001b[0m\n\u001b[0m\u001b[1;32m   1393\u001b[0m \u001b[0;34m\u001b[0m\u001b[0m\n\u001b[1;32m   1394\u001b[0m \u001b[0;34m\u001b[0m\u001b[0m\n",
      "\u001b[0;32m/opt/conda/lib/python3.7/site-packages/sklearn/model_selection/_search.py\u001b[0m in \u001b[0;36mevaluate_candidates\u001b[0;34m(candidate_params, cv, more_results)\u001b[0m\n\u001b[1;32m    849\u001b[0m                     )\n\u001b[1;32m    850\u001b[0m                     for (cand_idx, parameters), (split_idx, (train, test)) in product(\n\u001b[0;32m--> 851\u001b[0;31m                         \u001b[0menumerate\u001b[0m\u001b[0;34m(\u001b[0m\u001b[0mcandidate_params\u001b[0m\u001b[0;34m)\u001b[0m\u001b[0;34m,\u001b[0m \u001b[0menumerate\u001b[0m\u001b[0;34m(\u001b[0m\u001b[0mcv\u001b[0m\u001b[0;34m.\u001b[0m\u001b[0msplit\u001b[0m\u001b[0;34m(\u001b[0m\u001b[0mX\u001b[0m\u001b[0;34m,\u001b[0m \u001b[0my\u001b[0m\u001b[0;34m,\u001b[0m \u001b[0mgroups\u001b[0m\u001b[0;34m)\u001b[0m\u001b[0;34m)\u001b[0m\u001b[0;34m\u001b[0m\u001b[0;34m\u001b[0m\u001b[0m\n\u001b[0m\u001b[1;32m    852\u001b[0m                     )\n\u001b[1;32m    853\u001b[0m                 )\n",
      "\u001b[0;32m/opt/conda/lib/python3.7/site-packages/joblib/parallel.py\u001b[0m in \u001b[0;36m__call__\u001b[0;34m(self, iterable)\u001b[0m\n\u001b[1;32m   1044\u001b[0m                 \u001b[0mself\u001b[0m\u001b[0;34m.\u001b[0m\u001b[0m_iterating\u001b[0m \u001b[0;34m=\u001b[0m \u001b[0mself\u001b[0m\u001b[0;34m.\u001b[0m\u001b[0m_original_iterator\u001b[0m \u001b[0;32mis\u001b[0m \u001b[0;32mnot\u001b[0m \u001b[0;32mNone\u001b[0m\u001b[0;34m\u001b[0m\u001b[0;34m\u001b[0m\u001b[0m\n\u001b[1;32m   1045\u001b[0m \u001b[0;34m\u001b[0m\u001b[0m\n\u001b[0;32m-> 1046\u001b[0;31m             \u001b[0;32mwhile\u001b[0m \u001b[0mself\u001b[0m\u001b[0;34m.\u001b[0m\u001b[0mdispatch_one_batch\u001b[0m\u001b[0;34m(\u001b[0m\u001b[0miterator\u001b[0m\u001b[0;34m)\u001b[0m\u001b[0;34m:\u001b[0m\u001b[0;34m\u001b[0m\u001b[0;34m\u001b[0m\u001b[0m\n\u001b[0m\u001b[1;32m   1047\u001b[0m                 \u001b[0;32mpass\u001b[0m\u001b[0;34m\u001b[0m\u001b[0;34m\u001b[0m\u001b[0m\n\u001b[1;32m   1048\u001b[0m \u001b[0;34m\u001b[0m\u001b[0m\n",
      "\u001b[0;32m/opt/conda/lib/python3.7/site-packages/joblib/parallel.py\u001b[0m in \u001b[0;36mdispatch_one_batch\u001b[0;34m(self, iterator)\u001b[0m\n\u001b[1;32m    859\u001b[0m                 \u001b[0;32mreturn\u001b[0m \u001b[0;32mFalse\u001b[0m\u001b[0;34m\u001b[0m\u001b[0;34m\u001b[0m\u001b[0m\n\u001b[1;32m    860\u001b[0m             \u001b[0;32melse\u001b[0m\u001b[0;34m:\u001b[0m\u001b[0;34m\u001b[0m\u001b[0;34m\u001b[0m\u001b[0m\n\u001b[0;32m--> 861\u001b[0;31m                 \u001b[0mself\u001b[0m\u001b[0;34m.\u001b[0m\u001b[0m_dispatch\u001b[0m\u001b[0;34m(\u001b[0m\u001b[0mtasks\u001b[0m\u001b[0;34m)\u001b[0m\u001b[0;34m\u001b[0m\u001b[0;34m\u001b[0m\u001b[0m\n\u001b[0m\u001b[1;32m    862\u001b[0m                 \u001b[0;32mreturn\u001b[0m \u001b[0;32mTrue\u001b[0m\u001b[0;34m\u001b[0m\u001b[0;34m\u001b[0m\u001b[0m\n\u001b[1;32m    863\u001b[0m \u001b[0;34m\u001b[0m\u001b[0m\n",
      "\u001b[0;32m/opt/conda/lib/python3.7/site-packages/joblib/parallel.py\u001b[0m in \u001b[0;36m_dispatch\u001b[0;34m(self, batch)\u001b[0m\n\u001b[1;32m    777\u001b[0m         \u001b[0;32mwith\u001b[0m \u001b[0mself\u001b[0m\u001b[0;34m.\u001b[0m\u001b[0m_lock\u001b[0m\u001b[0;34m:\u001b[0m\u001b[0;34m\u001b[0m\u001b[0;34m\u001b[0m\u001b[0m\n\u001b[1;32m    778\u001b[0m             \u001b[0mjob_idx\u001b[0m \u001b[0;34m=\u001b[0m \u001b[0mlen\u001b[0m\u001b[0;34m(\u001b[0m\u001b[0mself\u001b[0m\u001b[0;34m.\u001b[0m\u001b[0m_jobs\u001b[0m\u001b[0;34m)\u001b[0m\u001b[0;34m\u001b[0m\u001b[0;34m\u001b[0m\u001b[0m\n\u001b[0;32m--> 779\u001b[0;31m             \u001b[0mjob\u001b[0m \u001b[0;34m=\u001b[0m \u001b[0mself\u001b[0m\u001b[0;34m.\u001b[0m\u001b[0m_backend\u001b[0m\u001b[0;34m.\u001b[0m\u001b[0mapply_async\u001b[0m\u001b[0;34m(\u001b[0m\u001b[0mbatch\u001b[0m\u001b[0;34m,\u001b[0m \u001b[0mcallback\u001b[0m\u001b[0;34m=\u001b[0m\u001b[0mcb\u001b[0m\u001b[0;34m)\u001b[0m\u001b[0;34m\u001b[0m\u001b[0;34m\u001b[0m\u001b[0m\n\u001b[0m\u001b[1;32m    780\u001b[0m             \u001b[0;31m# A job can complete so quickly than its callback is\u001b[0m\u001b[0;34m\u001b[0m\u001b[0;34m\u001b[0m\u001b[0;34m\u001b[0m\u001b[0m\n\u001b[1;32m    781\u001b[0m             \u001b[0;31m# called before we get here, causing self._jobs to\u001b[0m\u001b[0;34m\u001b[0m\u001b[0;34m\u001b[0m\u001b[0;34m\u001b[0m\u001b[0m\n",
      "\u001b[0;32m/opt/conda/lib/python3.7/site-packages/joblib/_parallel_backends.py\u001b[0m in \u001b[0;36mapply_async\u001b[0;34m(self, func, callback)\u001b[0m\n\u001b[1;32m    206\u001b[0m     \u001b[0;32mdef\u001b[0m \u001b[0mapply_async\u001b[0m\u001b[0;34m(\u001b[0m\u001b[0mself\u001b[0m\u001b[0;34m,\u001b[0m \u001b[0mfunc\u001b[0m\u001b[0;34m,\u001b[0m \u001b[0mcallback\u001b[0m\u001b[0;34m=\u001b[0m\u001b[0;32mNone\u001b[0m\u001b[0;34m)\u001b[0m\u001b[0;34m:\u001b[0m\u001b[0;34m\u001b[0m\u001b[0;34m\u001b[0m\u001b[0m\n\u001b[1;32m    207\u001b[0m         \u001b[0;34m\"\"\"Schedule a func to be run\"\"\"\u001b[0m\u001b[0;34m\u001b[0m\u001b[0;34m\u001b[0m\u001b[0m\n\u001b[0;32m--> 208\u001b[0;31m         \u001b[0mresult\u001b[0m \u001b[0;34m=\u001b[0m \u001b[0mImmediateResult\u001b[0m\u001b[0;34m(\u001b[0m\u001b[0mfunc\u001b[0m\u001b[0;34m)\u001b[0m\u001b[0;34m\u001b[0m\u001b[0;34m\u001b[0m\u001b[0m\n\u001b[0m\u001b[1;32m    209\u001b[0m         \u001b[0;32mif\u001b[0m \u001b[0mcallback\u001b[0m\u001b[0;34m:\u001b[0m\u001b[0;34m\u001b[0m\u001b[0;34m\u001b[0m\u001b[0m\n\u001b[1;32m    210\u001b[0m             \u001b[0mcallback\u001b[0m\u001b[0;34m(\u001b[0m\u001b[0mresult\u001b[0m\u001b[0;34m)\u001b[0m\u001b[0;34m\u001b[0m\u001b[0;34m\u001b[0m\u001b[0m\n",
      "\u001b[0;32m/opt/conda/lib/python3.7/site-packages/joblib/_parallel_backends.py\u001b[0m in \u001b[0;36m__init__\u001b[0;34m(self, batch)\u001b[0m\n\u001b[1;32m    570\u001b[0m         \u001b[0;31m# Don't delay the application, to avoid keeping the input\u001b[0m\u001b[0;34m\u001b[0m\u001b[0;34m\u001b[0m\u001b[0;34m\u001b[0m\u001b[0m\n\u001b[1;32m    571\u001b[0m         \u001b[0;31m# arguments in memory\u001b[0m\u001b[0;34m\u001b[0m\u001b[0;34m\u001b[0m\u001b[0;34m\u001b[0m\u001b[0m\n\u001b[0;32m--> 572\u001b[0;31m         \u001b[0mself\u001b[0m\u001b[0;34m.\u001b[0m\u001b[0mresults\u001b[0m \u001b[0;34m=\u001b[0m \u001b[0mbatch\u001b[0m\u001b[0;34m(\u001b[0m\u001b[0;34m)\u001b[0m\u001b[0;34m\u001b[0m\u001b[0;34m\u001b[0m\u001b[0m\n\u001b[0m\u001b[1;32m    573\u001b[0m \u001b[0;34m\u001b[0m\u001b[0m\n\u001b[1;32m    574\u001b[0m     \u001b[0;32mdef\u001b[0m \u001b[0mget\u001b[0m\u001b[0;34m(\u001b[0m\u001b[0mself\u001b[0m\u001b[0;34m)\u001b[0m\u001b[0;34m:\u001b[0m\u001b[0;34m\u001b[0m\u001b[0;34m\u001b[0m\u001b[0m\n",
      "\u001b[0;32m/opt/conda/lib/python3.7/site-packages/joblib/parallel.py\u001b[0m in \u001b[0;36m__call__\u001b[0;34m(self)\u001b[0m\n\u001b[1;32m    261\u001b[0m         \u001b[0;32mwith\u001b[0m \u001b[0mparallel_backend\u001b[0m\u001b[0;34m(\u001b[0m\u001b[0mself\u001b[0m\u001b[0;34m.\u001b[0m\u001b[0m_backend\u001b[0m\u001b[0;34m,\u001b[0m \u001b[0mn_jobs\u001b[0m\u001b[0;34m=\u001b[0m\u001b[0mself\u001b[0m\u001b[0;34m.\u001b[0m\u001b[0m_n_jobs\u001b[0m\u001b[0;34m)\u001b[0m\u001b[0;34m:\u001b[0m\u001b[0;34m\u001b[0m\u001b[0;34m\u001b[0m\u001b[0m\n\u001b[1;32m    262\u001b[0m             return [func(*args, **kwargs)\n\u001b[0;32m--> 263\u001b[0;31m                     for func, args, kwargs in self.items]\n\u001b[0m\u001b[1;32m    264\u001b[0m \u001b[0;34m\u001b[0m\u001b[0m\n\u001b[1;32m    265\u001b[0m     \u001b[0;32mdef\u001b[0m \u001b[0m__reduce__\u001b[0m\u001b[0;34m(\u001b[0m\u001b[0mself\u001b[0m\u001b[0;34m)\u001b[0m\u001b[0;34m:\u001b[0m\u001b[0;34m\u001b[0m\u001b[0;34m\u001b[0m\u001b[0m\n",
      "\u001b[0;32m/opt/conda/lib/python3.7/site-packages/joblib/parallel.py\u001b[0m in \u001b[0;36m<listcomp>\u001b[0;34m(.0)\u001b[0m\n\u001b[1;32m    261\u001b[0m         \u001b[0;32mwith\u001b[0m \u001b[0mparallel_backend\u001b[0m\u001b[0;34m(\u001b[0m\u001b[0mself\u001b[0m\u001b[0;34m.\u001b[0m\u001b[0m_backend\u001b[0m\u001b[0;34m,\u001b[0m \u001b[0mn_jobs\u001b[0m\u001b[0;34m=\u001b[0m\u001b[0mself\u001b[0m\u001b[0;34m.\u001b[0m\u001b[0m_n_jobs\u001b[0m\u001b[0;34m)\u001b[0m\u001b[0;34m:\u001b[0m\u001b[0;34m\u001b[0m\u001b[0;34m\u001b[0m\u001b[0m\n\u001b[1;32m    262\u001b[0m             return [func(*args, **kwargs)\n\u001b[0;32m--> 263\u001b[0;31m                     for func, args, kwargs in self.items]\n\u001b[0m\u001b[1;32m    264\u001b[0m \u001b[0;34m\u001b[0m\u001b[0m\n\u001b[1;32m    265\u001b[0m     \u001b[0;32mdef\u001b[0m \u001b[0m__reduce__\u001b[0m\u001b[0;34m(\u001b[0m\u001b[0mself\u001b[0m\u001b[0;34m)\u001b[0m\u001b[0;34m:\u001b[0m\u001b[0;34m\u001b[0m\u001b[0;34m\u001b[0m\u001b[0m\n",
      "\u001b[0;32m/opt/conda/lib/python3.7/site-packages/sklearn/utils/fixes.py\u001b[0m in \u001b[0;36m__call__\u001b[0;34m(self, *args, **kwargs)\u001b[0m\n\u001b[1;32m    214\u001b[0m     \u001b[0;32mdef\u001b[0m \u001b[0m__call__\u001b[0m\u001b[0;34m(\u001b[0m\u001b[0mself\u001b[0m\u001b[0;34m,\u001b[0m \u001b[0;34m*\u001b[0m\u001b[0margs\u001b[0m\u001b[0;34m,\u001b[0m \u001b[0;34m**\u001b[0m\u001b[0mkwargs\u001b[0m\u001b[0;34m)\u001b[0m\u001b[0;34m:\u001b[0m\u001b[0;34m\u001b[0m\u001b[0;34m\u001b[0m\u001b[0m\n\u001b[1;32m    215\u001b[0m         \u001b[0;32mwith\u001b[0m \u001b[0mconfig_context\u001b[0m\u001b[0;34m(\u001b[0m\u001b[0;34m**\u001b[0m\u001b[0mself\u001b[0m\u001b[0;34m.\u001b[0m\u001b[0mconfig\u001b[0m\u001b[0;34m)\u001b[0m\u001b[0;34m:\u001b[0m\u001b[0;34m\u001b[0m\u001b[0;34m\u001b[0m\u001b[0m\n\u001b[0;32m--> 216\u001b[0;31m             \u001b[0;32mreturn\u001b[0m \u001b[0mself\u001b[0m\u001b[0;34m.\u001b[0m\u001b[0mfunction\u001b[0m\u001b[0;34m(\u001b[0m\u001b[0;34m*\u001b[0m\u001b[0margs\u001b[0m\u001b[0;34m,\u001b[0m \u001b[0;34m**\u001b[0m\u001b[0mkwargs\u001b[0m\u001b[0;34m)\u001b[0m\u001b[0;34m\u001b[0m\u001b[0;34m\u001b[0m\u001b[0m\n\u001b[0m\u001b[1;32m    217\u001b[0m \u001b[0;34m\u001b[0m\u001b[0m\n\u001b[1;32m    218\u001b[0m \u001b[0;34m\u001b[0m\u001b[0m\n",
      "\u001b[0;32m/opt/conda/lib/python3.7/site-packages/sklearn/model_selection/_validation.py\u001b[0m in \u001b[0;36m_fit_and_score\u001b[0;34m(estimator, X, y, scorer, train, test, verbose, parameters, fit_params, return_train_score, return_parameters, return_n_test_samples, return_times, return_estimator, split_progress, candidate_progress, error_score)\u001b[0m\n\u001b[1;32m    678\u001b[0m             \u001b[0mestimator\u001b[0m\u001b[0;34m.\u001b[0m\u001b[0mfit\u001b[0m\u001b[0;34m(\u001b[0m\u001b[0mX_train\u001b[0m\u001b[0;34m,\u001b[0m \u001b[0;34m**\u001b[0m\u001b[0mfit_params\u001b[0m\u001b[0;34m)\u001b[0m\u001b[0;34m\u001b[0m\u001b[0;34m\u001b[0m\u001b[0m\n\u001b[1;32m    679\u001b[0m         \u001b[0;32melse\u001b[0m\u001b[0;34m:\u001b[0m\u001b[0;34m\u001b[0m\u001b[0;34m\u001b[0m\u001b[0m\n\u001b[0;32m--> 680\u001b[0;31m             \u001b[0mestimator\u001b[0m\u001b[0;34m.\u001b[0m\u001b[0mfit\u001b[0m\u001b[0;34m(\u001b[0m\u001b[0mX_train\u001b[0m\u001b[0;34m,\u001b[0m \u001b[0my_train\u001b[0m\u001b[0;34m,\u001b[0m \u001b[0;34m**\u001b[0m\u001b[0mfit_params\u001b[0m\u001b[0;34m)\u001b[0m\u001b[0;34m\u001b[0m\u001b[0;34m\u001b[0m\u001b[0m\n\u001b[0m\u001b[1;32m    681\u001b[0m \u001b[0;34m\u001b[0m\u001b[0m\n\u001b[1;32m    682\u001b[0m     \u001b[0;32mexcept\u001b[0m \u001b[0mException\u001b[0m\u001b[0;34m:\u001b[0m\u001b[0;34m\u001b[0m\u001b[0;34m\u001b[0m\u001b[0m\n",
      "\u001b[0;32m/opt/conda/lib/python3.7/site-packages/imblearn/pipeline.py\u001b[0m in \u001b[0;36mfit\u001b[0;34m(self, X, y, **fit_params)\u001b[0m\n\u001b[1;32m    266\u001b[0m         \"\"\"\n\u001b[1;32m    267\u001b[0m         \u001b[0mfit_params_steps\u001b[0m \u001b[0;34m=\u001b[0m \u001b[0mself\u001b[0m\u001b[0;34m.\u001b[0m\u001b[0m_check_fit_params\u001b[0m\u001b[0;34m(\u001b[0m\u001b[0;34m**\u001b[0m\u001b[0mfit_params\u001b[0m\u001b[0;34m)\u001b[0m\u001b[0;34m\u001b[0m\u001b[0;34m\u001b[0m\u001b[0m\n\u001b[0;32m--> 268\u001b[0;31m         \u001b[0mXt\u001b[0m\u001b[0;34m,\u001b[0m \u001b[0myt\u001b[0m \u001b[0;34m=\u001b[0m \u001b[0mself\u001b[0m\u001b[0;34m.\u001b[0m\u001b[0m_fit\u001b[0m\u001b[0;34m(\u001b[0m\u001b[0mX\u001b[0m\u001b[0;34m,\u001b[0m \u001b[0my\u001b[0m\u001b[0;34m,\u001b[0m \u001b[0;34m**\u001b[0m\u001b[0mfit_params_steps\u001b[0m\u001b[0;34m)\u001b[0m\u001b[0;34m\u001b[0m\u001b[0;34m\u001b[0m\u001b[0m\n\u001b[0m\u001b[1;32m    269\u001b[0m         \u001b[0;32mwith\u001b[0m \u001b[0m_print_elapsed_time\u001b[0m\u001b[0;34m(\u001b[0m\u001b[0;34m\"Pipeline\"\u001b[0m\u001b[0;34m,\u001b[0m \u001b[0mself\u001b[0m\u001b[0;34m.\u001b[0m\u001b[0m_log_message\u001b[0m\u001b[0;34m(\u001b[0m\u001b[0mlen\u001b[0m\u001b[0;34m(\u001b[0m\u001b[0mself\u001b[0m\u001b[0;34m.\u001b[0m\u001b[0msteps\u001b[0m\u001b[0;34m)\u001b[0m \u001b[0;34m-\u001b[0m \u001b[0;36m1\u001b[0m\u001b[0;34m)\u001b[0m\u001b[0;34m)\u001b[0m\u001b[0;34m:\u001b[0m\u001b[0;34m\u001b[0m\u001b[0;34m\u001b[0m\u001b[0m\n\u001b[1;32m    270\u001b[0m             \u001b[0;32mif\u001b[0m \u001b[0mself\u001b[0m\u001b[0;34m.\u001b[0m\u001b[0m_final_estimator\u001b[0m \u001b[0;34m!=\u001b[0m \u001b[0;34m\"passthrough\"\u001b[0m\u001b[0;34m:\u001b[0m\u001b[0;34m\u001b[0m\u001b[0;34m\u001b[0m\u001b[0m\n",
      "\u001b[0;32m/opt/conda/lib/python3.7/site-packages/imblearn/pipeline.py\u001b[0m in \u001b[0;36m_fit\u001b[0;34m(self, X, y, **fit_params_steps)\u001b[0m\n\u001b[1;32m    221\u001b[0m                     \u001b[0mmessage_clsname\u001b[0m\u001b[0;34m=\u001b[0m\u001b[0;34m\"Pipeline\"\u001b[0m\u001b[0;34m,\u001b[0m\u001b[0;34m\u001b[0m\u001b[0;34m\u001b[0m\u001b[0m\n\u001b[1;32m    222\u001b[0m                     \u001b[0mmessage\u001b[0m\u001b[0;34m=\u001b[0m\u001b[0mself\u001b[0m\u001b[0;34m.\u001b[0m\u001b[0m_log_message\u001b[0m\u001b[0;34m(\u001b[0m\u001b[0mstep_idx\u001b[0m\u001b[0;34m)\u001b[0m\u001b[0;34m,\u001b[0m\u001b[0;34m\u001b[0m\u001b[0;34m\u001b[0m\u001b[0m\n\u001b[0;32m--> 223\u001b[0;31m                     \u001b[0;34m**\u001b[0m\u001b[0mfit_params_steps\u001b[0m\u001b[0;34m[\u001b[0m\u001b[0mname\u001b[0m\u001b[0;34m]\u001b[0m\u001b[0;34m,\u001b[0m\u001b[0;34m\u001b[0m\u001b[0;34m\u001b[0m\u001b[0m\n\u001b[0m\u001b[1;32m    224\u001b[0m                 )\n\u001b[1;32m    225\u001b[0m             \u001b[0;32melif\u001b[0m \u001b[0mhasattr\u001b[0m\u001b[0;34m(\u001b[0m\u001b[0mcloned_transformer\u001b[0m\u001b[0;34m,\u001b[0m \u001b[0;34m\"fit_resample\"\u001b[0m\u001b[0;34m)\u001b[0m\u001b[0;34m:\u001b[0m\u001b[0;34m\u001b[0m\u001b[0;34m\u001b[0m\u001b[0m\n",
      "\u001b[0;32m/opt/conda/lib/python3.7/site-packages/joblib/memory.py\u001b[0m in \u001b[0;36m__call__\u001b[0;34m(self, *args, **kwargs)\u001b[0m\n\u001b[1;32m    347\u001b[0m \u001b[0;34m\u001b[0m\u001b[0m\n\u001b[1;32m    348\u001b[0m     \u001b[0;32mdef\u001b[0m \u001b[0m__call__\u001b[0m\u001b[0;34m(\u001b[0m\u001b[0mself\u001b[0m\u001b[0;34m,\u001b[0m \u001b[0;34m*\u001b[0m\u001b[0margs\u001b[0m\u001b[0;34m,\u001b[0m \u001b[0;34m**\u001b[0m\u001b[0mkwargs\u001b[0m\u001b[0;34m)\u001b[0m\u001b[0;34m:\u001b[0m\u001b[0;34m\u001b[0m\u001b[0;34m\u001b[0m\u001b[0m\n\u001b[0;32m--> 349\u001b[0;31m         \u001b[0;32mreturn\u001b[0m \u001b[0mself\u001b[0m\u001b[0;34m.\u001b[0m\u001b[0mfunc\u001b[0m\u001b[0;34m(\u001b[0m\u001b[0;34m*\u001b[0m\u001b[0margs\u001b[0m\u001b[0;34m,\u001b[0m \u001b[0;34m**\u001b[0m\u001b[0mkwargs\u001b[0m\u001b[0;34m)\u001b[0m\u001b[0;34m\u001b[0m\u001b[0;34m\u001b[0m\u001b[0m\n\u001b[0m\u001b[1;32m    350\u001b[0m \u001b[0;34m\u001b[0m\u001b[0m\n\u001b[1;32m    351\u001b[0m     \u001b[0;32mdef\u001b[0m \u001b[0mcall_and_shelve\u001b[0m\u001b[0;34m(\u001b[0m\u001b[0mself\u001b[0m\u001b[0;34m,\u001b[0m \u001b[0;34m*\u001b[0m\u001b[0margs\u001b[0m\u001b[0;34m,\u001b[0m \u001b[0;34m**\u001b[0m\u001b[0mkwargs\u001b[0m\u001b[0;34m)\u001b[0m\u001b[0;34m:\u001b[0m\u001b[0;34m\u001b[0m\u001b[0;34m\u001b[0m\u001b[0m\n",
      "\u001b[0;32m/opt/conda/lib/python3.7/site-packages/sklearn/pipeline.py\u001b[0m in \u001b[0;36m_fit_transform_one\u001b[0;34m(transformer, X, y, weight, message_clsname, message, **fit_params)\u001b[0m\n\u001b[1;32m    891\u001b[0m     \u001b[0;32mwith\u001b[0m \u001b[0m_print_elapsed_time\u001b[0m\u001b[0;34m(\u001b[0m\u001b[0mmessage_clsname\u001b[0m\u001b[0;34m,\u001b[0m \u001b[0mmessage\u001b[0m\u001b[0;34m)\u001b[0m\u001b[0;34m:\u001b[0m\u001b[0;34m\u001b[0m\u001b[0;34m\u001b[0m\u001b[0m\n\u001b[1;32m    892\u001b[0m         \u001b[0;32mif\u001b[0m \u001b[0mhasattr\u001b[0m\u001b[0;34m(\u001b[0m\u001b[0mtransformer\u001b[0m\u001b[0;34m,\u001b[0m \u001b[0;34m\"fit_transform\"\u001b[0m\u001b[0;34m)\u001b[0m\u001b[0;34m:\u001b[0m\u001b[0;34m\u001b[0m\u001b[0;34m\u001b[0m\u001b[0m\n\u001b[0;32m--> 893\u001b[0;31m             \u001b[0mres\u001b[0m \u001b[0;34m=\u001b[0m \u001b[0mtransformer\u001b[0m\u001b[0;34m.\u001b[0m\u001b[0mfit_transform\u001b[0m\u001b[0;34m(\u001b[0m\u001b[0mX\u001b[0m\u001b[0;34m,\u001b[0m \u001b[0my\u001b[0m\u001b[0;34m,\u001b[0m \u001b[0;34m**\u001b[0m\u001b[0mfit_params\u001b[0m\u001b[0;34m)\u001b[0m\u001b[0;34m\u001b[0m\u001b[0;34m\u001b[0m\u001b[0m\n\u001b[0m\u001b[1;32m    894\u001b[0m         \u001b[0;32melse\u001b[0m\u001b[0;34m:\u001b[0m\u001b[0;34m\u001b[0m\u001b[0;34m\u001b[0m\u001b[0m\n\u001b[1;32m    895\u001b[0m             \u001b[0mres\u001b[0m \u001b[0;34m=\u001b[0m \u001b[0mtransformer\u001b[0m\u001b[0;34m.\u001b[0m\u001b[0mfit\u001b[0m\u001b[0;34m(\u001b[0m\u001b[0mX\u001b[0m\u001b[0;34m,\u001b[0m \u001b[0my\u001b[0m\u001b[0;34m,\u001b[0m \u001b[0;34m**\u001b[0m\u001b[0mfit_params\u001b[0m\u001b[0;34m)\u001b[0m\u001b[0;34m.\u001b[0m\u001b[0mtransform\u001b[0m\u001b[0;34m(\u001b[0m\u001b[0mX\u001b[0m\u001b[0;34m)\u001b[0m\u001b[0;34m\u001b[0m\u001b[0;34m\u001b[0m\u001b[0m\n",
      "\u001b[0;32m/opt/conda/lib/python3.7/site-packages/sklearn/base.py\u001b[0m in \u001b[0;36mfit_transform\u001b[0;34m(self, X, y, **fit_params)\u001b[0m\n\u001b[1;32m    853\u001b[0m         \u001b[0;32melse\u001b[0m\u001b[0;34m:\u001b[0m\u001b[0;34m\u001b[0m\u001b[0;34m\u001b[0m\u001b[0m\n\u001b[1;32m    854\u001b[0m             \u001b[0;31m# fit method of arity 2 (supervised transformation)\u001b[0m\u001b[0;34m\u001b[0m\u001b[0;34m\u001b[0m\u001b[0;34m\u001b[0m\u001b[0m\n\u001b[0;32m--> 855\u001b[0;31m             \u001b[0;32mreturn\u001b[0m \u001b[0mself\u001b[0m\u001b[0;34m.\u001b[0m\u001b[0mfit\u001b[0m\u001b[0;34m(\u001b[0m\u001b[0mX\u001b[0m\u001b[0;34m,\u001b[0m \u001b[0my\u001b[0m\u001b[0;34m,\u001b[0m \u001b[0;34m**\u001b[0m\u001b[0mfit_params\u001b[0m\u001b[0;34m)\u001b[0m\u001b[0;34m.\u001b[0m\u001b[0mtransform\u001b[0m\u001b[0;34m(\u001b[0m\u001b[0mX\u001b[0m\u001b[0;34m)\u001b[0m\u001b[0;34m\u001b[0m\u001b[0;34m\u001b[0m\u001b[0m\n\u001b[0m\u001b[1;32m    856\u001b[0m \u001b[0;34m\u001b[0m\u001b[0m\n\u001b[1;32m    857\u001b[0m \u001b[0;34m\u001b[0m\u001b[0m\n",
      "\u001b[0;32m/opt/conda/lib/python3.7/site-packages/sklearn/impute/_base.py\u001b[0m in \u001b[0;36mfit\u001b[0;34m(self, X, y)\u001b[0m\n\u001b[1;32m    357\u001b[0m         \u001b[0;32melse\u001b[0m\u001b[0;34m:\u001b[0m\u001b[0;34m\u001b[0m\u001b[0;34m\u001b[0m\u001b[0m\n\u001b[1;32m    358\u001b[0m             self.statistics_ = self._dense_fit(\n\u001b[0;32m--> 359\u001b[0;31m                 \u001b[0mX\u001b[0m\u001b[0;34m,\u001b[0m \u001b[0mself\u001b[0m\u001b[0;34m.\u001b[0m\u001b[0mstrategy\u001b[0m\u001b[0;34m,\u001b[0m \u001b[0mself\u001b[0m\u001b[0;34m.\u001b[0m\u001b[0mmissing_values\u001b[0m\u001b[0;34m,\u001b[0m \u001b[0mfill_value\u001b[0m\u001b[0;34m\u001b[0m\u001b[0;34m\u001b[0m\u001b[0m\n\u001b[0m\u001b[1;32m    360\u001b[0m             )\n\u001b[1;32m    361\u001b[0m \u001b[0;34m\u001b[0m\u001b[0m\n",
      "\u001b[0;32m/opt/conda/lib/python3.7/site-packages/sklearn/impute/_base.py\u001b[0m in \u001b[0;36m_dense_fit\u001b[0;34m(self, X, strategy, missing_values, fill_value)\u001b[0m\n\u001b[1;32m    417\u001b[0m         \u001b[0;31m# Median\u001b[0m\u001b[0;34m\u001b[0m\u001b[0;34m\u001b[0m\u001b[0;34m\u001b[0m\u001b[0m\n\u001b[1;32m    418\u001b[0m         \u001b[0;32melif\u001b[0m \u001b[0mstrategy\u001b[0m \u001b[0;34m==\u001b[0m \u001b[0;34m\"median\"\u001b[0m\u001b[0;34m:\u001b[0m\u001b[0;34m\u001b[0m\u001b[0;34m\u001b[0m\u001b[0m\n\u001b[0;32m--> 419\u001b[0;31m             \u001b[0mmedian_masked\u001b[0m \u001b[0;34m=\u001b[0m \u001b[0mnp\u001b[0m\u001b[0;34m.\u001b[0m\u001b[0mma\u001b[0m\u001b[0;34m.\u001b[0m\u001b[0mmedian\u001b[0m\u001b[0;34m(\u001b[0m\u001b[0mmasked_X\u001b[0m\u001b[0;34m,\u001b[0m \u001b[0maxis\u001b[0m\u001b[0;34m=\u001b[0m\u001b[0;36m0\u001b[0m\u001b[0;34m)\u001b[0m\u001b[0;34m\u001b[0m\u001b[0;34m\u001b[0m\u001b[0m\n\u001b[0m\u001b[1;32m    420\u001b[0m             \u001b[0;31m# Avoid the warning \"Warning: converting a masked element to nan.\"\u001b[0m\u001b[0;34m\u001b[0m\u001b[0;34m\u001b[0m\u001b[0;34m\u001b[0m\u001b[0m\n\u001b[1;32m    421\u001b[0m             \u001b[0mmedian\u001b[0m \u001b[0;34m=\u001b[0m \u001b[0mnp\u001b[0m\u001b[0;34m.\u001b[0m\u001b[0mma\u001b[0m\u001b[0;34m.\u001b[0m\u001b[0mgetdata\u001b[0m\u001b[0;34m(\u001b[0m\u001b[0mmedian_masked\u001b[0m\u001b[0;34m)\u001b[0m\u001b[0;34m\u001b[0m\u001b[0;34m\u001b[0m\u001b[0m\n",
      "\u001b[0;32m/opt/conda/lib/python3.7/site-packages/numpy/ma/extras.py\u001b[0m in \u001b[0;36mmedian\u001b[0;34m(a, axis, out, overwrite_input, keepdims)\u001b[0m\n\u001b[1;32m    713\u001b[0m \u001b[0;34m\u001b[0m\u001b[0m\n\u001b[1;32m    714\u001b[0m     r, k = _ureduce(a, func=_median, axis=axis, out=out,\n\u001b[0;32m--> 715\u001b[0;31m                     overwrite_input=overwrite_input)\n\u001b[0m\u001b[1;32m    716\u001b[0m     \u001b[0;32mif\u001b[0m \u001b[0mkeepdims\u001b[0m\u001b[0;34m:\u001b[0m\u001b[0;34m\u001b[0m\u001b[0;34m\u001b[0m\u001b[0m\n\u001b[1;32m    717\u001b[0m         \u001b[0;32mreturn\u001b[0m \u001b[0mr\u001b[0m\u001b[0;34m.\u001b[0m\u001b[0mreshape\u001b[0m\u001b[0;34m(\u001b[0m\u001b[0mk\u001b[0m\u001b[0;34m)\u001b[0m\u001b[0;34m\u001b[0m\u001b[0;34m\u001b[0m\u001b[0m\n",
      "\u001b[0;32m/opt/conda/lib/python3.7/site-packages/numpy/lib/function_base.py\u001b[0m in \u001b[0;36m_ureduce\u001b[0;34m(a, func, **kwargs)\u001b[0m\n\u001b[1;32m   3427\u001b[0m         \u001b[0mkeepdim\u001b[0m \u001b[0;34m=\u001b[0m \u001b[0;34m(\u001b[0m\u001b[0;36m1\u001b[0m\u001b[0;34m,\u001b[0m\u001b[0;34m)\u001b[0m \u001b[0;34m*\u001b[0m \u001b[0ma\u001b[0m\u001b[0;34m.\u001b[0m\u001b[0mndim\u001b[0m\u001b[0;34m\u001b[0m\u001b[0;34m\u001b[0m\u001b[0m\n\u001b[1;32m   3428\u001b[0m \u001b[0;34m\u001b[0m\u001b[0m\n\u001b[0;32m-> 3429\u001b[0;31m     \u001b[0mr\u001b[0m \u001b[0;34m=\u001b[0m \u001b[0mfunc\u001b[0m\u001b[0;34m(\u001b[0m\u001b[0ma\u001b[0m\u001b[0;34m,\u001b[0m \u001b[0;34m**\u001b[0m\u001b[0mkwargs\u001b[0m\u001b[0;34m)\u001b[0m\u001b[0;34m\u001b[0m\u001b[0;34m\u001b[0m\u001b[0m\n\u001b[0m\u001b[1;32m   3430\u001b[0m     \u001b[0;32mreturn\u001b[0m \u001b[0mr\u001b[0m\u001b[0;34m,\u001b[0m \u001b[0mkeepdim\u001b[0m\u001b[0;34m\u001b[0m\u001b[0;34m\u001b[0m\u001b[0m\n\u001b[1;32m   3431\u001b[0m \u001b[0;34m\u001b[0m\u001b[0m\n",
      "\u001b[0;32m/opt/conda/lib/python3.7/site-packages/numpy/ma/extras.py\u001b[0m in \u001b[0;36m_median\u001b[0;34m(a, axis, out, overwrite_input)\u001b[0m\n\u001b[1;32m    734\u001b[0m             \u001b[0masorted\u001b[0m \u001b[0;34m=\u001b[0m \u001b[0ma\u001b[0m\u001b[0;34m\u001b[0m\u001b[0;34m\u001b[0m\u001b[0m\n\u001b[1;32m    735\u001b[0m     \u001b[0;32melse\u001b[0m\u001b[0;34m:\u001b[0m\u001b[0;34m\u001b[0m\u001b[0;34m\u001b[0m\u001b[0m\n\u001b[0;32m--> 736\u001b[0;31m         \u001b[0masorted\u001b[0m \u001b[0;34m=\u001b[0m \u001b[0msort\u001b[0m\u001b[0;34m(\u001b[0m\u001b[0ma\u001b[0m\u001b[0;34m,\u001b[0m \u001b[0maxis\u001b[0m\u001b[0;34m=\u001b[0m\u001b[0maxis\u001b[0m\u001b[0;34m,\u001b[0m \u001b[0mfill_value\u001b[0m\u001b[0;34m=\u001b[0m\u001b[0mfill_value\u001b[0m\u001b[0;34m)\u001b[0m\u001b[0;34m\u001b[0m\u001b[0;34m\u001b[0m\u001b[0m\n\u001b[0m\u001b[1;32m    737\u001b[0m \u001b[0;34m\u001b[0m\u001b[0m\n\u001b[1;32m    738\u001b[0m     \u001b[0;32mif\u001b[0m \u001b[0maxis\u001b[0m \u001b[0;32mis\u001b[0m \u001b[0;32mNone\u001b[0m\u001b[0;34m:\u001b[0m\u001b[0;34m\u001b[0m\u001b[0;34m\u001b[0m\u001b[0m\n",
      "\u001b[0;32m/opt/conda/lib/python3.7/site-packages/numpy/ma/core.py\u001b[0m in \u001b[0;36msort\u001b[0;34m(a, axis, kind, order, endwith, fill_value)\u001b[0m\n\u001b[1;32m   6903\u001b[0m     \u001b[0;32mif\u001b[0m \u001b[0misinstance\u001b[0m\u001b[0;34m(\u001b[0m\u001b[0ma\u001b[0m\u001b[0;34m,\u001b[0m \u001b[0mMaskedArray\u001b[0m\u001b[0;34m)\u001b[0m\u001b[0;34m:\u001b[0m\u001b[0;34m\u001b[0m\u001b[0;34m\u001b[0m\u001b[0m\n\u001b[1;32m   6904\u001b[0m         a.sort(axis=axis, kind=kind, order=order,\n\u001b[0;32m-> 6905\u001b[0;31m                endwith=endwith, fill_value=fill_value)\n\u001b[0m\u001b[1;32m   6906\u001b[0m     \u001b[0;32melse\u001b[0m\u001b[0;34m:\u001b[0m\u001b[0;34m\u001b[0m\u001b[0;34m\u001b[0m\u001b[0m\n\u001b[1;32m   6907\u001b[0m         \u001b[0ma\u001b[0m\u001b[0;34m.\u001b[0m\u001b[0msort\u001b[0m\u001b[0;34m(\u001b[0m\u001b[0maxis\u001b[0m\u001b[0;34m=\u001b[0m\u001b[0maxis\u001b[0m\u001b[0;34m,\u001b[0m \u001b[0mkind\u001b[0m\u001b[0;34m=\u001b[0m\u001b[0mkind\u001b[0m\u001b[0;34m,\u001b[0m \u001b[0morder\u001b[0m\u001b[0;34m=\u001b[0m\u001b[0morder\u001b[0m\u001b[0;34m)\u001b[0m\u001b[0;34m\u001b[0m\u001b[0;34m\u001b[0m\u001b[0m\n",
      "\u001b[0;32m/opt/conda/lib/python3.7/site-packages/numpy/ma/core.py\u001b[0m in \u001b[0;36msort\u001b[0;34m(self, axis, kind, order, endwith, fill_value)\u001b[0m\n\u001b[1;32m   5654\u001b[0m \u001b[0;34m\u001b[0m\u001b[0m\n\u001b[1;32m   5655\u001b[0m         sidx = self.argsort(axis=axis, kind=kind, order=order,\n\u001b[0;32m-> 5656\u001b[0;31m                             fill_value=fill_value, endwith=endwith)\n\u001b[0m\u001b[1;32m   5657\u001b[0m \u001b[0;34m\u001b[0m\u001b[0m\n\u001b[1;32m   5658\u001b[0m         \u001b[0mself\u001b[0m\u001b[0;34m[\u001b[0m\u001b[0;34m...\u001b[0m\u001b[0;34m]\u001b[0m \u001b[0;34m=\u001b[0m \u001b[0mnp\u001b[0m\u001b[0;34m.\u001b[0m\u001b[0mtake_along_axis\u001b[0m\u001b[0;34m(\u001b[0m\u001b[0mself\u001b[0m\u001b[0;34m,\u001b[0m \u001b[0msidx\u001b[0m\u001b[0;34m,\u001b[0m \u001b[0maxis\u001b[0m\u001b[0;34m=\u001b[0m\u001b[0maxis\u001b[0m\u001b[0;34m)\u001b[0m\u001b[0;34m\u001b[0m\u001b[0;34m\u001b[0m\u001b[0m\n",
      "\u001b[0;32m/opt/conda/lib/python3.7/site-packages/numpy/ma/core.py\u001b[0m in \u001b[0;36margsort\u001b[0;34m(self, axis, kind, order, endwith, fill_value)\u001b[0m\n\u001b[1;32m   5491\u001b[0m \u001b[0;34m\u001b[0m\u001b[0m\n\u001b[1;32m   5492\u001b[0m         \u001b[0mfilled\u001b[0m \u001b[0;34m=\u001b[0m \u001b[0mself\u001b[0m\u001b[0;34m.\u001b[0m\u001b[0mfilled\u001b[0m\u001b[0;34m(\u001b[0m\u001b[0mfill_value\u001b[0m\u001b[0;34m)\u001b[0m\u001b[0;34m\u001b[0m\u001b[0;34m\u001b[0m\u001b[0m\n\u001b[0;32m-> 5493\u001b[0;31m         \u001b[0;32mreturn\u001b[0m \u001b[0mfilled\u001b[0m\u001b[0;34m.\u001b[0m\u001b[0margsort\u001b[0m\u001b[0;34m(\u001b[0m\u001b[0maxis\u001b[0m\u001b[0;34m=\u001b[0m\u001b[0maxis\u001b[0m\u001b[0;34m,\u001b[0m \u001b[0mkind\u001b[0m\u001b[0;34m=\u001b[0m\u001b[0mkind\u001b[0m\u001b[0;34m,\u001b[0m \u001b[0morder\u001b[0m\u001b[0;34m=\u001b[0m\u001b[0morder\u001b[0m\u001b[0;34m)\u001b[0m\u001b[0;34m\u001b[0m\u001b[0;34m\u001b[0m\u001b[0m\n\u001b[0m\u001b[1;32m   5494\u001b[0m \u001b[0;34m\u001b[0m\u001b[0m\n\u001b[1;32m   5495\u001b[0m     \u001b[0;32mdef\u001b[0m \u001b[0margmin\u001b[0m\u001b[0;34m(\u001b[0m\u001b[0mself\u001b[0m\u001b[0;34m,\u001b[0m \u001b[0maxis\u001b[0m\u001b[0;34m=\u001b[0m\u001b[0;32mNone\u001b[0m\u001b[0;34m,\u001b[0m \u001b[0mfill_value\u001b[0m\u001b[0;34m=\u001b[0m\u001b[0;32mNone\u001b[0m\u001b[0;34m,\u001b[0m \u001b[0mout\u001b[0m\u001b[0;34m=\u001b[0m\u001b[0;32mNone\u001b[0m\u001b[0;34m)\u001b[0m\u001b[0;34m:\u001b[0m\u001b[0;34m\u001b[0m\u001b[0;34m\u001b[0m\u001b[0m\n",
      "\u001b[0;31mKeyboardInterrupt\u001b[0m: "
     ]
    }
   ],
   "source": [
    "# Data\n",
    "y = df['deliveredlate']\n",
    "X = df[features].reset_index(drop=True)\n",
    "cat_fields=['quantile_order_to_delivery_stated','whname']\n",
    "#Encoder\n",
    "enc = OneHotEncoder(categories=\"auto\", handle_unknown=\"error\", drop='first', sparse=False)\n",
    "X_ohe = pd.DataFrame(enc.fit_transform(X[cat_fields]), columns=enc.get_feature_names_out()).reset_index(drop=True)\n",
    "X = pd.concat([X.drop(columns=cat_fields, axis=1), X_ohe], axis=1)\n",
    "\n",
    "# Defining the Pipeline for RF\n",
    "model_rf = PipelineImb([\n",
    "                     ('Imputer', SimpleImputer(missing_values=np.nan, strategy=\"median\")), \n",
    "                     ('RF', RandomForestClassifier(n_jobs=-1, oob_score = True, random_state=42))\n",
    "\n",
    "                        ])\n",
    "\n",
    "# Defining the grid\n",
    "param_grid_rf ={\n",
    "\n",
    "                    'RF__max_features': [10, 20, 'auto'],\n",
    "                     'RF__min_samples_split': [5, 10],\n",
    "                     'RF__max_depth': [20,30],\n",
    "                     'RF__max_samples': [0.5, 0.8, None]\n",
    "\n",
    "                }\n",
    "\n",
    "# Searching best hyper-parametrization\n",
    "CV_rf = GridSearchCV(model_rf, param_grid=param_grid_rf, cv=5, scoring='roc_auc', verbose=4)\n",
    "res_rf = CV_rf.fit(X, y)\n",
    "\n",
    "\n",
    "# --------------------------------------------------------------------------------------------------------------------------\n",
    "\n",
    "# Defining the Pipeline for LgR\n",
    "model_lgr = PipelineImb([\n",
    "\n",
    "                     ('Imputer', SimpleImputer(missing_values=np.nan, strategy=\"median\")), \n",
    "                     ('LgR', LogisticRegression(n_jobs=-1, max_iter = 1000, random_state=42))\n",
    "\n",
    "                    ])\n",
    "\n",
    "# Defining the grid\n",
    "param_grid_lgr = {\n",
    "\n",
    "                    'LgR__solver': ['newton-cg', 'lbfgs']\n",
    "\n",
    "                 }\n",
    "\n",
    "# Searching best hyper-parametrization\n",
    "CV_lgr = GridSearchCV(model_lgr, param_grid=param_grid_lgr, cv=5, scoring='roc_auc', verbose=4)\n",
    "res_lgr = CV_lgr.fit(X, y)"
   ]
  },
  {
   "cell_type": "markdown",
   "id": "ee099923-ff30-40e3-8d7b-2ab7f5c84d74",
   "metadata": {},
   "source": [
    "### Finding best score and hyperparameters for both Random Forest and Logistic Regression"
   ]
  },
  {
   "cell_type": "code",
   "execution_count": 154,
   "id": "1829abbb-e99e-4972-9cc1-04f4e0325c5c",
   "metadata": {},
   "outputs": [
    {
     "name": "stdout",
     "output_type": "stream",
     "text": [
      "The best Score for Random Forest is: 0.7932870771761897\n",
      "The best Score for Logistic Regression is: 0.7787438821022444\n"
     ]
    }
   ],
   "source": [
    "print(f'The best Score for Random Forest is: {res_rf.best_score_}')\n",
    "print(f'The best Score for Logistic Regression is: {res_lgr.best_score_}')"
   ]
  },
  {
   "cell_type": "code",
   "execution_count": 155,
   "id": "f198a477-9e37-465f-bd28-2f589967063b",
   "metadata": {},
   "outputs": [
    {
     "name": "stdout",
     "output_type": "stream",
     "text": [
      "The best RF hyper-parametrization is: {'RF__max_depth': 20, 'RF__max_features': 'auto', 'RF__max_samples': 0.5, 'RF__min_samples_split': 10}\n",
      "The best LgR hyper-parametrization is: {'LgR__solver': 'newton-cg'}\n"
     ]
    }
   ],
   "source": [
    "print(f'The best RF hyper-parametrization is: {res_rf.best_params_}')\n",
    "print(f'The best LgR hyper-parametrization is: {res_lgr.best_params_}')"
   ]
  },
  {
   "cell_type": "markdown",
   "id": "0f88e37e-356d-4ad6-8406-73cfe008ebe5",
   "metadata": {},
   "source": [
    "### Using best parameters for our model"
   ]
  },
  {
   "cell_type": "code",
   "execution_count": 156,
   "id": "61c8f402-c9f2-4169-bc37-196c2e38a5d3",
   "metadata": {
    "tags": []
   },
   "outputs": [],
   "source": [
    "# Data\n",
    "y = df['deliveredlate']\n",
    "X = df[features].reset_index(drop=True)\n",
    "cat_fields=['quantile_order_to_delivery_stated','whname']\n",
    "\n",
    "#Encoder\n",
    "enc = OneHotEncoder(categories=\"auto\", handle_unknown=\"error\", drop='first', sparse=False)\n",
    "X_ohe = pd.DataFrame(enc.fit_transform(X[cat_fields]), columns=enc.get_feature_names_out()).reset_index(drop=True)\n",
    "X = pd.concat([X.drop(columns=cat_fields, axis=1), X_ohe], axis=1)\n",
    "\n",
    "\n",
    "x_train, x_test, y_train, y_test = train_test_split(X, y, train_size=0.8, random_state=42)\n",
    "\n",
    "#res_rf.fit(x_train, y_train)\n",
    "#RandomForestClassifier(bootstrap=True, class_weight=None,max_depth=20, max_features='auto', max_samples=0.5, min_samples_split=10)\n",
    "y_pred = res_rf.predict(x_test)\n"
   ]
  },
  {
   "cell_type": "markdown",
   "id": "d63df152-47bb-46dd-bd37-e7ef283cdd9c",
   "metadata": {
    "tags": []
   },
   "source": [
    "### Getting summary of model precision, recall and f1-score"
   ]
  },
  {
   "cell_type": "code",
   "execution_count": 159,
   "id": "8ce9f74a-16d6-459b-bf79-8a9ce91a70a3",
   "metadata": {},
   "outputs": [],
   "source": [
    "# save model object as pickle\n",
    "pickle.dump(res_rf, open(f\"randomforest_lp_delivered_late.pkl\", 'wb'))"
   ]
  },
  {
   "cell_type": "code",
   "execution_count": 160,
   "id": "ebb387eb-d3d6-41c5-99b4-d92bc009684c",
   "metadata": {},
   "outputs": [],
   "source": [
    "\n",
    "#upload pickle to GCS directly from VM\n",
    "#NOTE: Downloading to local machine and manually uploading in GCS causes error in unpickling\n",
    "from google.cloud import storage\n",
    "\n",
    "client = storage.Client()\n",
    "bucket = client.get_bucket('wf-ae-analytics-prod')\n",
    "blob = bucket.blob('analytics_tech/delivered_late_model/randomforest_lp_delivered_late.pkl')\n",
    "blob.upload_from_filename(\"randomforest_lp_delivered_late.pkl\")"
   ]
  },
  {
   "cell_type": "code",
   "execution_count": 161,
   "id": "e88f2eeb-f767-4453-8748-d7e4d2c35a8f",
   "metadata": {},
   "outputs": [
    {
     "name": "stdout",
     "output_type": "stream",
     "text": [
      "              precision    recall  f1-score   support\n",
      "\n",
      "         0.0       0.67      0.48      0.56     24484\n",
      "         1.0       0.80      0.90      0.85     57504\n",
      "\n",
      "    accuracy                           0.77     81988\n",
      "   macro avg       0.74      0.69      0.70     81988\n",
      "weighted avg       0.76      0.77      0.76     81988\n",
      "\n"
     ]
    }
   ],
   "source": [
    "from sklearn.metrics import classification_report\n",
    "y_hat=res_rf.predict(x_test)\n",
    "print(classification_report(y_test, y_hat))"
   ]
  },
  {
   "cell_type": "markdown",
   "id": "f77041f2-5cd9-4eca-ab01-417e86fe6295",
   "metadata": {},
   "source": [
    "### Finding true positive and false positive rate, ranking feature importance and plotting sample tree"
   ]
  },
  {
   "cell_type": "code",
   "execution_count": 158,
   "id": "6c304de4-61f3-4084-b64b-8051d05d6179",
   "metadata": {},
   "outputs": [
    {
     "data": {
      "image/png": "[encoded data removed]",
      "text/plain": [
       "<Figure size 432x288 with 1 Axes>"
      ]
     },
     "metadata": {},
     "output_type": "display_data"
    }
   ],
   "source": [
    "from sklearn.metrics import roc_curve, auc\n",
    "test_results=[]\n",
    "y_pred_proba = res_rf.predict_proba(x_test)[::,1]\n",
    "false_positive_rate, true_positive_rate, thresholds = roc_curve(y_test,y_pred_proba)\n",
    "roc_auc = auc(false_positive_rate, true_positive_rate)\n",
    "test_results.append(roc_auc)\n",
    "plt.plot(false_positive_rate,true_positive_rate,label=\"data 1, auc=\"+str(roc_auc))\n",
    "plt.legend(loc=4)\n",
    "plt.show()"
   ]
  },
  {
   "cell_type": "code",
   "execution_count": 148,
   "id": "de70a047-5351-42e6-9442-f4d15b2a91e4",
   "metadata": {},
   "outputs": [
    {
     "data": {
      "image/png": "[encoded data removed]",
      "text/plain": [
       "<Figure size 360x360 with 1 Axes>"
      ]
     },
     "metadata": {},
     "output_type": "display_data"
    }
   ],
   "source": [
    "from plot_metric.functions import BinaryClassification\n",
    "# Visualisation with plot_metric\n",
    "bc = BinaryClassification(y_test, y_pred_proba, labels=[\"Class 1\", \"Class 2\"])\n",
    "\n",
    "# Figures\n",
    "plt.figure(figsize=(5,5))\n",
    "bc.plot_roc_curve()\n",
    "plt.show()"
   ]
  },
  {
   "cell_type": "code",
   "execution_count": 149,
   "id": "0b85fafe-0864-4ef9-bafa-3129f445b9ba",
   "metadata": {},
   "outputs": [
    {
     "data": {
      "text/plain": [
       "array(['volume_last_48h', 'quantile_order_to_delivery_stated_2',\n",
       "       'quantile_order_to_delivery_stated_3',\n",
       "       'quantile_order_to_delivery_stated_4',\n",
       "       'quantile_order_to_delivery_stated_5', 'whname_Cranbury',\n",
       "       'whname_Cranbury2', 'whname_CranburyLargeParcel',\n",
       "       'whname_Erlanger', 'whname_Florence', 'whname_Hebron',\n",
       "       'whname_Jacksonville', 'whname_Lancaster', 'whname_Lathrop',\n",
       "       'whname_McDonough', 'whname_Mississauga', 'whname_PerrisCA',\n",
       "       'whname_PerrisSmallParcel', 'whname_PortWentworth'], dtype=object)"
      ]
     },
     "execution_count": 149,
     "metadata": {},
     "output_type": "execute_result"
    }
   ],
   "source": [
    "res_rf.feature_names_in_"
   ]
  },
  {
   "cell_type": "code",
   "execution_count": 141,
   "id": "90a2626c-10ac-4f3c-aeb2-3f4fb76ef9b2",
   "metadata": {},
   "outputs": [
    {
     "ename": "AttributeError",
     "evalue": "'Pipeline' object has no attribute 'feature_importances_'",
     "output_type": "error",
     "traceback": [
      "\u001b[0;31m---------------------------------------------------------------------------\u001b[0m",
      "\u001b[0;31mAttributeError\u001b[0m                            Traceback (most recent call last)",
      "\u001b[0;32m/tmp/ipykernel_5081/4031838121.py\u001b[0m in \u001b[0;36m<module>\u001b[0;34m\u001b[0m\n\u001b[0;32m----> 1\u001b[0;31m \u001b[0mimportance\u001b[0m\u001b[0;34m=\u001b[0m\u001b[0mres_rf\u001b[0m\u001b[0;34m.\u001b[0m\u001b[0mbest_estimator_\u001b[0m\u001b[0;34m.\u001b[0m\u001b[0mfeature_importances_\u001b[0m\u001b[0;34m\u001b[0m\u001b[0;34m\u001b[0m\u001b[0m\n\u001b[0m\u001b[1;32m      2\u001b[0m \u001b[0msorted_idx\u001b[0m \u001b[0;34m=\u001b[0m \u001b[0mres_rf\u001b[0m\u001b[0;34m.\u001b[0m\u001b[0mbest_estimator_\u001b[0m\u001b[0;34m.\u001b[0m\u001b[0mfeature_importances_\u001b[0m\u001b[0;34m.\u001b[0m\u001b[0margsort\u001b[0m\u001b[0;34m(\u001b[0m\u001b[0;34m)\u001b[0m\u001b[0;34m\u001b[0m\u001b[0;34m\u001b[0m\u001b[0m\n\u001b[1;32m      3\u001b[0m \u001b[0mplt\u001b[0m\u001b[0;34m.\u001b[0m\u001b[0mbarh\u001b[0m\u001b[0;34m(\u001b[0m\u001b[0mres_rf\u001b[0m\u001b[0;34m.\u001b[0m\u001b[0mfeature_names_in_\u001b[0m\u001b[0;34m[\u001b[0m\u001b[0msorted_idx\u001b[0m\u001b[0;34m]\u001b[0m\u001b[0;34m,\u001b[0m \u001b[0mres_rf\u001b[0m\u001b[0;34m.\u001b[0m\u001b[0mbest_estimator_\u001b[0m\u001b[0;34m.\u001b[0m\u001b[0mfeature_importances_\u001b[0m\u001b[0;34m[\u001b[0m\u001b[0msorted_idx\u001b[0m\u001b[0;34m]\u001b[0m\u001b[0;34m)\u001b[0m\u001b[0;34m\u001b[0m\u001b[0;34m\u001b[0m\u001b[0m\n\u001b[1;32m      4\u001b[0m \u001b[0mplt\u001b[0m\u001b[0;34m.\u001b[0m\u001b[0mxlabel\u001b[0m\u001b[0;34m(\u001b[0m\u001b[0;34m\"Random Forest Feature Importance\"\u001b[0m\u001b[0;34m)\u001b[0m\u001b[0;34m\u001b[0m\u001b[0;34m\u001b[0m\u001b[0m\n\u001b[1;32m      5\u001b[0m \u001b[0mprint\u001b[0m\u001b[0;34m(\u001b[0m\u001b[0mres_rf\u001b[0m\u001b[0;34m.\u001b[0m\u001b[0mbest_estimator_\u001b[0m\u001b[0;34m.\u001b[0m\u001b[0mfeature_importances_\u001b[0m\u001b[0;34m)\u001b[0m\u001b[0;34m\u001b[0m\u001b[0;34m\u001b[0m\u001b[0m\n",
      "\u001b[0;31mAttributeError\u001b[0m: 'Pipeline' object has no attribute 'feature_importances_'"
     ]
    }
   ],
   "source": [
    "importance=res_rf.best_estimator_.\n",
    "sorted_idx = res_rf.best_estimator_.feature_importances_.argsort()\n",
    "plt.barh(res_rf.feature_names_in_[sorted_idx], res_rf.best_estimator_.feature_importances_[sorted_idx])\n",
    "plt.xlabel(\"Random Forest Feature Importance\")\n",
    "print(res_rf.best_estimator_.feature_importances_)"
   ]
  },
  {
   "cell_type": "code",
   "execution_count": 150,
   "id": "5f3eecda-6ccd-4296-8a26-e6af61f962f6",
   "metadata": {
    "tags": []
   },
   "outputs": [],
   "source": [
    "from sklearn.inspection import permutation_importance\n",
    "perm_importance = permutation_importance(res_rf, x_test, y_test)"
   ]
  },
  {
   "cell_type": "code",
   "execution_count": 151,
   "id": "d1219270-eb37-4dac-9318-07c0ade2340a",
   "metadata": {},
   "outputs": [
    {
     "data": {
      "text/plain": [
       "<bound method Artist.get_in_layout of <Figure size 432x288 with 1 Axes>>"
      ]
     },
     "execution_count": 151,
     "metadata": {},
     "output_type": "execute_result"
    },
    {
     "data": {
      "image/png": "[encoded data removed]",
      "text/plain": [
       "<Figure size 432x288 with 1 Axes>"
      ]
     },
     "metadata": {},
     "output_type": "display_data"
    }
   ],
   "source": [
    "sorted_importances_idx = perm_importance.importances_mean.argsort()\n",
    "importances = pd.DataFrame(\n",
    "    perm_importance.importances[sorted_importances_idx].T,\n",
    "    columns=X.columns[sorted_importances_idx],\n",
    ")\n",
    "ax = importances.plot.box(vert=False, whis=10)\n",
    "ax.set_title(\"Permutation Importances (test set)\")\n",
    "ax.axvline(x=0, color=\"k\", linestyle=\"--\")\n",
    "ax.set_xlabel(\"Decrease in accuracy score\")\n",
    "ax.figure.get_in_layout"
   ]
  },
  {
   "cell_type": "code",
   "execution_count": 153,
   "id": "cb7fab7c-3b18-4114-a319-3c2b2fc95dcb",
   "metadata": {
    "tags": []
   },
   "outputs": [
    {
     "name": "stdout",
     "output_type": "stream",
     "text": [
      "RF train accuracy: 0.821\n",
      "RF test accuracy: 0.820\n"
     ]
    }
   ],
   "source": [
    "print(f\"RF train accuracy: {res_rf.score(x_train, y_train):.3f}\")\n",
    "print(f\"RF test accuracy: {res_rf.score(x_test, y_test):.3f}\")"
   ]
  },
  {
   "cell_type": "code",
   "execution_count": 26,
   "id": "f2f2b945-4731-4a3b-a71d-2339237d77b7",
   "metadata": {},
   "outputs": [],
   "source": [
    "y_pred=pd.DataFrame(y_pred)"
   ]
  },
  {
   "cell_type": "code",
   "execution_count": 27,
   "id": "7ca7c74b-2f21-4084-aa95-d280922d016f",
   "metadata": {},
   "outputs": [],
   "source": [
    "y_testv2=pd.DataFrame(y_test.index)"
   ]
  },
  {
   "cell_type": "code",
   "execution_count": 28,
   "id": "512a8588-14fa-4be3-b91a-a4c5307af48e",
   "metadata": {},
   "outputs": [],
   "source": [
    "y_predv2=pd.concat([y_pred,y_testv2],axis=1)"
   ]
  },
  {
   "cell_type": "code",
   "execution_count": 29,
   "id": "72122a66-792a-4b46-8268-942152e3437c",
   "metadata": {},
   "outputs": [],
   "source": [
    "y_predv2.columns=['preds','pred_index']"
   ]
  },
  {
   "cell_type": "code",
   "execution_count": 30,
   "id": "597e0d6f-56b1-4f7a-90fe-ed72eecd51d4",
   "metadata": {},
   "outputs": [
    {
     "data": {
      "text/html": [
       "<div>\n",
       "<style scoped>\n",
       "    .dataframe tbody tr th:only-of-type {\n",
       "        vertical-align: middle;\n",
       "    }\n",
       "\n",
       "    .dataframe tbody tr th {\n",
       "        vertical-align: top;\n",
       "    }\n",
       "\n",
       "    .dataframe thead th {\n",
       "        text-align: right;\n",
       "    }\n",
       "</style>\n",
       "<table border=\"1\" class=\"dataframe\">\n",
       "  <thead>\n",
       "    <tr style=\"text-align: right;\">\n",
       "      <th></th>\n",
       "      <th>preds</th>\n",
       "      <th>pred_index</th>\n",
       "    </tr>\n",
       "  </thead>\n",
       "  <tbody>\n",
       "    <tr>\n",
       "      <th>0</th>\n",
       "      <td>0.0</td>\n",
       "      <td>397541</td>\n",
       "    </tr>\n",
       "    <tr>\n",
       "      <th>1</th>\n",
       "      <td>1.0</td>\n",
       "      <td>152306</td>\n",
       "    </tr>\n",
       "    <tr>\n",
       "      <th>2</th>\n",
       "      <td>0.0</td>\n",
       "      <td>132635</td>\n",
       "    </tr>\n",
       "    <tr>\n",
       "      <th>3</th>\n",
       "      <td>0.0</td>\n",
       "      <td>256853</td>\n",
       "    </tr>\n",
       "    <tr>\n",
       "      <th>4</th>\n",
       "      <td>0.0</td>\n",
       "      <td>398917</td>\n",
       "    </tr>\n",
       "    <tr>\n",
       "      <th>...</th>\n",
       "      <td>...</td>\n",
       "      <td>...</td>\n",
       "    </tr>\n",
       "    <tr>\n",
       "      <th>81983</th>\n",
       "      <td>1.0</td>\n",
       "      <td>287686</td>\n",
       "    </tr>\n",
       "    <tr>\n",
       "      <th>81984</th>\n",
       "      <td>1.0</td>\n",
       "      <td>75841</td>\n",
       "    </tr>\n",
       "    <tr>\n",
       "      <th>81985</th>\n",
       "      <td>1.0</td>\n",
       "      <td>102085</td>\n",
       "    </tr>\n",
       "    <tr>\n",
       "      <th>81986</th>\n",
       "      <td>1.0</td>\n",
       "      <td>89015</td>\n",
       "    </tr>\n",
       "    <tr>\n",
       "      <th>81987</th>\n",
       "      <td>1.0</td>\n",
       "      <td>355649</td>\n",
       "    </tr>\n",
       "  </tbody>\n",
       "</table>\n",
       "<p>81988 rows × 2 columns</p>\n",
       "</div>"
      ],
      "text/plain": [
       "       preds  pred_index\n",
       "0        0.0      397541\n",
       "1        1.0      152306\n",
       "2        0.0      132635\n",
       "3        0.0      256853\n",
       "4        0.0      398917\n",
       "...      ...         ...\n",
       "81983    1.0      287686\n",
       "81984    1.0       75841\n",
       "81985    1.0      102085\n",
       "81986    1.0       89015\n",
       "81987    1.0      355649\n",
       "\n",
       "[81988 rows x 2 columns]"
      ]
     },
     "execution_count": 30,
     "metadata": {},
     "output_type": "execute_result"
    }
   ],
   "source": [
    "y_predv2"
   ]
  },
  {
   "cell_type": "code",
   "execution_count": 31,
   "id": "c79fbd92-83fd-4d1e-a050-987ab29fd33d",
   "metadata": {},
   "outputs": [],
   "source": [
    "df['pred_index']=df.index"
   ]
  },
  {
   "cell_type": "code",
   "execution_count": 32,
   "id": "8e3d5a25-5fcc-4663-9ccb-edd9f1c51cc5",
   "metadata": {},
   "outputs": [],
   "source": [
    "output=pd.merge(df,y_predv2,on='pred_index',how='left',indicator=True)"
   ]
  },
  {
   "cell_type": "code",
   "execution_count": 33,
   "id": "a11939c3-9343-46b6-8459-bfb5565f3978",
   "metadata": {},
   "outputs": [
    {
     "data": {
      "text/plain": [
       "left_only     327949\n",
       "both           81988\n",
       "right_only         0\n",
       "Name: _merge, dtype: int64"
      ]
     },
     "execution_count": 33,
     "metadata": {},
     "output_type": "execute_result"
    }
   ],
   "source": [
    "output['_merge'].value_counts()"
   ]
  },
  {
   "cell_type": "code",
   "execution_count": 34,
   "id": "c648fd7f-850a-40c0-9942-34d4027ccab5",
   "metadata": {},
   "outputs": [
    {
     "data": {
      "text/html": [
       "<div>\n",
       "<style scoped>\n",
       "    .dataframe tbody tr th:only-of-type {\n",
       "        vertical-align: middle;\n",
       "    }\n",
       "\n",
       "    .dataframe tbody tr th {\n",
       "        vertical-align: top;\n",
       "    }\n",
       "\n",
       "    .dataframe thead th {\n",
       "        text-align: right;\n",
       "    }\n",
       "</style>\n",
       "<table border=\"1\" class=\"dataframe\">\n",
       "  <thead>\n",
       "    <tr style=\"text-align: right;\">\n",
       "      <th></th>\n",
       "      <th>ponum</th>\n",
       "      <th>opid</th>\n",
       "      <th>orderdate</th>\n",
       "      <th>orderdatetimestamp</th>\n",
       "      <th>SupplierId</th>\n",
       "      <th>Dom_Int</th>\n",
       "      <th>MkcID</th>\n",
       "      <th>mkcname</th>\n",
       "      <th>shipclass</th>\n",
       "      <th>shipdate</th>\n",
       "      <th>...</th>\n",
       "      <th>ship_ontime_su</th>\n",
       "      <th>deliveredlate</th>\n",
       "      <th>ServiceLevel</th>\n",
       "      <th>OpcVol</th>\n",
       "      <th>OpcWeight</th>\n",
       "      <th>quantile_ship_to_first_movement</th>\n",
       "      <th>quantile_order_to_delivery_stated</th>\n",
       "      <th>pred_index</th>\n",
       "      <th>preds</th>\n",
       "      <th>_merge</th>\n",
       "    </tr>\n",
       "  </thead>\n",
       "  <tbody>\n",
       "    <tr>\n",
       "      <th>0</th>\n",
       "      <td>357554075</td>\n",
       "      <td>5989279065</td>\n",
       "      <td>2021-09-14</td>\n",
       "      <td>2021-09-14 09:21:27</td>\n",
       "      <td>42322</td>\n",
       "      <td>None</td>\n",
       "      <td>61</td>\n",
       "      <td>Furniture - Bedroom</td>\n",
       "      <td>3</td>\n",
       "      <td>2021-09-16 10:20:32</td>\n",
       "      <td>...</td>\n",
       "      <td>1</td>\n",
       "      <td>1.0</td>\n",
       "      <td>StANDard</td>\n",
       "      <td>NaN</td>\n",
       "      <td>NaN</td>\n",
       "      <td>2</td>\n",
       "      <td>5</td>\n",
       "      <td>1</td>\n",
       "      <td>NaN</td>\n",
       "      <td>left_only</td>\n",
       "    </tr>\n",
       "    <tr>\n",
       "      <th>1</th>\n",
       "      <td>357493345</td>\n",
       "      <td>5988565812</td>\n",
       "      <td>2021-09-13</td>\n",
       "      <td>2021-09-13 20:25:36</td>\n",
       "      <td>33529</td>\n",
       "      <td>None</td>\n",
       "      <td>61</td>\n",
       "      <td>Furniture - Bedroom</td>\n",
       "      <td>2</td>\n",
       "      <td>2021-09-15 18:06:03</td>\n",
       "      <td>...</td>\n",
       "      <td>1</td>\n",
       "      <td>1.0</td>\n",
       "      <td>StANDard</td>\n",
       "      <td>NaN</td>\n",
       "      <td>NaN</td>\n",
       "      <td>3</td>\n",
       "      <td>2</td>\n",
       "      <td>11</td>\n",
       "      <td>NaN</td>\n",
       "      <td>left_only</td>\n",
       "    </tr>\n",
       "    <tr>\n",
       "      <th>2</th>\n",
       "      <td>355333805</td>\n",
       "      <td>5965426421</td>\n",
       "      <td>2021-09-03</td>\n",
       "      <td>2021-09-03 07:25:51</td>\n",
       "      <td>27975</td>\n",
       "      <td>None</td>\n",
       "      <td>28</td>\n",
       "      <td>Rugs</td>\n",
       "      <td>2</td>\n",
       "      <td>2021-09-05 08:20:51</td>\n",
       "      <td>...</td>\n",
       "      <td>1</td>\n",
       "      <td>1.0</td>\n",
       "      <td>StANDard</td>\n",
       "      <td>NaN</td>\n",
       "      <td>NaN</td>\n",
       "      <td>3</td>\n",
       "      <td>5</td>\n",
       "      <td>12</td>\n",
       "      <td>0.0</td>\n",
       "      <td>both</td>\n",
       "    </tr>\n",
       "    <tr>\n",
       "      <th>3</th>\n",
       "      <td>357850108</td>\n",
       "      <td>5992185769</td>\n",
       "      <td>2021-09-15</td>\n",
       "      <td>2021-09-15 22:19:03</td>\n",
       "      <td>27743</td>\n",
       "      <td>None</td>\n",
       "      <td>62</td>\n",
       "      <td>Furniture - Kitchen and Dining</td>\n",
       "      <td>3</td>\n",
       "      <td>2021-09-16 03:26:20</td>\n",
       "      <td>...</td>\n",
       "      <td>0</td>\n",
       "      <td>1.0</td>\n",
       "      <td>StANDard</td>\n",
       "      <td>NaN</td>\n",
       "      <td>NaN</td>\n",
       "      <td>2</td>\n",
       "      <td>5</td>\n",
       "      <td>17</td>\n",
       "      <td>NaN</td>\n",
       "      <td>left_only</td>\n",
       "    </tr>\n",
       "    <tr>\n",
       "      <th>4</th>\n",
       "      <td>356533817</td>\n",
       "      <td>5977075156</td>\n",
       "      <td>2021-09-08</td>\n",
       "      <td>2021-09-08 01:47:52</td>\n",
       "      <td>27754</td>\n",
       "      <td>Domestic</td>\n",
       "      <td>22</td>\n",
       "      <td>Outdoor</td>\n",
       "      <td>2</td>\n",
       "      <td>2021-09-08 15:49:32</td>\n",
       "      <td>...</td>\n",
       "      <td>1</td>\n",
       "      <td>1.0</td>\n",
       "      <td>StANDard</td>\n",
       "      <td>NaN</td>\n",
       "      <td>NaN</td>\n",
       "      <td>3</td>\n",
       "      <td>1</td>\n",
       "      <td>56</td>\n",
       "      <td>NaN</td>\n",
       "      <td>left_only</td>\n",
       "    </tr>\n",
       "    <tr>\n",
       "      <th>...</th>\n",
       "      <td>...</td>\n",
       "      <td>...</td>\n",
       "      <td>...</td>\n",
       "      <td>...</td>\n",
       "      <td>...</td>\n",
       "      <td>...</td>\n",
       "      <td>...</td>\n",
       "      <td>...</td>\n",
       "      <td>...</td>\n",
       "      <td>...</td>\n",
       "      <td>...</td>\n",
       "      <td>...</td>\n",
       "      <td>...</td>\n",
       "      <td>...</td>\n",
       "      <td>...</td>\n",
       "      <td>...</td>\n",
       "      <td>...</td>\n",
       "      <td>...</td>\n",
       "      <td>...</td>\n",
       "      <td>...</td>\n",
       "      <td>...</td>\n",
       "    </tr>\n",
       "    <tr>\n",
       "      <th>409932</th>\n",
       "      <td>395008920</td>\n",
       "      <td>6410137892</td>\n",
       "      <td>2022-03-30</td>\n",
       "      <td>2022-03-30 18:07:03</td>\n",
       "      <td>62666</td>\n",
       "      <td>Domestic</td>\n",
       "      <td>31</td>\n",
       "      <td>Upholstery - Core</td>\n",
       "      <td>3</td>\n",
       "      <td>2022-03-31 13:19:22</td>\n",
       "      <td>...</td>\n",
       "      <td>1</td>\n",
       "      <td>1.0</td>\n",
       "      <td>StANDard</td>\n",
       "      <td>NaN</td>\n",
       "      <td>NaN</td>\n",
       "      <td>1</td>\n",
       "      <td>1</td>\n",
       "      <td>415074</td>\n",
       "      <td>1.0</td>\n",
       "      <td>both</td>\n",
       "    </tr>\n",
       "    <tr>\n",
       "      <th>409933</th>\n",
       "      <td>395119404</td>\n",
       "      <td>6367721969</td>\n",
       "      <td>2022-03-31</td>\n",
       "      <td>2022-03-31 13:03:34</td>\n",
       "      <td>33633</td>\n",
       "      <td>Domestic</td>\n",
       "      <td>31</td>\n",
       "      <td>Upholstery - Core</td>\n",
       "      <td>2</td>\n",
       "      <td>2022-04-02 07:37:23</td>\n",
       "      <td>...</td>\n",
       "      <td>1</td>\n",
       "      <td>1.0</td>\n",
       "      <td>StANDard</td>\n",
       "      <td>NaN</td>\n",
       "      <td>NaN</td>\n",
       "      <td>3</td>\n",
       "      <td>1</td>\n",
       "      <td>415075</td>\n",
       "      <td>NaN</td>\n",
       "      <td>left_only</td>\n",
       "    </tr>\n",
       "    <tr>\n",
       "      <th>409934</th>\n",
       "      <td>394842360</td>\n",
       "      <td>6405996859</td>\n",
       "      <td>2022-03-29</td>\n",
       "      <td>2022-03-29 18:08:54</td>\n",
       "      <td>52274</td>\n",
       "      <td>Domestic</td>\n",
       "      <td>43</td>\n",
       "      <td>Mattresses</td>\n",
       "      <td>3</td>\n",
       "      <td>2022-03-30 07:49:08</td>\n",
       "      <td>...</td>\n",
       "      <td>0</td>\n",
       "      <td>1.0</td>\n",
       "      <td>StANDard</td>\n",
       "      <td>NaN</td>\n",
       "      <td>NaN</td>\n",
       "      <td>1</td>\n",
       "      <td>2</td>\n",
       "      <td>415076</td>\n",
       "      <td>1.0</td>\n",
       "      <td>both</td>\n",
       "    </tr>\n",
       "    <tr>\n",
       "      <th>409935</th>\n",
       "      <td>394967538</td>\n",
       "      <td>6405915693</td>\n",
       "      <td>2022-03-30</td>\n",
       "      <td>2022-03-30 14:08:50</td>\n",
       "      <td>29492</td>\n",
       "      <td>Domestic</td>\n",
       "      <td>123</td>\n",
       "      <td>Plumbing - Vanities</td>\n",
       "      <td>3</td>\n",
       "      <td>2022-03-31 13:02:28</td>\n",
       "      <td>...</td>\n",
       "      <td>1</td>\n",
       "      <td>1.0</td>\n",
       "      <td>StANDard</td>\n",
       "      <td>NaN</td>\n",
       "      <td>NaN</td>\n",
       "      <td>1</td>\n",
       "      <td>1</td>\n",
       "      <td>415077</td>\n",
       "      <td>NaN</td>\n",
       "      <td>left_only</td>\n",
       "    </tr>\n",
       "    <tr>\n",
       "      <th>409936</th>\n",
       "      <td>395086313</td>\n",
       "      <td>6405465325</td>\n",
       "      <td>2022-03-31</td>\n",
       "      <td>2022-03-31 09:43:15</td>\n",
       "      <td>42282</td>\n",
       "      <td>Domestic</td>\n",
       "      <td>6</td>\n",
       "      <td>Wayfair</td>\n",
       "      <td>2</td>\n",
       "      <td>2022-03-31 23:43:44</td>\n",
       "      <td>...</td>\n",
       "      <td>1</td>\n",
       "      <td>1.0</td>\n",
       "      <td>StANDard</td>\n",
       "      <td>NaN</td>\n",
       "      <td>NaN</td>\n",
       "      <td>1</td>\n",
       "      <td>1</td>\n",
       "      <td>415078</td>\n",
       "      <td>1.0</td>\n",
       "      <td>both</td>\n",
       "    </tr>\n",
       "  </tbody>\n",
       "</table>\n",
       "<p>409937 rows × 38 columns</p>\n",
       "</div>"
      ],
      "text/plain": [
       "            ponum        opid   orderdate   orderdatetimestamp  SupplierId  \\\n",
       "0       357554075  5989279065  2021-09-14  2021-09-14 09:21:27       42322   \n",
       "1       357493345  5988565812  2021-09-13  2021-09-13 20:25:36       33529   \n",
       "2       355333805  5965426421  2021-09-03  2021-09-03 07:25:51       27975   \n",
       "3       357850108  5992185769  2021-09-15  2021-09-15 22:19:03       27743   \n",
       "4       356533817  5977075156  2021-09-08  2021-09-08 01:47:52       27754   \n",
       "...           ...         ...         ...                  ...         ...   \n",
       "409932  395008920  6410137892  2022-03-30  2022-03-30 18:07:03       62666   \n",
       "409933  395119404  6367721969  2022-03-31  2022-03-31 13:03:34       33633   \n",
       "409934  394842360  6405996859  2022-03-29  2022-03-29 18:08:54       52274   \n",
       "409935  394967538  6405915693  2022-03-30  2022-03-30 14:08:50       29492   \n",
       "409936  395086313  6405465325  2022-03-31  2022-03-31 09:43:15       42282   \n",
       "\n",
       "         Dom_Int  MkcID                         mkcname  shipclass  \\\n",
       "0           None     61             Furniture - Bedroom          3   \n",
       "1           None     61             Furniture - Bedroom          2   \n",
       "2           None     28                            Rugs          2   \n",
       "3           None     62  Furniture - Kitchen and Dining          3   \n",
       "4       Domestic     22                         Outdoor          2   \n",
       "...          ...    ...                             ...        ...   \n",
       "409932  Domestic     31               Upholstery - Core          3   \n",
       "409933  Domestic     31               Upholstery - Core          2   \n",
       "409934  Domestic     43                      Mattresses          3   \n",
       "409935  Domestic    123             Plumbing - Vanities          3   \n",
       "409936  Domestic      6                         Wayfair          2   \n",
       "\n",
       "                   shipdate  ... ship_ontime_su deliveredlate ServiceLevel  \\\n",
       "0       2021-09-16 10:20:32  ...              1           1.0     StANDard   \n",
       "1       2021-09-15 18:06:03  ...              1           1.0     StANDard   \n",
       "2       2021-09-05 08:20:51  ...              1           1.0     StANDard   \n",
       "3       2021-09-16 03:26:20  ...              0           1.0     StANDard   \n",
       "4       2021-09-08 15:49:32  ...              1           1.0     StANDard   \n",
       "...                     ...  ...            ...           ...          ...   \n",
       "409932  2022-03-31 13:19:22  ...              1           1.0     StANDard   \n",
       "409933  2022-04-02 07:37:23  ...              1           1.0     StANDard   \n",
       "409934  2022-03-30 07:49:08  ...              0           1.0     StANDard   \n",
       "409935  2022-03-31 13:02:28  ...              1           1.0     StANDard   \n",
       "409936  2022-03-31 23:43:44  ...              1           1.0     StANDard   \n",
       "\n",
       "        OpcVol OpcWeight quantile_ship_to_first_movement  \\\n",
       "0          NaN       NaN                               2   \n",
       "1          NaN       NaN                               3   \n",
       "2          NaN       NaN                               3   \n",
       "3          NaN       NaN                               2   \n",
       "4          NaN       NaN                               3   \n",
       "...        ...       ...                             ...   \n",
       "409932     NaN       NaN                               1   \n",
       "409933     NaN       NaN                               3   \n",
       "409934     NaN       NaN                               1   \n",
       "409935     NaN       NaN                               1   \n",
       "409936     NaN       NaN                               1   \n",
       "\n",
       "       quantile_order_to_delivery_stated pred_index preds     _merge  \n",
       "0                                      5          1   NaN  left_only  \n",
       "1                                      2         11   NaN  left_only  \n",
       "2                                      5         12   0.0       both  \n",
       "3                                      5         17   NaN  left_only  \n",
       "4                                      1         56   NaN  left_only  \n",
       "...                                  ...        ...   ...        ...  \n",
       "409932                                 1     415074   1.0       both  \n",
       "409933                                 1     415075   NaN  left_only  \n",
       "409934                                 2     415076   1.0       both  \n",
       "409935                                 1     415077   NaN  left_only  \n",
       "409936                                 1     415078   1.0       both  \n",
       "\n",
       "[409937 rows x 38 columns]"
      ]
     },
     "execution_count": 34,
     "metadata": {},
     "output_type": "execute_result"
    }
   ],
   "source": [
    "output"
   ]
  },
  {
   "cell_type": "code",
   "execution_count": 35,
   "id": "c36304e3-1498-4592-b783-edd4e960f511",
   "metadata": {},
   "outputs": [],
   "source": [
    "output.to_csv(r'delivered_late_prediction.csv')"
   ]
  },
  {
   "cell_type": "code",
   "execution_count": null,
   "id": "be2d07df-ac1d-401f-a961-ed8595a0cd17",
   "metadata": {},
   "outputs": [],
   "source": []
  }
 ],
 "metadata": {
  "environment": {
   "kernel": "python3",
   "name": "common-cpu.m93",
   "type": "gcloud",
   "uri": "gcr.io/deeplearning-platform-release/base-cpu:m93"
  },
  "kernelspec": {
   "display_name": "Python 3",
   "language": "python",
   "name": "python3"
  },
  "language_info": {
   "codemirror_mode": {
    "name": "ipython",
    "version": 3
   },
   "file_extension": ".py",
   "mimetype": "text/x-python",
   "name": "python",
   "nbconvert_exporter": "python",
   "pygments_lexer": "ipython3",
   "version": "3.7.12"
  }
 },
 "nbformat": 4,
 "nbformat_minor": 5
}
